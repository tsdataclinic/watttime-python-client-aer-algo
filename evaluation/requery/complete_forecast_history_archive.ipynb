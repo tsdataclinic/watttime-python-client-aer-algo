{
 "cells": [
  {
   "cell_type": "code",
   "execution_count": 1,
   "metadata": {},
   "outputs": [],
   "source": [
    "%reload_ext autoreload\n",
    "%autoreload 2\n",
    "\n",
    "import os\n",
    "\n",
    "os.chdir(f\"/home/{os.getlogin()}/watttime-python-client-aer-algo\")\n",
    "\n",
    "import math\n",
    "import numpy as np\n",
    "import pandas as pd\n",
    "import datetime\n",
    "import pytz\n",
    "import seaborn as sns\n",
    "from datetime import datetime, timedelta\n",
    "import concurrent.futures\n",
    "from itertools import product\n",
    "from tqdm import tqdm\n",
    "\n",
    "from watttime import WattTimeForecast, WattTimeHistorical\n",
    "\n",
    "import data.s3 as s3u\n",
    "import evaluation.eval_framework as efu\n",
    "\n",
    "username = os.getenv(\"WATTTIME_USER\")\n",
    "password = os.getenv(\"WATTTIME_PASSWORD\")\n",
    "\n",
    "actual_data = WattTimeHistorical(username, password)\n",
    "hist_data = WattTimeForecast(username, password)\n",
    "\n",
    "s3 = s3u.s3_utils()"
   ]
  },
  {
   "cell_type": "code",
   "execution_count": 2,
   "metadata": {},
   "outputs": [],
   "source": [
    "regions = [\n",
    " 'CAISO_NORTH',\n",
    " 'SPP_TX',\n",
    " 'ERCOT_EASTTX',\n",
    " 'FPL',\n",
    " 'SOCO',\n",
    " 'PJM_CHICAGO',\n",
    " 'LDWP',\n",
    " 'PJM_DC',\n",
    " 'NYISO_NYC'\n",
    "]"
   ]
  },
  {
   "cell_type": "code",
   "execution_count": 3,
   "metadata": {},
   "outputs": [],
   "source": [
    "dates_2023 = pd.date_range(start='2023-01-01', end='2023-12-31', freq='D')"
   ]
  },
  {
   "cell_type": "code",
   "execution_count": 4,
   "metadata": {},
   "outputs": [],
   "source": [
    "forecast_generator = WattTimeForecast(username, password)\n",
    "historical_generator = WattTimeHistorical(username, password)"
   ]
  },
  {
   "cell_type": "code",
   "execution_count": null,
   "metadata": {},
   "outputs": [
    {
     "name": "stdout",
     "output_type": "stream",
     "text": [
      "Getting 2023 actuals data for CAISO_NORTH\n"
     ]
    },
    {
     "name": "stderr",
     "output_type": "stream",
     "text": [
      "Processing forecast data for region CAISO_NORTH: 100%|██████████| 365/365 [00:02<00:00, 124.34it/s]\n"
     ]
    },
    {
     "name": "stdout",
     "output_type": "stream",
     "text": [
      "Successful S3 put_object response. Status - 200\n",
      "Wrote parquet file to s3\n",
      "Getting 2023 actuals data for SPP_TX\n"
     ]
    },
    {
     "name": "stderr",
     "output_type": "stream",
     "text": [
      "Processing forecast data for region SPP_TX: 100%|██████████| 365/365 [00:03<00:00, 106.94it/s]\n"
     ]
    },
    {
     "name": "stdout",
     "output_type": "stream",
     "text": [
      "Successful S3 put_object response. Status - 200\n",
      "Wrote parquet file to s3\n",
      "Getting 2023 actuals data for ERCOT_EASTTX\n"
     ]
    },
    {
     "name": "stderr",
     "output_type": "stream",
     "text": [
      "Processing forecast data for region ERCOT_EASTTX: 100%|██████████| 365/365 [00:03<00:00, 96.77it/s] \n"
     ]
    },
    {
     "name": "stdout",
     "output_type": "stream",
     "text": [
      "Successful S3 put_object response. Status - 200\n",
      "Wrote parquet file to s3\n",
      "Getting 2023 actuals data for FPL\n"
     ]
    },
    {
     "name": "stderr",
     "output_type": "stream",
     "text": [
      "Processing forecast data for region FPL: 100%|██████████| 365/365 [00:03<00:00, 107.26it/s]\n"
     ]
    },
    {
     "name": "stdout",
     "output_type": "stream",
     "text": [
      "Successful S3 put_object response. Status - 200\n",
      "Wrote parquet file to s3\n",
      "Getting 2023 actuals data for SOCO\n"
     ]
    },
    {
     "name": "stderr",
     "output_type": "stream",
     "text": [
      "Processing forecast data for region SOCO: 100%|██████████| 365/365 [00:03<00:00, 104.00it/s]\n"
     ]
    },
    {
     "name": "stdout",
     "output_type": "stream",
     "text": [
      "Successful S3 put_object response. Status - 200\n",
      "Wrote parquet file to s3\n",
      "Getting 2023 actuals data for PJM_CHICAGO\n"
     ]
    },
    {
     "name": "stderr",
     "output_type": "stream",
     "text": [
      "Processing forecast data for region PJM_CHICAGO: 100%|██████████| 365/365 [00:03<00:00, 105.80it/s]\n"
     ]
    },
    {
     "name": "stdout",
     "output_type": "stream",
     "text": [
      "Successful S3 put_object response. Status - 200\n",
      "Wrote parquet file to s3\n",
      "Getting 2023 actuals data for LDWP\n"
     ]
    },
    {
     "name": "stderr",
     "output_type": "stream",
     "text": [
      "Processing forecast data for region LDWP: 100%|██████████| 365/365 [00:03<00:00, 103.12it/s]\n"
     ]
    },
    {
     "name": "stdout",
     "output_type": "stream",
     "text": [
      "Successful S3 put_object response. Status - 200\n",
      "Wrote parquet file to s3\n",
      "Getting 2023 actuals data for PJM_DC\n"
     ]
    },
    {
     "name": "stderr",
     "output_type": "stream",
     "text": [
      "Processing forecast data for region PJM_DC: 100%|██████████| 365/365 [00:13<00:00, 26.10it/s]\n"
     ]
    },
    {
     "name": "stdout",
     "output_type": "stream",
     "text": [
      "Successful S3 put_object response. Status - 200\n",
      "Wrote parquet file to s3\n",
      "Getting 2023 actuals data for NYISO_NYC\n"
     ]
    },
    {
     "name": "stderr",
     "output_type": "stream",
     "text": [
      "Processing forecast data for region NYISO_NYC: 100%|██████████| 365/365 [00:04<00:00, 89.97it/s] \n"
     ]
    },
    {
     "name": "stdout",
     "output_type": "stream",
     "text": [
      "Successful S3 put_object response. Status - 200\n",
      "Wrote parquet file to s3\n"
     ]
    }
   ],
   "source": [
    "def get_daily_historical_data(date, region):\n",
    "    daily_data = historical_generator.get_historical_pandas(start = date,\n",
    "                                               end = date + timedelta(days = 1),\n",
    "                                               region = region,\n",
    "                                               signal_type=\"co2_moer\")\n",
    "    \n",
    "    daily_data[\"region\"] = region\n",
    "\n",
    "    return daily_data\n",
    "    \n",
    "for region in regions:\n",
    "    with concurrent.futures.ThreadPoolExecutor(max_workers=100) as executor:\n",
    "        print(f\"Getting 2023 actuals data for {region}\")\n",
    "\n",
    "        result = list(tqdm(\n",
    "            executor.map(lambda date: get_daily_historical_data(date, region), dates_2023),\n",
    "            total=len(dates_2023),\n",
    "            desc=f\"Processing forecast data for region {region}\"\n",
    "        ))\n",
    "    \n",
    "    out = pd.concat(result, ignore_index=True)\n",
    "    s3.store_parquetdataframe(out, f'complete_2023_actual_history/{region}.parquet')\n",
    "    print(\"Wrote parquet file to s3\")"
   ]
  },
  {
   "cell_type": "code",
   "execution_count": null,
   "metadata": {},
   "outputs": [
    {
     "name": "stdout",
     "output_type": "stream",
     "text": [
      "Getting 2023 data for CAISO_NORTH\n"
     ]
    },
    {
     "name": "stderr",
     "output_type": "stream",
     "text": [
      "Processing forecast data for region CAISO_NORTH:   0%|          | 0/365 [00:00<?, ?it/s]"
     ]
    },
    {
     "name": "stdout",
     "output_type": "stream",
     "text": [
      "\n",
      " Warnings Returned: {'region': 'CAISO_NORTH', 'signal_type': 'co2_moer', 'horizon_hours': 24, 'start': Timestamp('2023-01-19 00:00:00+0000', tz='UTC'), 'end': Timestamp('2023-01-20 00:00:00+0000', tz='UTC')} {'data_point_period_seconds': 300, 'region': 'CAISO_NORTH', 'signal_type': 'co2_moer', 'units': 'lbs_co2_per_mwh', 'warnings': [{'type': 'MISSING_DATA', 'message': 'You made a valid request, but we have some datapoints missing. This can happen for a variety of reasons. If the data is less than a week old, we will most likely fill in this data soon. If it is older than that, we are missing enough important grid data during this time period that we are not able to generate an accurate estimate'}], 'model': {'date': '2023-03-01'}, 'generated_at_period_seconds': 300}\n",
      "\n",
      " Warnings Returned: {'region': 'CAISO_NORTH', 'signal_type': 'co2_moer', 'horizon_hours': 24, 'start': Timestamp('2023-01-20 00:00:00+0000', tz='UTC'), 'end': Timestamp('2023-01-21 00:00:00+0000', tz='UTC')} {'data_point_period_seconds': 300, 'region': 'CAISO_NORTH', 'signal_type': 'co2_moer', 'units': 'lbs_co2_per_mwh', 'warnings': [{'type': 'MISSING_DATA', 'message': 'You made a valid request, but we have some datapoints missing. This can happen for a variety of reasons. If the data is less than a week old, we will most likely fill in this data soon. If it is older than that, we are missing enough important grid data during this time period that we are not able to generate an accurate estimate'}], 'model': {'date': '2023-03-01'}, 'generated_at_period_seconds': 300}\n",
      "\n",
      " Warnings Returned: {'region': 'CAISO_NORTH', 'signal_type': 'co2_moer', 'horizon_hours': 24, 'start': Timestamp('2023-01-29 00:00:00+0000', tz='UTC'), 'end': Timestamp('2023-01-30 00:00:00+0000', tz='UTC')} {'data_point_period_seconds': 300, 'region': 'CAISO_NORTH', 'signal_type': 'co2_moer', 'units': 'lbs_co2_per_mwh', 'warnings': [{'type': 'MISSING_DATA', 'message': 'You made a valid request, but we have some datapoints missing. This can happen for a variety of reasons. If the data is less than a week old, we will most likely fill in this data soon. If it is older than that, we are missing enough important grid data during this time period that we are not able to generate an accurate estimate'}], 'model': {'date': '2023-03-01'}, 'generated_at_period_seconds': 300}\n"
     ]
    },
    {
     "name": "stderr",
     "output_type": "stream",
     "text": [
      "Processing forecast data for region CAISO_NORTH:  25%|██▌       | 92/365 [03:26<05:18,  1.17s/it]   "
     ]
    },
    {
     "name": "stdout",
     "output_type": "stream",
     "text": [
      "\n",
      " Warnings Returned: {'region': 'CAISO_NORTH', 'signal_type': 'co2_moer', 'horizon_hours': 24, 'start': Timestamp('2023-05-24 00:00:00+0000', tz='UTC'), 'end': Timestamp('2023-05-25 00:00:00+0000', tz='UTC')} {'data_point_period_seconds': 300, 'region': 'CAISO_NORTH', 'signal_type': 'co2_moer', 'units': 'lbs_co2_per_mwh', 'warnings': [{'type': 'MISSING_DATA', 'message': 'You made a valid request, but we have some datapoints missing. This can happen for a variety of reasons. If the data is less than a week old, we will most likely fill in this data soon. If it is older than that, we are missing enough important grid data during this time period that we are not able to generate an accurate estimate'}], 'model': {'date': '2023-03-01'}, 'generated_at_period_seconds': 300}\n",
      "\n",
      " Warnings Returned: {'region': 'CAISO_NORTH', 'signal_type': 'co2_moer', 'horizon_hours': 24, 'start': Timestamp('2023-06-02 00:00:00+0000', tz='UTC'), 'end': Timestamp('2023-06-03 00:00:00+0000', tz='UTC')} {'data_point_period_seconds': 300, 'region': 'CAISO_NORTH', 'signal_type': 'co2_moer', 'units': 'lbs_co2_per_mwh', 'warnings': [{'type': 'MISSING_DATA', 'message': 'You made a valid request, but we have some datapoints missing. This can happen for a variety of reasons. If the data is less than a week old, we will most likely fill in this data soon. If it is older than that, we are missing enough important grid data during this time period that we are not able to generate an accurate estimate'}], 'model': {'date': '2023-03-01'}, 'generated_at_period_seconds': 300}\n"
     ]
    },
    {
     "name": "stderr",
     "output_type": "stream",
     "text": [
      "Processing forecast data for region CAISO_NORTH:  31%|███       | 112/365 [03:40<04:27,  1.06s/it]"
     ]
    },
    {
     "name": "stdout",
     "output_type": "stream",
     "text": [
      "\n",
      " Warnings Returned: {'region': 'CAISO_NORTH', 'signal_type': 'co2_moer', 'horizon_hours': 24, 'start': Timestamp('2023-07-03 00:00:00+0000', tz='UTC'), 'end': Timestamp('2023-07-04 00:00:00+0000', tz='UTC')} {'data_point_period_seconds': 300, 'region': 'CAISO_NORTH', 'signal_type': 'co2_moer', 'units': 'lbs_co2_per_mwh', 'warnings': [{'type': 'MISSING_DATA', 'message': 'You made a valid request, but we have some datapoints missing. This can happen for a variety of reasons. If the data is less than a week old, we will most likely fill in this data soon. If it is older than that, we are missing enough important grid data during this time period that we are not able to generate an accurate estimate'}], 'model': {'date': '2023-03-01'}, 'generated_at_period_seconds': 300}\n"
     ]
    },
    {
     "name": "stderr",
     "output_type": "stream",
     "text": [
      "Processing forecast data for region CAISO_NORTH:  40%|████      | 147/365 [05:59<07:37,  2.10s/it]"
     ]
    },
    {
     "name": "stdout",
     "output_type": "stream",
     "text": [
      "\n",
      " Warnings Returned: {'region': 'CAISO_NORTH', 'signal_type': 'co2_moer', 'horizon_hours': 24, 'start': Timestamp('2023-09-03 00:00:00+0000', tz='UTC'), 'end': Timestamp('2023-09-04 00:00:00+0000', tz='UTC')} {'data_point_period_seconds': 300, 'region': 'CAISO_NORTH', 'signal_type': 'co2_moer', 'units': 'lbs_co2_per_mwh', 'warnings': [{'type': 'MISSING_DATA', 'message': 'You made a valid request, but we have some datapoints missing. This can happen for a variety of reasons. If the data is less than a week old, we will most likely fill in this data soon. If it is older than that, we are missing enough important grid data during this time period that we are not able to generate an accurate estimate'}], 'model': {'date': '2023-03-01'}, 'generated_at_period_seconds': 300}\n"
     ]
    },
    {
     "name": "stderr",
     "output_type": "stream",
     "text": [
      "Processing forecast data for region CAISO_NORTH: 100%|██████████| 365/365 [09:47<00:00,  1.61s/it]\n"
     ]
    },
    {
     "name": "stdout",
     "output_type": "stream",
     "text": [
      "Successful S3 put_object response. Status - 200\n",
      "Wrote parquet file to s3\n",
      "Getting 2023 data for SPP_TX\n"
     ]
    },
    {
     "name": "stderr",
     "output_type": "stream",
     "text": [
      "Processing forecast data for region SPP_TX:   0%|          | 0/365 [00:00<?, ?it/s]"
     ]
    },
    {
     "name": "stdout",
     "output_type": "stream",
     "text": [
      "\n",
      " Warnings Returned: {'region': 'SPP_TX', 'signal_type': 'co2_moer', 'horizon_hours': 24, 'start': Timestamp('2023-01-20 00:00:00+0000', tz='UTC'), 'end': Timestamp('2023-01-21 00:00:00+0000', tz='UTC')} {'data_point_period_seconds': 300, 'region': 'SPP_TX', 'signal_type': 'co2_moer', 'units': 'lbs_co2_per_mwh', 'warnings': [{'type': 'MISSING_DATA', 'message': 'You made a valid request, but we have some datapoints missing. This can happen for a variety of reasons. If the data is less than a week old, we will most likely fill in this data soon. If it is older than that, we are missing enough important grid data during this time period that we are not able to generate an accurate estimate'}], 'model': {'date': '2023-03-01'}, 'generated_at_period_seconds': 300}\n",
      "\n",
      " Warnings Returned: {'region': 'SPP_TX', 'signal_type': 'co2_moer', 'horizon_hours': 24, 'start': Timestamp('2023-01-19 00:00:00+0000', tz='UTC'), 'end': Timestamp('2023-01-20 00:00:00+0000', tz='UTC')} {'data_point_period_seconds': 300, 'region': 'SPP_TX', 'signal_type': 'co2_moer', 'units': 'lbs_co2_per_mwh', 'warnings': [{'type': 'MISSING_DATA', 'message': 'You made a valid request, but we have some datapoints missing. This can happen for a variety of reasons. If the data is less than a week old, we will most likely fill in this data soon. If it is older than that, we are missing enough important grid data during this time period that we are not able to generate an accurate estimate'}], 'model': {'date': '2023-03-01'}, 'generated_at_period_seconds': 300}\n"
     ]
    },
    {
     "name": "stderr",
     "output_type": "stream",
     "text": [
      "Processing forecast data for region SPP_TX:  30%|██▉       | 108/365 [03:21<01:42,  2.50it/s]  "
     ]
    },
    {
     "name": "stdout",
     "output_type": "stream",
     "text": [
      "\n",
      " Warnings Returned: {'region': 'SPP_TX', 'signal_type': 'co2_moer', 'horizon_hours': 24, 'start': Timestamp('2023-05-24 00:00:00+0000', tz='UTC'), 'end': Timestamp('2023-05-25 00:00:00+0000', tz='UTC')} {'data_point_period_seconds': 300, 'region': 'SPP_TX', 'signal_type': 'co2_moer', 'units': 'lbs_co2_per_mwh', 'warnings': [{'type': 'MISSING_DATA', 'message': 'You made a valid request, but we have some datapoints missing. This can happen for a variety of reasons. If the data is less than a week old, we will most likely fill in this data soon. If it is older than that, we are missing enough important grid data during this time period that we are not able to generate an accurate estimate'}], 'model': {'date': '2023-03-01'}, 'generated_at_period_seconds': 300}\n",
      "\n",
      " Warnings Returned: {'region': 'SPP_TX', 'signal_type': 'co2_moer', 'horizon_hours': 24, 'start': Timestamp('2023-07-03 00:00:00+0000', tz='UTC'), 'end': Timestamp('2023-07-04 00:00:00+0000', tz='UTC')} {'data_point_period_seconds': 300, 'region': 'SPP_TX', 'signal_type': 'co2_moer', 'units': 'lbs_co2_per_mwh', 'warnings': [{'type': 'MISSING_DATA', 'message': 'You made a valid request, but we have some datapoints missing. This can happen for a variety of reasons. If the data is less than a week old, we will most likely fill in this data soon. If it is older than that, we are missing enough important grid data during this time period that we are not able to generate an accurate estimate'}], 'model': {'date': '2023-03-01'}, 'generated_at_period_seconds': 300}\n"
     ]
    },
    {
     "name": "stderr",
     "output_type": "stream",
     "text": [
      "Processing forecast data for region SPP_TX:  30%|██▉       | 108/365 [03:36<01:42,  2.50it/s]"
     ]
    },
    {
     "name": "stdout",
     "output_type": "stream",
     "text": [
      "\n",
      " Warnings Returned: {'region': 'SPP_TX', 'signal_type': 'co2_moer', 'horizon_hours': 24, 'start': Timestamp('2023-06-02 00:00:00+0000', tz='UTC'), 'end': Timestamp('2023-06-03 00:00:00+0000', tz='UTC')} {'data_point_period_seconds': 300, 'region': 'SPP_TX', 'signal_type': 'co2_moer', 'units': 'lbs_co2_per_mwh', 'warnings': [{'type': 'MISSING_DATA', 'message': 'You made a valid request, but we have some datapoints missing. This can happen for a variety of reasons. If the data is less than a week old, we will most likely fill in this data soon. If it is older than that, we are missing enough important grid data during this time period that we are not able to generate an accurate estimate'}], 'model': {'date': '2023-03-01'}, 'generated_at_period_seconds': 300}\n"
     ]
    },
    {
     "name": "stderr",
     "output_type": "stream",
     "text": [
      "Processing forecast data for region SPP_TX: 100%|██████████| 365/365 [09:52<00:00,  1.62s/it]\n"
     ]
    },
    {
     "name": "stdout",
     "output_type": "stream",
     "text": [
      "Successful S3 put_object response. Status - 200\n",
      "Wrote parquet file to s3\n",
      "Getting 2023 data for ERCOT_EASTTX\n"
     ]
    },
    {
     "name": "stderr",
     "output_type": "stream",
     "text": [
      "Processing forecast data for region ERCOT_EASTTX:   0%|          | 0/365 [00:00<?, ?it/s]"
     ]
    },
    {
     "name": "stdout",
     "output_type": "stream",
     "text": [
      "\n",
      " Warnings Returned: {'region': 'ERCOT_EASTTX', 'signal_type': 'co2_moer', 'horizon_hours': 24, 'start': Timestamp('2023-01-20 00:00:00+0000', tz='UTC'), 'end': Timestamp('2023-01-21 00:00:00+0000', tz='UTC')} {'data_point_period_seconds': 300, 'region': 'ERCOT_EASTTX', 'signal_type': 'co2_moer', 'units': 'lbs_co2_per_mwh', 'warnings': [{'type': 'MISSING_DATA', 'message': 'You made a valid request, but we have some datapoints missing. This can happen for a variety of reasons. If the data is less than a week old, we will most likely fill in this data soon. If it is older than that, we are missing enough important grid data during this time period that we are not able to generate an accurate estimate'}], 'model': {'date': '2023-03-01'}, 'generated_at_period_seconds': 300}\n",
      "\n",
      " Warnings Returned: {'region': 'ERCOT_EASTTX', 'signal_type': 'co2_moer', 'horizon_hours': 24, 'start': Timestamp('2023-01-19 00:00:00+0000', tz='UTC'), 'end': Timestamp('2023-01-20 00:00:00+0000', tz='UTC')} {'data_point_period_seconds': 300, 'region': 'ERCOT_EASTTX', 'signal_type': 'co2_moer', 'units': 'lbs_co2_per_mwh', 'warnings': [{'type': 'MISSING_DATA', 'message': 'You made a valid request, but we have some datapoints missing. This can happen for a variety of reasons. If the data is less than a week old, we will most likely fill in this data soon. If it is older than that, we are missing enough important grid data during this time period that we are not able to generate an accurate estimate'}], 'model': {'date': '2023-03-01'}, 'generated_at_period_seconds': 300}\n"
     ]
    },
    {
     "name": "stderr",
     "output_type": "stream",
     "text": [
      "Processing forecast data for region ERCOT_EASTTX:   7%|▋         | 27/365 [02:59<18:44,  3.33s/it]   "
     ]
    },
    {
     "name": "stdout",
     "output_type": "stream",
     "text": [
      "\n",
      " Warnings Returned: {'region': 'ERCOT_EASTTX', 'signal_type': 'co2_moer', 'horizon_hours': 24, 'start': Timestamp('2023-06-02 00:00:00+0000', tz='UTC'), 'end': Timestamp('2023-06-03 00:00:00+0000', tz='UTC')} {'data_point_period_seconds': 300, 'region': 'ERCOT_EASTTX', 'signal_type': 'co2_moer', 'units': 'lbs_co2_per_mwh', 'warnings': [{'type': 'MISSING_DATA', 'message': 'You made a valid request, but we have some datapoints missing. This can happen for a variety of reasons. If the data is less than a week old, we will most likely fill in this data soon. If it is older than that, we are missing enough important grid data during this time period that we are not able to generate an accurate estimate'}], 'model': {'date': '2023-03-01'}, 'generated_at_period_seconds': 300}\n",
      "\n",
      " Warnings Returned: {'region': 'ERCOT_EASTTX', 'signal_type': 'co2_moer', 'horizon_hours': 24, 'start': Timestamp('2023-07-03 00:00:00+0000', tz='UTC'), 'end': Timestamp('2023-07-04 00:00:00+0000', tz='UTC')} {'data_point_period_seconds': 300, 'region': 'ERCOT_EASTTX', 'signal_type': 'co2_moer', 'units': 'lbs_co2_per_mwh', 'warnings': [{'type': 'MISSING_DATA', 'message': 'You made a valid request, but we have some datapoints missing. This can happen for a variety of reasons. If the data is less than a week old, we will most likely fill in this data soon. If it is older than that, we are missing enough important grid data during this time period that we are not able to generate an accurate estimate'}], 'model': {'date': '2023-03-01'}, 'generated_at_period_seconds': 300}\n"
     ]
    },
    {
     "name": "stderr",
     "output_type": "stream",
     "text": [
      "Processing forecast data for region ERCOT_EASTTX: 100%|██████████| 365/365 [09:49<00:00,  1.62s/it]\n"
     ]
    },
    {
     "name": "stdout",
     "output_type": "stream",
     "text": [
      "Successful S3 put_object response. Status - 200\n",
      "Wrote parquet file to s3\n",
      "Getting 2023 data for FPL\n"
     ]
    },
    {
     "name": "stderr",
     "output_type": "stream",
     "text": [
      "Processing forecast data for region FPL:  11%|█         | 41/365 [03:00<07:24,  1.37s/it]   "
     ]
    },
    {
     "name": "stdout",
     "output_type": "stream",
     "text": [
      "\n",
      " Warnings Returned: {'region': 'FPL', 'signal_type': 'co2_moer', 'horizon_hours': 24, 'start': Timestamp('2023-06-02 00:00:00+0000', tz='UTC'), 'end': Timestamp('2023-06-03 00:00:00+0000', tz='UTC')} {'data_point_period_seconds': 300, 'region': 'FPL', 'signal_type': 'co2_moer', 'units': 'lbs_co2_per_mwh', 'warnings': [{'type': 'MISSING_DATA', 'message': 'You made a valid request, but we have some datapoints missing. This can happen for a variety of reasons. If the data is less than a week old, we will most likely fill in this data soon. If it is older than that, we are missing enough important grid data during this time period that we are not able to generate an accurate estimate'}], 'model': {'date': '2022-10-01'}, 'generated_at_period_seconds': 300}\n",
      "\n",
      " Warnings Returned: {'region': 'FPL', 'signal_type': 'co2_moer', 'horizon_hours': 24, 'start': Timestamp('2023-07-03 00:00:00+0000', tz='UTC'), 'end': Timestamp('2023-07-04 00:00:00+0000', tz='UTC')} {'data_point_period_seconds': 300, 'region': 'FPL', 'signal_type': 'co2_moer', 'units': 'lbs_co2_per_mwh', 'warnings': [{'type': 'MISSING_DATA', 'message': 'You made a valid request, but we have some datapoints missing. This can happen for a variety of reasons. If the data is less than a week old, we will most likely fill in this data soon. If it is older than that, we are missing enough important grid data during this time period that we are not able to generate an accurate estimate'}], 'model': {'date': '2022-10-01'}, 'generated_at_period_seconds': 300}\n"
     ]
    },
    {
     "name": "stderr",
     "output_type": "stream",
     "text": [
      "Processing forecast data for region FPL:  45%|████▍     | 164/365 [05:40<01:25,  2.36it/s]"
     ]
    },
    {
     "name": "stdout",
     "output_type": "stream",
     "text": [
      "\n",
      " Warnings Returned: {'region': 'FPL', 'signal_type': 'co2_moer', 'horizon_hours': 24, 'start': Timestamp('2023-09-03 00:00:00+0000', tz='UTC'), 'end': Timestamp('2023-09-04 00:00:00+0000', tz='UTC')} {'data_point_period_seconds': 300, 'region': 'FPL', 'signal_type': 'co2_moer', 'units': 'lbs_co2_per_mwh', 'warnings': [{'type': 'MISSING_DATA', 'message': 'You made a valid request, but we have some datapoints missing. This can happen for a variety of reasons. If the data is less than a week old, we will most likely fill in this data soon. If it is older than that, we are missing enough important grid data during this time period that we are not able to generate an accurate estimate'}], 'model': {'date': '2022-10-01'}, 'generated_at_period_seconds': 300}\n"
     ]
    },
    {
     "name": "stderr",
     "output_type": "stream",
     "text": [
      "Processing forecast data for region FPL:  57%|█████▋    | 208/365 [06:59<10:18,  3.94s/it]"
     ]
    },
    {
     "name": "stdout",
     "output_type": "stream",
     "text": [
      "\n",
      " Warnings Returned: {'region': 'FPL', 'signal_type': 'co2_moer', 'horizon_hours': 24, 'start': Timestamp('2023-11-03 00:00:00+0000', tz='UTC'), 'end': Timestamp('2023-11-04 00:00:00+0000', tz='UTC')} {'data_point_period_seconds': 300, 'region': 'FPL', 'signal_type': 'co2_moer', 'units': 'lbs_co2_per_mwh', 'warnings': [{'type': 'MISSING_DATA', 'message': 'You made a valid request, but we have some datapoints missing. This can happen for a variety of reasons. If the data is less than a week old, we will most likely fill in this data soon. If it is older than that, we are missing enough important grid data during this time period that we are not able to generate an accurate estimate'}], 'model': {'date': '2022-10-01'}, 'generated_at_period_seconds': 300}\n"
     ]
    },
    {
     "name": "stderr",
     "output_type": "stream",
     "text": [
      "Processing forecast data for region FPL: 100%|██████████| 365/365 [09:45<00:00,  1.60s/it]\n"
     ]
    },
    {
     "name": "stdout",
     "output_type": "stream",
     "text": [
      "Successful S3 put_object response. Status - 200\n",
      "Wrote parquet file to s3\n",
      "Getting 2023 data for SOCO\n"
     ]
    },
    {
     "name": "stderr",
     "output_type": "stream",
     "text": [
      "Processing forecast data for region SOCO:   0%|          | 0/365 [00:00<?, ?it/s]"
     ]
    }
   ],
   "source": [
    "def get_daily_forecast_data(date, region, horizon = 24):\n",
    "    daily_data = forecast_generator.get_historical_forecast_pandas(\n",
    "                start=date, \n",
    "                end=date + timedelta(days = 1),\n",
    "                region=region,\n",
    "                signal_type=\"co2_moer\",\n",
    "                horizon_hours=horizon,\n",
    "            )\n",
    "    daily_data[\"region\"] = region\n",
    "\n",
    "    return daily_data\n",
    "\n",
    "\n",
    "for region in regions:\n",
    "    with concurrent.futures.ThreadPoolExecutor(max_workers=100) as executor:\n",
    "        print(f\"Getting 2023 data for {region}\")\n",
    "\n",
    "        result = list(tqdm(\n",
    "            executor.map(lambda date: get_daily_forecast_data(date, region), dates_2023),\n",
    "            total=len(dates_2023),\n",
    "            desc=f\"Processing forecast data for region {region}\"\n",
    "        ))\n",
    "    \n",
    "    out = pd.concat(result, ignore_index=True)\n",
    "    s3.store_parquetdataframe(out, f'complete_2023_forecast_history/{region}.parquet')\n",
    "    print(\"Wrote parquet file to s3\")"
   ]
  }
 ],
 "metadata": {
  "kernelspec": {
   "display_name": ".venv",
   "language": "python",
   "name": "python3"
  },
  "language_info": {
   "codemirror_mode": {
    "name": "ipython",
    "version": 3
   },
   "file_extension": ".py",
   "mimetype": "text/x-python",
   "name": "python",
   "nbconvert_exporter": "python",
   "pygments_lexer": "ipython3",
   "version": "3.9.16"
  }
 },
 "nbformat": 4,
 "nbformat_minor": 2
}
