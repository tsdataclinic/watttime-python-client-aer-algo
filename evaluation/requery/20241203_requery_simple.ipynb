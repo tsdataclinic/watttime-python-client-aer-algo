{
 "cells": [
  {
   "cell_type": "markdown",
   "metadata": {},
   "source": [
    "# With Synthetic Data"
   ]
  },
  {
   "cell_type": "code",
   "execution_count": 1,
   "metadata": {},
   "outputs": [],
   "source": [
    "import os\n",
    "PATH = os.getenv(\"HOME\")\n",
    "os.chdir(f\"{PATH}/watttime-python-client-aer-algo\")\n",
    "\n",
    "import pandas as pd\n",
    "import evaluation.eval_framework as evu\n",
    "from datetime import datetime\n",
    "\n",
    "import seaborn as sns\n",
    "import evaluation.metrics as m\n",
    "\n",
    "username = os.getenv(\"WATTTIME_USER\")\n",
    "password = os.getenv(\"WATTTIME_PASSWORD\")\n"
   ]
  },
  {
   "cell_type": "code",
   "execution_count": 19,
   "metadata": {},
   "outputs": [],
   "source": [
    "from datetime import timedelta"
   ]
  },
  {
   "cell_type": "code",
   "execution_count": 2,
   "metadata": {},
   "outputs": [],
   "source": [
    "import random\n",
    "import math\n",
    "from watttime import WattTimeForecast, WattTimeHistorical\n",
    "import data.s3 as s3u"
   ]
  },
  {
   "cell_type": "code",
   "execution_count": 3,
   "metadata": {},
   "outputs": [],
   "source": [
    "s3 = s3u.s3_utils()"
   ]
  },
  {
   "cell_type": "markdown",
   "metadata": {},
   "source": [
    "## Analysis Details\n",
    "- 2024 dates only\n",
    "- 1000 users\n",
    "- sanity check on 9 current regions + 9 randomly selected other regions\n",
    "- set of requery increments to test: none, 5,15,60,180\n",
    "- charging windows of lengths 3,6,12 hours\n",
    "- Charge needed at least 45 minutes (25% of smallest window)"
   ]
  },
  {
   "cell_type": "markdown",
   "metadata": {},
   "source": [
    "### Regions"
   ]
  },
  {
   "cell_type": "code",
   "execution_count": 4,
   "metadata": {},
   "outputs": [],
   "source": [
    "original_regions = [\n",
    "    \"SPP_TX\",\n",
    "    \"ERCOT_EASTTX\",\n",
    "    \"FPL\",\n",
    "    \"SOCO\",\n",
    "    \"PJM_CHICAGO\",\n",
    "    \"LDWP\",\n",
    "    \"PJM_DC\",\n",
    "    \"NYISO_NYC\",\n",
    "]\n",
    "\n",
    "#from evaluation.config import MOER_REGION_LIST\n",
    "#random_regions = random.sample([elem for elem in MOER_REGION_LIST if elem not in regions], 9)\n",
    "\n",
    "random_regions = [\n",
    "    'PACE',\n",
    "    'PNM',\n",
    "    'MISO_INDIANAPOLIS',\n",
    "    'WALC',\n",
    "    'SPP_FORTPECK',\n",
    "    'SPP_KANSAS',\n",
    "    'AECI',\n",
    "    'BANC',\n",
    "    'PJM_SOUTHWEST_OH'\n",
    "]\n",
    "\n",
    "regions = original_regions+random_regions"
   ]
  },
  {
   "cell_type": "code",
   "execution_count": 5,
   "metadata": {},
   "outputs": [],
   "source": [
    "df_req = s3.load_csvdataframe(\"requery_data/20241203_1k_synth_users_96_days.csv\")"
   ]
  },
  {
   "cell_type": "code",
   "execution_count": 6,
   "metadata": {},
   "outputs": [
    {
     "data": {
      "text/plain": [
       "<Axes: ylabel='Frequency'>"
      ]
     },
     "execution_count": 6,
     "metadata": {},
     "output_type": "execute_result"
    },
    {
     "data": {
      "image/png": "[encoded data removed]",
      "text/plain": [
       "<Figure size 640x480 with 1 Axes>"
      ]
     },
     "metadata": {},
     "output_type": "display_data"
    }
   ],
   "source": [
    "df_req.usage_time_required_minutes.plot(kind='hist')"
   ]
  },
  {
   "cell_type": "code",
   "execution_count": 8,
   "metadata": {},
   "outputs": [],
   "source": [
    "forecast_generator = WattTimeForecast(username, password)\n",
    "historical_generator = WattTimeHistorical(username, password)"
   ]
  },
  {
   "cell_type": "markdown",
   "metadata": {},
   "source": [
    "### Single test"
   ]
  },
  {
   "cell_type": "code",
   "execution_count": 37,
   "metadata": {},
   "outputs": [
    {
     "data": {
      "text/plain": [
       "<module 'evaluation.eval_framework' from '/home/jennifer.badolato/watttime-python-client-aer-algo/evaluation/eval_framework.py'>"
      ]
     },
     "execution_count": 37,
     "metadata": {},
     "output_type": "execute_result"
    }
   ],
   "source": [
    "import importlib\n",
    "importlib.reload(evu)"
   ]
  },
  {
   "cell_type": "code",
   "execution_count": 7,
   "metadata": {},
   "outputs": [],
   "source": [
    "def sanitize_time_needed(x,y):\n",
    "    return int(math.ceil(min(x, y) / 300.0) * 5)\n",
    "\n",
    "def sanitize_total_intervals(x):\n",
    "    return math.ceil(x)"
   ]
  },
  {
   "cell_type": "code",
   "execution_count": 8,
   "metadata": {},
   "outputs": [],
   "source": [
    "optimization_method = \"auto\"\n",
    "requery_intervals = [5,15,60,180]\n",
    "region = \"PJM_SOUTHWEST_OH\"\n",
    "\n",
    "full_forecast = s3.load_parquetdataframe(\n",
    "    f\"complete_2024_forecast_history/{region}.parquet\"\n",
    ").drop_duplicates()\n",
    "full_forecast[\"point_time\"] = pd.to_datetime(\n",
    "    full_forecast[\"point_time\"], utc=True\n",
    ")\n",
    "full_history = s3.load_parquetdataframe(\n",
    "    f\"complete_2024_actual_history/{region}.parquet\"\n",
    ").drop_duplicates()"
   ]
  },
  {
   "cell_type": "code",
   "execution_count": 9,
   "metadata": {},
   "outputs": [],
   "source": [
    "# Sanitize input data\n",
    "df_req[\"sanitize_intervals_plugged_in\"] = df_req.apply(lambda x: sanitize_total_intervals(x.total_intervals_plugged_in), axis=1)\n",
    "df_req[\"sanitize_time_needed\"] = df_req.apply(lambda x: sanitize_time_needed(x.total_seconds_to_95, x.length_of_session_in_seconds), axis=1)"
   ]
  },
  {
   "cell_type": "code",
   "execution_count": 12,
   "metadata": {},
   "outputs": [],
   "source": [
    "synth_data = df_req.tail(10).copy()"
   ]
  },
  {
   "cell_type": "code",
   "execution_count": 13,
   "metadata": {},
   "outputs": [],
   "source": [
    "synth_data.session_start_time = pd.to_datetime(synth_data.session_start_time)\n",
    "synth_data.session_end_time = pd.to_datetime(synth_data.session_end_time)"
   ]
  },
  {
   "cell_type": "code",
   "execution_count": 14,
   "metadata": {},
   "outputs": [
    {
     "data": {
      "text/html": [
       "<div>\n",
       "<style scoped>\n",
       "    .dataframe tbody tr th:only-of-type {\n",
       "        vertical-align: middle;\n",
       "    }\n",
       "\n",
       "    .dataframe tbody tr th {\n",
       "        vertical-align: top;\n",
       "    }\n",
       "\n",
       "    .dataframe thead th {\n",
       "        text-align: right;\n",
       "    }\n",
       "</style>\n",
       "<table border=\"1\" class=\"dataframe\">\n",
       "  <thead>\n",
       "    <tr style=\"text-align: right;\">\n",
       "      <th></th>\n",
       "      <th>63678</th>\n",
       "    </tr>\n",
       "  </thead>\n",
       "  <tbody>\n",
       "    <tr>\n",
       "      <th>index</th>\n",
       "      <td>86</td>\n",
       "    </tr>\n",
       "    <tr>\n",
       "      <th>distinct_dates</th>\n",
       "      <td>2024-10-28</td>\n",
       "    </tr>\n",
       "    <tr>\n",
       "      <th>user_type</th>\n",
       "      <td>r33.5325_tc113_avglc28597_sdlc7455_contFalse</td>\n",
       "    </tr>\n",
       "    <tr>\n",
       "      <th>session_start_time</th>\n",
       "      <td>2024-10-28 07:27:11</td>\n",
       "    </tr>\n",
       "    <tr>\n",
       "      <th>session_end_time</th>\n",
       "      <td>2024-10-28 10:27:11</td>\n",
       "    </tr>\n",
       "    <tr>\n",
       "      <th>initial_charge</th>\n",
       "      <td>0.500079</td>\n",
       "    </tr>\n",
       "    <tr>\n",
       "      <th>total_seconds_to_95</th>\n",
       "      <td>5458.218019</td>\n",
       "    </tr>\n",
       "    <tr>\n",
       "      <th>full_charge_time</th>\n",
       "      <td>2024-10-28 08:58:09.218018653</td>\n",
       "    </tr>\n",
       "    <tr>\n",
       "      <th>length_of_session_in_seconds</th>\n",
       "      <td>10800.0</td>\n",
       "    </tr>\n",
       "    <tr>\n",
       "      <th>charged_kWh_actual</th>\n",
       "      <td>50.841027</td>\n",
       "    </tr>\n",
       "    <tr>\n",
       "      <th>final_perc_charged</th>\n",
       "      <td>0.95</td>\n",
       "    </tr>\n",
       "    <tr>\n",
       "      <th>final_charge_time</th>\n",
       "      <td>2024-10-28 08:58:09.218018653</td>\n",
       "    </tr>\n",
       "    <tr>\n",
       "      <th>uncharged</th>\n",
       "      <td>False</td>\n",
       "    </tr>\n",
       "    <tr>\n",
       "      <th>total_capacity</th>\n",
       "      <td>113</td>\n",
       "    </tr>\n",
       "    <tr>\n",
       "      <th>power_output_rate</th>\n",
       "      <td>33.5325</td>\n",
       "    </tr>\n",
       "    <tr>\n",
       "      <th>total_intervals_plugged_in</th>\n",
       "      <td>36.0</td>\n",
       "    </tr>\n",
       "    <tr>\n",
       "      <th>charge_MWh_needed</th>\n",
       "      <td>0.050841</td>\n",
       "    </tr>\n",
       "    <tr>\n",
       "      <th>charged_MWh_actual</th>\n",
       "      <td>0.050841</td>\n",
       "    </tr>\n",
       "    <tr>\n",
       "      <th>MWh_fraction</th>\n",
       "      <td>0.002794</td>\n",
       "    </tr>\n",
       "    <tr>\n",
       "      <th>usage_time_required_minutes</th>\n",
       "      <td>91.0</td>\n",
       "    </tr>\n",
       "    <tr>\n",
       "      <th>contiguous_block</th>\n",
       "      <td>False</td>\n",
       "    </tr>\n",
       "    <tr>\n",
       "      <th>charge_per_interval</th>\n",
       "      <td>NaN</td>\n",
       "    </tr>\n",
       "    <tr>\n",
       "      <th>sanitize_intervals_plugged_in</th>\n",
       "      <td>36</td>\n",
       "    </tr>\n",
       "    <tr>\n",
       "      <th>sanitize_time_needed</th>\n",
       "      <td>95</td>\n",
       "    </tr>\n",
       "  </tbody>\n",
       "</table>\n",
       "</div>"
      ],
      "text/plain": [
       "                                                                      63678\n",
       "index                                                                    86\n",
       "distinct_dates                                                   2024-10-28\n",
       "user_type                      r33.5325_tc113_avglc28597_sdlc7455_contFalse\n",
       "session_start_time                                      2024-10-28 07:27:11\n",
       "session_end_time                                        2024-10-28 10:27:11\n",
       "initial_charge                                                     0.500079\n",
       "total_seconds_to_95                                             5458.218019\n",
       "full_charge_time                              2024-10-28 08:58:09.218018653\n",
       "length_of_session_in_seconds                                        10800.0\n",
       "charged_kWh_actual                                                50.841027\n",
       "final_perc_charged                                                     0.95\n",
       "final_charge_time                             2024-10-28 08:58:09.218018653\n",
       "uncharged                                                             False\n",
       "total_capacity                                                          113\n",
       "power_output_rate                                                   33.5325\n",
       "total_intervals_plugged_in                                             36.0\n",
       "charge_MWh_needed                                                  0.050841\n",
       "charged_MWh_actual                                                 0.050841\n",
       "MWh_fraction                                                       0.002794\n",
       "usage_time_required_minutes                                            91.0\n",
       "contiguous_block                                                      False\n",
       "charge_per_interval                                                     NaN\n",
       "sanitize_intervals_plugged_in                                            36\n",
       "sanitize_time_needed                                                     95"
      ]
     },
     "execution_count": 14,
     "metadata": {},
     "output_type": "execute_result"
    }
   ],
   "source": [
    "synth_data.head(1).T"
   ]
  },
  {
   "cell_type": "code",
   "execution_count": 17,
   "metadata": {},
   "outputs": [],
   "source": [
    "time_zone = evu.get_timezone_from_dict(region)                    \n",
    "start_time = pd.Timestamp(evu.convert_to_utc(synth_data.iloc[0]['session_start_time'].round('5min') , time_zone))\n",
    "end_time = pd.Timestamp(evu.convert_to_utc(synth_data.iloc[0]['session_end_time'].round('5min'), time_zone))\n",
    "time_needed = synth_data.iloc[0][\"sanitize_time_needed\"]\n",
    "usage_power_kw = synth_data.iloc[0][\"power_output_rate\"]"
   ]
  },
  {
   "cell_type": "code",
   "execution_count": 48,
   "metadata": {},
   "outputs": [],
   "source": [
    "from watttime.api import RecalculatingWattTimeOptimizer, WattTimeOptimizer"
   ]
  },
  {
   "cell_type": "code",
   "execution_count": 50,
   "metadata": {},
   "outputs": [],
   "source": [
    "wt_opt_rc = RecalculatingWattTimeOptimizer(\n",
    "    region=region,\n",
    "    watttime_username=username,\n",
    "    watttime_password=password,\n",
    "    usage_time_required_minutes=time_needed,\n",
    "    usage_power_kw=usage_power_kw,\n",
    "    optimization_method=optimization_method,\n",
    ")\n",
    "\n",
    "wt_opt = WattTimeOptimizer(username, password)"
   ]
  },
  {
   "cell_type": "code",
   "execution_count": 51,
   "metadata": {},
   "outputs": [],
   "source": [
    "all_relevant_forecasts = full_forecast.set_index(\"generated_at\")[\n",
    "    start_time - timedelta(minutes=5) : end_time\n",
    "].reset_index()\n",
    "all_relevant_forecasts = all_relevant_forecasts.set_index(\"generated_at\")[\n",
    "    start_time - timedelta(minutes=5) : end_time\n",
    "]"
   ]
  },
  {
   "cell_type": "code",
   "execution_count": 52,
   "metadata": {},
   "outputs": [],
   "source": [
    "inc_times = pd.date_range(\n",
    "            all_relevant_forecasts.index.min(),\n",
    "            all_relevant_forecasts.index.max(),\n",
    "            freq=timedelta(minutes=60),\n",
    "        )"
   ]
  },
  {
   "cell_type": "code",
   "execution_count": 53,
   "metadata": {},
   "outputs": [],
   "source": [
    "moer_list = [\n",
    "            all_relevant_forecasts.loc[timestamp].reset_index()\n",
    "            for timestamp in inc_times\n",
    "        ]"
   ]
  },
  {
   "cell_type": "code",
   "execution_count": 54,
   "metadata": {},
   "outputs": [],
   "source": [
    "new_start_time = start_time"
   ]
  },
  {
   "cell_type": "code",
   "execution_count": 58,
   "metadata": {},
   "outputs": [
    {
     "data": {
      "text/plain": [
       "Timestamp('2024-10-28 11:25:00+0000', tz='UTC')"
      ]
     },
     "execution_count": 58,
     "metadata": {},
     "output_type": "execute_result"
    }
   ],
   "source": [
    "new_start_time"
   ]
  },
  {
   "cell_type": "code",
   "execution_count": 41,
   "metadata": {},
   "outputs": [
    {
     "ename": "IndexError",
     "evalue": "invalid index to scalar variable.",
     "output_type": "error",
     "traceback": [
      "\u001b[0;31m---------------------------------------------------------------------------\u001b[0m",
      "\u001b[0;31mIndexError\u001b[0m                                Traceback (most recent call last)",
      "Cell \u001b[0;32mIn[41], line 4\u001b[0m\n\u001b[1;32m      2\u001b[0m new_start_time \u001b[38;5;241m=\u001b[39m pd\u001b[38;5;241m.\u001b[39mTimestamp(curr_fcst_data[\u001b[38;5;124m\"\u001b[39m\u001b[38;5;124mpoint_time\u001b[39m\u001b[38;5;124m\"\u001b[39m]\u001b[38;5;241m.\u001b[39mmin())\n\u001b[1;32m      3\u001b[0m \u001b[38;5;28;01mwhile\u001b[39;00m new_start_time \u001b[38;5;241m<\u001b[39m end_time:\n\u001b[0;32m----> 4\u001b[0m     \u001b[43mwt_opt_rc\u001b[49m\u001b[38;5;241;43m.\u001b[39;49m\u001b[43mget_new_schedule\u001b[49m\u001b[43m(\u001b[49m\n\u001b[1;32m      5\u001b[0m \u001b[43m        \u001b[49m\u001b[43mnew_start_time\u001b[49m\u001b[38;5;241;43m=\u001b[39;49m\u001b[43mnew_start_time\u001b[49m\u001b[43m,\u001b[49m\n\u001b[1;32m      6\u001b[0m \u001b[43m        \u001b[49m\u001b[43mnew_end_time\u001b[49m\u001b[38;5;241;43m=\u001b[39;49m\u001b[43mend_time\u001b[49m\u001b[43m,\u001b[49m\n\u001b[1;32m      7\u001b[0m \u001b[43m        \u001b[49m\u001b[43mcurr_fcst_data\u001b[49m\u001b[38;5;241;43m=\u001b[39;49m\u001b[43mcurr_fcst_data\u001b[49m\u001b[43m,\u001b[49m\n\u001b[1;32m      8\u001b[0m \u001b[43m    \u001b[49m\u001b[43m)\u001b[49m\n",
      "File \u001b[0;32m~/watttime-python-client-aer-algo/watttime/api.py:1134\u001b[0m, in \u001b[0;36mRecalculatingWattTimeOptimizer.get_new_schedule\u001b[0;34m(self, new_start_time, new_end_time, curr_fcst_data)\u001b[0m\n\u001b[1;32m   1128\u001b[0m \u001b[38;5;28;01mdef\u001b[39;00m \u001b[38;5;21mget_new_schedule\u001b[39m(\n\u001b[1;32m   1129\u001b[0m     \u001b[38;5;28mself\u001b[39m,\n\u001b[1;32m   1130\u001b[0m     new_start_time: datetime,\n\u001b[1;32m   1131\u001b[0m     new_end_time: datetime,\n\u001b[1;32m   1132\u001b[0m     curr_fcst_data: pd\u001b[38;5;241m.\u001b[39mDataFrame \u001b[38;5;241m=\u001b[39m \u001b[38;5;28;01mNone\u001b[39;00m,\n\u001b[1;32m   1133\u001b[0m ) \u001b[38;5;241m-\u001b[39m\u001b[38;5;241m>\u001b[39m pd\u001b[38;5;241m.\u001b[39mDataFrame:\n\u001b[0;32m-> 1134\u001b[0m     schedule, ctx \u001b[38;5;241m=\u001b[39m \u001b[38;5;28;43mself\u001b[39;49m\u001b[38;5;241;43m.\u001b[39;49m\u001b[43m_get_new_schedule\u001b[49m\u001b[43m(\u001b[49m\n\u001b[1;32m   1135\u001b[0m \u001b[43m        \u001b[49m\u001b[43mnew_start_time\u001b[49m\u001b[43m,\u001b[49m\u001b[43m \u001b[49m\u001b[43mnew_end_time\u001b[49m\u001b[43m,\u001b[49m\u001b[43m \u001b[49m\u001b[43mcurr_fcst_data\u001b[49m\n\u001b[1;32m   1136\u001b[0m \u001b[43m    \u001b[49m\u001b[43m)\u001b[49m\n\u001b[1;32m   1138\u001b[0m     \u001b[38;5;28mself\u001b[39m\u001b[38;5;241m.\u001b[39m_set_last_schedule_end_time(ctx[\u001b[38;5;241m0\u001b[39m])\n\u001b[1;32m   1139\u001b[0m     \u001b[38;5;28mself\u001b[39m\u001b[38;5;241m.\u001b[39mall_schedules\u001b[38;5;241m.\u001b[39mappend((schedule, ctx))\n",
      "File \u001b[0;32m~/watttime-python-client-aer-algo/watttime/api.py:1114\u001b[0m, in \u001b[0;36mRecalculatingWattTimeOptimizer._get_new_schedule\u001b[0;34m(self, new_start_time, new_end_time, curr_fcst_data, charge_per_interval)\u001b[0m\n\u001b[1;32m   1111\u001b[0m new_schedule_start_time \u001b[38;5;241m=\u001b[39m curr_fcst_data[\u001b[38;5;124m\"\u001b[39m\u001b[38;5;124mpoint_time\u001b[39m\u001b[38;5;124m\"\u001b[39m]\u001b[38;5;241m.\u001b[39miloc[\u001b[38;5;241m0\u001b[39m]\n\u001b[1;32m   1113\u001b[0m \u001b[38;5;66;03m# Generate new schedule\u001b[39;00m\n\u001b[0;32m-> 1114\u001b[0m new_schedule \u001b[38;5;241m=\u001b[39m \u001b[38;5;28;43mself\u001b[39;49m\u001b[38;5;241;43m.\u001b[39;49m\u001b[43mwt_opt\u001b[49m\u001b[38;5;241;43m.\u001b[39;49m\u001b[43mget_optimal_usage_plan\u001b[49m\u001b[43m(\u001b[49m\n\u001b[1;32m   1115\u001b[0m \u001b[43m    \u001b[49m\u001b[38;5;28;43mself\u001b[39;49m\u001b[38;5;241;43m.\u001b[39;49m\u001b[43mregion\u001b[49m\u001b[43m,\u001b[49m\n\u001b[1;32m   1116\u001b[0m \u001b[43m    \u001b[49m\u001b[43mnew_start_time\u001b[49m\u001b[43m \u001b[49m\u001b[38;5;241;43m-\u001b[39;49m\u001b[43m \u001b[49m\u001b[43mtimedelta\u001b[49m\u001b[43m(\u001b[49m\u001b[43mminutes\u001b[49m\u001b[38;5;241;43m=\u001b[39;49m\u001b[43mOPT_INTERVAL\u001b[49m\u001b[43m)\u001b[49m\u001b[43m,\u001b[49m\n\u001b[1;32m   1117\u001b[0m \u001b[43m    \u001b[49m\u001b[43mnew_end_time\u001b[49m\u001b[43m,\u001b[49m\n\u001b[1;32m   1118\u001b[0m \u001b[43m    \u001b[49m\u001b[38;5;28;43mself\u001b[39;49m\u001b[38;5;241;43m.\u001b[39;49m\u001b[43m_get_remaining_time_required\u001b[49m\u001b[43m(\u001b[49m\u001b[43mnew_schedule_start_time\u001b[49m\u001b[43m)\u001b[49m\u001b[43m,\u001b[49m\n\u001b[1;32m   1119\u001b[0m \u001b[43m    \u001b[49m\u001b[38;5;28;43mself\u001b[39;49m\u001b[38;5;241;43m.\u001b[39;49m\u001b[43musage_power_kw\u001b[49m\u001b[43m,\u001b[49m\n\u001b[1;32m   1120\u001b[0m \u001b[43m    \u001b[49m\u001b[43moptimization_method\u001b[49m\u001b[38;5;241;43m=\u001b[39;49m\u001b[38;5;28;43mself\u001b[39;49m\u001b[38;5;241;43m.\u001b[39;49m\u001b[43moptimization_method\u001b[49m\u001b[43m,\u001b[49m\n\u001b[1;32m   1121\u001b[0m \u001b[43m    \u001b[49m\u001b[43mmoer_data_override\u001b[49m\u001b[38;5;241;43m=\u001b[39;49m\u001b[43mcurr_fcst_data\u001b[49m\u001b[43m,\u001b[49m\n\u001b[1;32m   1122\u001b[0m \u001b[43m    \u001b[49m\u001b[43mcharge_per_interval\u001b[49m\u001b[38;5;241;43m=\u001b[39;49m\u001b[43mcharge_per_interval\u001b[49m\u001b[43m,\u001b[49m\n\u001b[1;32m   1123\u001b[0m \u001b[43m\u001b[49m\u001b[43m)\u001b[49m\n\u001b[1;32m   1124\u001b[0m new_schedule_ctx \u001b[38;5;241m=\u001b[39m (new_schedule_start_time, new_end_time)\n\u001b[1;32m   1126\u001b[0m \u001b[38;5;28;01mreturn\u001b[39;00m new_schedule, new_schedule_ctx\n",
      "File \u001b[0;32m~/watttime-python-client-aer-algo/watttime/api.py:754\u001b[0m, in \u001b[0;36mWattTimeOptimizer.get_optimal_usage_plan\u001b[0;34m(self, region, usage_window_start, usage_window_end, usage_time_required_minutes, usage_power_kw, energy_required_kwh, usage_time_uncertainty_minutes, charge_per_interval, use_all_intervals, constraints, optimization_method, moer_data_override)\u001b[0m\n\u001b[1;32m    750\u001b[0m     emission_multiplier_fn \u001b[38;5;241m=\u001b[39m (\n\u001b[1;32m    751\u001b[0m         \u001b[38;5;28;01mlambda\u001b[39;00m sc, ec: \u001b[38;5;28mfloat\u001b[39m(usage_power_kw) \u001b[38;5;241m*\u001b[39m \u001b[38;5;241m0.001\u001b[39m \u001b[38;5;241m*\u001b[39m \u001b[38;5;28mself\u001b[39m\u001b[38;5;241m.\u001b[39mOPT_INTERVAL \u001b[38;5;241m/\u001b[39m \u001b[38;5;241m60.0\u001b[39m\n\u001b[1;32m    752\u001b[0m     )\n\u001b[1;32m    753\u001b[0m \u001b[38;5;28;01melse\u001b[39;00m:\n\u001b[0;32m--> 754\u001b[0m     usage_power_kw[\u001b[38;5;124m\"\u001b[39m\u001b[38;5;124mtime_step\u001b[39m\u001b[38;5;124m\"\u001b[39m] \u001b[38;5;241m=\u001b[39m \u001b[43musage_power_kw\u001b[49m\u001b[43m[\u001b[49m\u001b[38;5;124;43m\"\u001b[39;49m\u001b[38;5;124;43mtime\u001b[39;49m\u001b[38;5;124;43m\"\u001b[39;49m\u001b[43m]\u001b[49m \u001b[38;5;241m/\u001b[39m \u001b[38;5;28mself\u001b[39m\u001b[38;5;241m.\u001b[39mOPT_INTERVAL\n\u001b[1;32m    755\u001b[0m     usage_power_kw_new_index \u001b[38;5;241m=\u001b[39m pd\u001b[38;5;241m.\u001b[39mDataFrame(\n\u001b[1;32m    756\u001b[0m         index\u001b[38;5;241m=\u001b[39m\u001b[38;5;28mlist\u001b[39m([\u001b[38;5;28mfloat\u001b[39m(x) \u001b[38;5;28;01mfor\u001b[39;00m x \u001b[38;5;129;01min\u001b[39;00m \u001b[38;5;28mrange\u001b[39m(total_charge_units \u001b[38;5;241m+\u001b[39m \u001b[38;5;241m1\u001b[39m)])\n\u001b[1;32m    757\u001b[0m     )\n\u001b[1;32m    758\u001b[0m     usage_power_kw \u001b[38;5;241m=\u001b[39m pd\u001b[38;5;241m.\u001b[39mmerge_asof(\n\u001b[1;32m    759\u001b[0m         usage_power_kw_new_index,\n\u001b[1;32m    760\u001b[0m         usage_power_kw\u001b[38;5;241m.\u001b[39mset_index(\u001b[38;5;124m\"\u001b[39m\u001b[38;5;124mtime_step\u001b[39m\u001b[38;5;124m\"\u001b[39m),\n\u001b[0;32m   (...)\u001b[0m\n\u001b[1;32m    764\u001b[0m         allow_exact_matches\u001b[38;5;241m=\u001b[39m\u001b[38;5;28;01mTrue\u001b[39;00m,\n\u001b[1;32m    765\u001b[0m     )\n",
      "\u001b[0;31mIndexError\u001b[0m: invalid index to scalar variable."
     ]
    }
   ],
   "source": [
    "for curr_fcst_data in moer_list:\n",
    "    new_start_time = pd.Timestamp(curr_fcst_data[\"point_time\"].min())\n",
    "    while new_start_time < end_time:\n",
    "        wt_opt_rc.get_new_schedule(\n",
    "            new_start_time=new_start_time,\n",
    "            new_end_time=end_time,\n",
    "            curr_fcst_data=curr_fcst_data,\n",
    "        )"
   ]
  },
  {
   "cell_type": "code",
   "execution_count": 55,
   "metadata": {},
   "outputs": [],
   "source": [
    "curr_fcst_data[\"point_time\"] = pd.to_datetime(curr_fcst_data[\"point_time\"])\n",
    "curr_fcst_data = curr_fcst_data[curr_fcst_data[\"point_time\"] >= new_start_time]\n",
    "new_schedule_start_time = curr_fcst_data[\"point_time\"].iloc[0]"
   ]
  },
  {
   "cell_type": "code",
   "execution_count": 56,
   "metadata": {},
   "outputs": [
    {
     "data": {
      "text/html": [
       "<div>\n",
       "<style scoped>\n",
       "    .dataframe tbody tr th:only-of-type {\n",
       "        vertical-align: middle;\n",
       "    }\n",
       "\n",
       "    .dataframe tbody tr th {\n",
       "        vertical-align: top;\n",
       "    }\n",
       "\n",
       "    .dataframe thead th {\n",
       "        text-align: right;\n",
       "    }\n",
       "</style>\n",
       "<table border=\"1\" class=\"dataframe\">\n",
       "  <thead>\n",
       "    <tr style=\"text-align: right;\">\n",
       "      <th></th>\n",
       "      <th>generated_at</th>\n",
       "      <th>point_time</th>\n",
       "      <th>value</th>\n",
       "      <th>region</th>\n",
       "    </tr>\n",
       "  </thead>\n",
       "  <tbody>\n",
       "    <tr>\n",
       "      <th>1</th>\n",
       "      <td>2024-10-28 11:20:00+00:00</td>\n",
       "      <td>2024-10-28 11:25:00+00:00</td>\n",
       "      <td>1205.6</td>\n",
       "      <td>PJM_SOUTHWEST_OH</td>\n",
       "    </tr>\n",
       "    <tr>\n",
       "      <th>2</th>\n",
       "      <td>2024-10-28 11:20:00+00:00</td>\n",
       "      <td>2024-10-28 11:30:00+00:00</td>\n",
       "      <td>1205.5</td>\n",
       "      <td>PJM_SOUTHWEST_OH</td>\n",
       "    </tr>\n",
       "    <tr>\n",
       "      <th>3</th>\n",
       "      <td>2024-10-28 11:20:00+00:00</td>\n",
       "      <td>2024-10-28 11:35:00+00:00</td>\n",
       "      <td>1206.2</td>\n",
       "      <td>PJM_SOUTHWEST_OH</td>\n",
       "    </tr>\n",
       "    <tr>\n",
       "      <th>4</th>\n",
       "      <td>2024-10-28 11:20:00+00:00</td>\n",
       "      <td>2024-10-28 11:40:00+00:00</td>\n",
       "      <td>1207.3</td>\n",
       "      <td>PJM_SOUTHWEST_OH</td>\n",
       "    </tr>\n",
       "    <tr>\n",
       "      <th>5</th>\n",
       "      <td>2024-10-28 11:20:00+00:00</td>\n",
       "      <td>2024-10-28 11:45:00+00:00</td>\n",
       "      <td>1208.0</td>\n",
       "      <td>PJM_SOUTHWEST_OH</td>\n",
       "    </tr>\n",
       "  </tbody>\n",
       "</table>\n",
       "</div>"
      ],
      "text/plain": [
       "               generated_at                point_time   value  \\\n",
       "1 2024-10-28 11:20:00+00:00 2024-10-28 11:25:00+00:00  1205.6   \n",
       "2 2024-10-28 11:20:00+00:00 2024-10-28 11:30:00+00:00  1205.5   \n",
       "3 2024-10-28 11:20:00+00:00 2024-10-28 11:35:00+00:00  1206.2   \n",
       "4 2024-10-28 11:20:00+00:00 2024-10-28 11:40:00+00:00  1207.3   \n",
       "5 2024-10-28 11:20:00+00:00 2024-10-28 11:45:00+00:00  1208.0   \n",
       "\n",
       "             region  \n",
       "1  PJM_SOUTHWEST_OH  \n",
       "2  PJM_SOUTHWEST_OH  \n",
       "3  PJM_SOUTHWEST_OH  \n",
       "4  PJM_SOUTHWEST_OH  \n",
       "5  PJM_SOUTHWEST_OH  "
      ]
     },
     "execution_count": 56,
     "metadata": {},
     "output_type": "execute_result"
    }
   ],
   "source": [
    "curr_fcst_data.head()"
   ]
  },
  {
   "cell_type": "code",
   "execution_count": 61,
   "metadata": {},
   "outputs": [
    {
     "ename": "IndexError",
     "evalue": "invalid index to scalar variable.",
     "output_type": "error",
     "traceback": [
      "\u001b[0;31m---------------------------------------------------------------------------\u001b[0m",
      "\u001b[0;31mIndexError\u001b[0m                                Traceback (most recent call last)",
      "Cell \u001b[0;32mIn[61], line 1\u001b[0m\n\u001b[0;32m----> 1\u001b[0m new_schedule \u001b[38;5;241m=\u001b[39m \u001b[43mwt_opt\u001b[49m\u001b[38;5;241;43m.\u001b[39;49m\u001b[43mget_optimal_usage_plan\u001b[49m\u001b[43m(\u001b[49m\n\u001b[1;32m      2\u001b[0m \u001b[43m    \u001b[49m\u001b[43mregion\u001b[49m\u001b[43m \u001b[49m\u001b[38;5;241;43m=\u001b[39;49m\u001b[43m \u001b[49m\u001b[43mregion\u001b[49m\u001b[43m,\u001b[49m\n\u001b[1;32m      3\u001b[0m \u001b[43m    \u001b[49m\u001b[43musage_window_start\u001b[49m\u001b[43m \u001b[49m\u001b[38;5;241;43m=\u001b[39;49m\u001b[43m \u001b[49m\u001b[43mnew_start_time\u001b[49m\u001b[43m \u001b[49m\u001b[38;5;241;43m-\u001b[39;49m\u001b[43m \u001b[49m\u001b[43mtimedelta\u001b[49m\u001b[43m(\u001b[49m\u001b[43mminutes\u001b[49m\u001b[38;5;241;43m=\u001b[39;49m\u001b[38;5;241;43m5\u001b[39;49m\u001b[43m)\u001b[49m\u001b[43m,\u001b[49m\n\u001b[1;32m      4\u001b[0m \u001b[43m    \u001b[49m\u001b[43musage_window_end\u001b[49m\u001b[43m \u001b[49m\u001b[38;5;241;43m=\u001b[39;49m\u001b[43m \u001b[49m\u001b[43mend_time\u001b[49m\u001b[43m,\u001b[49m\n\u001b[1;32m      5\u001b[0m \u001b[43m    \u001b[49m\u001b[43musage_time_required_minutes\u001b[49m\u001b[43m \u001b[49m\u001b[38;5;241;43m=\u001b[39;49m\u001b[43m \u001b[49m\u001b[43mtime_needed\u001b[49m\u001b[43m,\u001b[49m\n\u001b[1;32m      6\u001b[0m \u001b[43m    \u001b[49m\u001b[43musage_power_kw\u001b[49m\u001b[43m \u001b[49m\u001b[38;5;241;43m=\u001b[39;49m\u001b[43m \u001b[49m\u001b[43musage_power_kw\u001b[49m\u001b[43m,\u001b[49m\n\u001b[1;32m      7\u001b[0m \u001b[43m    \u001b[49m\u001b[43moptimization_method\u001b[49m\u001b[43m \u001b[49m\u001b[38;5;241;43m=\u001b[39;49m\u001b[43m \u001b[49m\u001b[43moptimization_method\u001b[49m\u001b[43m,\u001b[49m\n\u001b[1;32m      8\u001b[0m \u001b[43m    \u001b[49m\u001b[43mmoer_data_override\u001b[49m\u001b[38;5;241;43m=\u001b[39;49m\u001b[43mcurr_fcst_data\u001b[49m\u001b[43m,\u001b[49m\n\u001b[1;32m      9\u001b[0m \u001b[43m    \u001b[49m\u001b[43mcharge_per_interval\u001b[49m\u001b[38;5;241;43m=\u001b[39;49m\u001b[38;5;28;43;01mNone\u001b[39;49;00m\u001b[43m,\u001b[49m\n\u001b[1;32m     10\u001b[0m \u001b[43m)\u001b[49m\n",
      "File \u001b[0;32m~/watttime-python-client-aer-algo/watttime/api.py:754\u001b[0m, in \u001b[0;36mWattTimeOptimizer.get_optimal_usage_plan\u001b[0;34m(self, region, usage_window_start, usage_window_end, usage_time_required_minutes, usage_power_kw, energy_required_kwh, usage_time_uncertainty_minutes, charge_per_interval, use_all_intervals, constraints, optimization_method, moer_data_override)\u001b[0m\n\u001b[1;32m    750\u001b[0m     emission_multiplier_fn \u001b[38;5;241m=\u001b[39m (\n\u001b[1;32m    751\u001b[0m         \u001b[38;5;28;01mlambda\u001b[39;00m sc, ec: \u001b[38;5;28mfloat\u001b[39m(usage_power_kw) \u001b[38;5;241m*\u001b[39m \u001b[38;5;241m0.001\u001b[39m \u001b[38;5;241m*\u001b[39m \u001b[38;5;28mself\u001b[39m\u001b[38;5;241m.\u001b[39mOPT_INTERVAL \u001b[38;5;241m/\u001b[39m \u001b[38;5;241m60.0\u001b[39m\n\u001b[1;32m    752\u001b[0m     )\n\u001b[1;32m    753\u001b[0m \u001b[38;5;28;01melse\u001b[39;00m:\n\u001b[0;32m--> 754\u001b[0m     usage_power_kw[\u001b[38;5;124m\"\u001b[39m\u001b[38;5;124mtime_step\u001b[39m\u001b[38;5;124m\"\u001b[39m] \u001b[38;5;241m=\u001b[39m \u001b[43musage_power_kw\u001b[49m\u001b[43m[\u001b[49m\u001b[38;5;124;43m\"\u001b[39;49m\u001b[38;5;124;43mtime\u001b[39;49m\u001b[38;5;124;43m\"\u001b[39;49m\u001b[43m]\u001b[49m \u001b[38;5;241m/\u001b[39m \u001b[38;5;28mself\u001b[39m\u001b[38;5;241m.\u001b[39mOPT_INTERVAL\n\u001b[1;32m    755\u001b[0m     usage_power_kw_new_index \u001b[38;5;241m=\u001b[39m pd\u001b[38;5;241m.\u001b[39mDataFrame(\n\u001b[1;32m    756\u001b[0m         index\u001b[38;5;241m=\u001b[39m\u001b[38;5;28mlist\u001b[39m([\u001b[38;5;28mfloat\u001b[39m(x) \u001b[38;5;28;01mfor\u001b[39;00m x \u001b[38;5;129;01min\u001b[39;00m \u001b[38;5;28mrange\u001b[39m(total_charge_units \u001b[38;5;241m+\u001b[39m \u001b[38;5;241m1\u001b[39m)])\n\u001b[1;32m    757\u001b[0m     )\n\u001b[1;32m    758\u001b[0m     usage_power_kw \u001b[38;5;241m=\u001b[39m pd\u001b[38;5;241m.\u001b[39mmerge_asof(\n\u001b[1;32m    759\u001b[0m         usage_power_kw_new_index,\n\u001b[1;32m    760\u001b[0m         usage_power_kw\u001b[38;5;241m.\u001b[39mset_index(\u001b[38;5;124m\"\u001b[39m\u001b[38;5;124mtime_step\u001b[39m\u001b[38;5;124m\"\u001b[39m),\n\u001b[0;32m   (...)\u001b[0m\n\u001b[1;32m    764\u001b[0m         allow_exact_matches\u001b[38;5;241m=\u001b[39m\u001b[38;5;28;01mTrue\u001b[39;00m,\n\u001b[1;32m    765\u001b[0m     )\n",
      "\u001b[0;31mIndexError\u001b[0m: invalid index to scalar variable."
     ]
    }
   ],
   "source": [
    "new_schedule = wt_opt.get_optimal_usage_plan(\n",
    "    region = region,\n",
    "    usage_window_start = new_start_time - timedelta(minutes=5),\n",
    "    usage_window_end = end_time,\n",
    "    usage_time_required_minutes = time_needed,\n",
    "    usage_power_kw = usage_power_kw,\n",
    "    optimization_method = optimization_method,\n",
    "    moer_data_override=curr_fcst_data,\n",
    "    charge_per_interval=None,\n",
    ")"
   ]
  },
  {
   "cell_type": "code",
   "execution_count": 45,
   "metadata": {},
   "outputs": [
    {
     "ename": "AttributeError",
     "evalue": "'RecalculatingWattTimeOptimizer' object has no attribute 'get_optimal_usage_plan'",
     "output_type": "error",
     "traceback": [
      "\u001b[0;31m---------------------------------------------------------------------------\u001b[0m",
      "\u001b[0;31mAttributeError\u001b[0m                            Traceback (most recent call last)",
      "Cell \u001b[0;32mIn[45], line 1\u001b[0m\n\u001b[0;32m----> 1\u001b[0m \u001b[43mwt_opt_rc\u001b[49m\u001b[38;5;241;43m.\u001b[39;49m\u001b[43mget_optimal_usage_plan\u001b[49m(\n\u001b[1;32m      2\u001b[0m     region,\n\u001b[1;32m      3\u001b[0m     new_start_time \u001b[38;5;241m-\u001b[39m timedelta(minutes\u001b[38;5;241m=\u001b[39m\u001b[38;5;241m5\u001b[39m),\n\u001b[1;32m      4\u001b[0m     end_time,\n\u001b[1;32m      5\u001b[0m     time_needed,\n\u001b[1;32m      6\u001b[0m     usage_power_kw,\n\u001b[1;32m      7\u001b[0m     optimization_method\u001b[38;5;241m=\u001b[39moptimization_method,\n\u001b[1;32m      8\u001b[0m     moer_data_override\u001b[38;5;241m=\u001b[39mcurr_fcst_data,\n\u001b[1;32m      9\u001b[0m     charge_per_interval\u001b[38;5;241m=\u001b[39m\u001b[38;5;28;01mNone\u001b[39;00m,\n\u001b[1;32m     10\u001b[0m )\n",
      "\u001b[0;31mAttributeError\u001b[0m: 'RecalculatingWattTimeOptimizer' object has no attribute 'get_optimal_usage_plan'"
     ]
    }
   ],
   "source": [
    "wt_opt_rc.get_optimal_usage_plan(\n",
    "    region,\n",
    "    new_start_time - timedelta(minutes=5),\n",
    "    end_time,\n",
    "    time_needed,\n",
    "    usage_power_kw,\n",
    "    optimization_method=optimization_method,\n",
    "    moer_data_override=curr_fcst_data,\n",
    "    charge_per_interval=None,\n",
    ")\n"
   ]
  },
  {
   "cell_type": "code",
   "execution_count": 42,
   "metadata": {},
   "outputs": [
    {
     "ename": "IndexError",
     "evalue": "invalid index to scalar variable.",
     "output_type": "error",
     "traceback": [
      "\u001b[0;31m---------------------------------------------------------------------------\u001b[0m",
      "\u001b[0;31mIndexError\u001b[0m                                Traceback (most recent call last)",
      "Cell \u001b[0;32mIn[42], line 1\u001b[0m\n\u001b[0;32m----> 1\u001b[0m \u001b[43mwt_opt_rc\u001b[49m\u001b[38;5;241;43m.\u001b[39;49m\u001b[43m_get_new_schedule\u001b[49m\u001b[43m(\u001b[49m\n\u001b[1;32m      2\u001b[0m \u001b[43m    \u001b[49m\u001b[43mnew_start_time\u001b[49m\u001b[38;5;241;43m=\u001b[39;49m\u001b[43mnew_start_time\u001b[49m\u001b[43m,\u001b[49m\n\u001b[1;32m      3\u001b[0m \u001b[43m    \u001b[49m\u001b[43mnew_end_time\u001b[49m\u001b[38;5;241;43m=\u001b[39;49m\u001b[43mend_time\u001b[49m\u001b[43m,\u001b[49m\n\u001b[1;32m      4\u001b[0m \u001b[43m    \u001b[49m\u001b[43mcurr_fcst_data\u001b[49m\u001b[38;5;241;43m=\u001b[39;49m\u001b[43mcurr_fcst_data\u001b[49m\u001b[43m,\u001b[49m\n\u001b[1;32m      5\u001b[0m \u001b[43m)\u001b[49m\n",
      "File \u001b[0;32m~/watttime-python-client-aer-algo/watttime/api.py:1114\u001b[0m, in \u001b[0;36mRecalculatingWattTimeOptimizer._get_new_schedule\u001b[0;34m(self, new_start_time, new_end_time, curr_fcst_data, charge_per_interval)\u001b[0m\n\u001b[1;32m   1111\u001b[0m new_schedule_start_time \u001b[38;5;241m=\u001b[39m curr_fcst_data[\u001b[38;5;124m\"\u001b[39m\u001b[38;5;124mpoint_time\u001b[39m\u001b[38;5;124m\"\u001b[39m]\u001b[38;5;241m.\u001b[39miloc[\u001b[38;5;241m0\u001b[39m]\n\u001b[1;32m   1113\u001b[0m \u001b[38;5;66;03m# Generate new schedule\u001b[39;00m\n\u001b[0;32m-> 1114\u001b[0m new_schedule \u001b[38;5;241m=\u001b[39m \u001b[38;5;28;43mself\u001b[39;49m\u001b[38;5;241;43m.\u001b[39;49m\u001b[43mwt_opt\u001b[49m\u001b[38;5;241;43m.\u001b[39;49m\u001b[43mget_optimal_usage_plan\u001b[49m\u001b[43m(\u001b[49m\n\u001b[1;32m   1115\u001b[0m \u001b[43m    \u001b[49m\u001b[38;5;28;43mself\u001b[39;49m\u001b[38;5;241;43m.\u001b[39;49m\u001b[43mregion\u001b[49m\u001b[43m,\u001b[49m\n\u001b[1;32m   1116\u001b[0m \u001b[43m    \u001b[49m\u001b[43mnew_start_time\u001b[49m\u001b[43m \u001b[49m\u001b[38;5;241;43m-\u001b[39;49m\u001b[43m \u001b[49m\u001b[43mtimedelta\u001b[49m\u001b[43m(\u001b[49m\u001b[43mminutes\u001b[49m\u001b[38;5;241;43m=\u001b[39;49m\u001b[43mOPT_INTERVAL\u001b[49m\u001b[43m)\u001b[49m\u001b[43m,\u001b[49m\n\u001b[1;32m   1117\u001b[0m \u001b[43m    \u001b[49m\u001b[43mnew_end_time\u001b[49m\u001b[43m,\u001b[49m\n\u001b[1;32m   1118\u001b[0m \u001b[43m    \u001b[49m\u001b[38;5;28;43mself\u001b[39;49m\u001b[38;5;241;43m.\u001b[39;49m\u001b[43m_get_remaining_time_required\u001b[49m\u001b[43m(\u001b[49m\u001b[43mnew_schedule_start_time\u001b[49m\u001b[43m)\u001b[49m\u001b[43m,\u001b[49m\n\u001b[1;32m   1119\u001b[0m \u001b[43m    \u001b[49m\u001b[38;5;28;43mself\u001b[39;49m\u001b[38;5;241;43m.\u001b[39;49m\u001b[43musage_power_kw\u001b[49m\u001b[43m,\u001b[49m\n\u001b[1;32m   1120\u001b[0m \u001b[43m    \u001b[49m\u001b[43moptimization_method\u001b[49m\u001b[38;5;241;43m=\u001b[39;49m\u001b[38;5;28;43mself\u001b[39;49m\u001b[38;5;241;43m.\u001b[39;49m\u001b[43moptimization_method\u001b[49m\u001b[43m,\u001b[49m\n\u001b[1;32m   1121\u001b[0m \u001b[43m    \u001b[49m\u001b[43mmoer_data_override\u001b[49m\u001b[38;5;241;43m=\u001b[39;49m\u001b[43mcurr_fcst_data\u001b[49m\u001b[43m,\u001b[49m\n\u001b[1;32m   1122\u001b[0m \u001b[43m    \u001b[49m\u001b[43mcharge_per_interval\u001b[49m\u001b[38;5;241;43m=\u001b[39;49m\u001b[43mcharge_per_interval\u001b[49m\u001b[43m,\u001b[49m\n\u001b[1;32m   1123\u001b[0m \u001b[43m\u001b[49m\u001b[43m)\u001b[49m\n\u001b[1;32m   1124\u001b[0m new_schedule_ctx \u001b[38;5;241m=\u001b[39m (new_schedule_start_time, new_end_time)\n\u001b[1;32m   1126\u001b[0m \u001b[38;5;28;01mreturn\u001b[39;00m new_schedule, new_schedule_ctx\n",
      "File \u001b[0;32m~/watttime-python-client-aer-algo/watttime/api.py:754\u001b[0m, in \u001b[0;36mWattTimeOptimizer.get_optimal_usage_plan\u001b[0;34m(self, region, usage_window_start, usage_window_end, usage_time_required_minutes, usage_power_kw, energy_required_kwh, usage_time_uncertainty_minutes, charge_per_interval, use_all_intervals, constraints, optimization_method, moer_data_override)\u001b[0m\n\u001b[1;32m    750\u001b[0m     emission_multiplier_fn \u001b[38;5;241m=\u001b[39m (\n\u001b[1;32m    751\u001b[0m         \u001b[38;5;28;01mlambda\u001b[39;00m sc, ec: \u001b[38;5;28mfloat\u001b[39m(usage_power_kw) \u001b[38;5;241m*\u001b[39m \u001b[38;5;241m0.001\u001b[39m \u001b[38;5;241m*\u001b[39m \u001b[38;5;28mself\u001b[39m\u001b[38;5;241m.\u001b[39mOPT_INTERVAL \u001b[38;5;241m/\u001b[39m \u001b[38;5;241m60.0\u001b[39m\n\u001b[1;32m    752\u001b[0m     )\n\u001b[1;32m    753\u001b[0m \u001b[38;5;28;01melse\u001b[39;00m:\n\u001b[0;32m--> 754\u001b[0m     usage_power_kw[\u001b[38;5;124m\"\u001b[39m\u001b[38;5;124mtime_step\u001b[39m\u001b[38;5;124m\"\u001b[39m] \u001b[38;5;241m=\u001b[39m \u001b[43musage_power_kw\u001b[49m\u001b[43m[\u001b[49m\u001b[38;5;124;43m\"\u001b[39;49m\u001b[38;5;124;43mtime\u001b[39;49m\u001b[38;5;124;43m\"\u001b[39;49m\u001b[43m]\u001b[49m \u001b[38;5;241m/\u001b[39m \u001b[38;5;28mself\u001b[39m\u001b[38;5;241m.\u001b[39mOPT_INTERVAL\n\u001b[1;32m    755\u001b[0m     usage_power_kw_new_index \u001b[38;5;241m=\u001b[39m pd\u001b[38;5;241m.\u001b[39mDataFrame(\n\u001b[1;32m    756\u001b[0m         index\u001b[38;5;241m=\u001b[39m\u001b[38;5;28mlist\u001b[39m([\u001b[38;5;28mfloat\u001b[39m(x) \u001b[38;5;28;01mfor\u001b[39;00m x \u001b[38;5;129;01min\u001b[39;00m \u001b[38;5;28mrange\u001b[39m(total_charge_units \u001b[38;5;241m+\u001b[39m \u001b[38;5;241m1\u001b[39m)])\n\u001b[1;32m    757\u001b[0m     )\n\u001b[1;32m    758\u001b[0m     usage_power_kw \u001b[38;5;241m=\u001b[39m pd\u001b[38;5;241m.\u001b[39mmerge_asof(\n\u001b[1;32m    759\u001b[0m         usage_power_kw_new_index,\n\u001b[1;32m    760\u001b[0m         usage_power_kw\u001b[38;5;241m.\u001b[39mset_index(\u001b[38;5;124m\"\u001b[39m\u001b[38;5;124mtime_step\u001b[39m\u001b[38;5;124m\"\u001b[39m),\n\u001b[0;32m   (...)\u001b[0m\n\u001b[1;32m    764\u001b[0m         allow_exact_matches\u001b[38;5;241m=\u001b[39m\u001b[38;5;28;01mTrue\u001b[39;00m,\n\u001b[1;32m    765\u001b[0m     )\n",
      "\u001b[0;31mIndexError\u001b[0m: invalid index to scalar variable."
     ]
    }
   ],
   "source": [
    "wt_opt_rc._get_new_schedule(\n",
    "    new_start_time=new_start_time,\n",
    "    new_end_time=end_time,\n",
    "    curr_fcst_data=curr_fcst_data,\n",
    ")"
   ]
  }
 ],
 "metadata": {
  "kernelspec": {
   "display_name": "watttime",
   "language": "python",
   "name": "python3"
  },
  "language_info": {
   "codemirror_mode": {
    "name": "ipython",
    "version": 3
   },
   "file_extension": ".py",
   "mimetype": "text/x-python",
   "name": "python",
   "nbconvert_exporter": "python",
   "pygments_lexer": "ipython3",
   "version": "3.9.16"
  }
 },
 "nbformat": 4,
 "nbformat_minor": 2
}
