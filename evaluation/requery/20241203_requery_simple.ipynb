{
 "cells": [
  {
   "cell_type": "markdown",
   "metadata": {},
   "source": [
    "# With Synthetic Data"
   ]
  },
  {
   "cell_type": "code",
   "execution_count": 1,
   "metadata": {},
   "outputs": [],
   "source": [
    "import os\n",
    "PATH = os.getenv(\"HOME\")\n",
    "os.chdir(f\"{PATH}/watttime-python-client-aer-algo\")\n",
    "\n",
    "import pandas as pd\n",
    "import evaluation.eval_framework as evu\n",
    "from datetime import datetime\n",
    "\n",
    "import seaborn as sns\n",
    "import evaluation.metrics as m\n",
    "from datetime import timedelta\n",
    "\n",
    "import random\n",
    "import math\n",
    "from watttime import WattTimeForecast, WattTimeHistorical\n",
    "import data.s3 as s3u\n",
    "import importlib\n",
    "import watttime.api as wt\n",
    "\n",
    "import warnings\n",
    "warnings.filterwarnings(\"ignore\")\n",
    "\n",
    "username = os.getenv(\"WATTTIME_USER\")\n",
    "password = os.getenv(\"WATTTIME_PASSWORD\")"
   ]
  },
  {
   "cell_type": "code",
   "execution_count": 2,
   "metadata": {},
   "outputs": [],
   "source": [
    "s3 = s3u.s3_utils()"
   ]
  },
  {
   "cell_type": "code",
   "execution_count": 3,
   "metadata": {},
   "outputs": [],
   "source": [
    "df_req = s3.load_csvdataframe(\"requery_data/20241203_1k_synth_users_96_days.csv\")"
   ]
  },
  {
   "cell_type": "code",
   "execution_count": 8,
   "metadata": {},
   "outputs": [
    {
     "data": {
      "text/plain": [
       "count    726.000000\n",
       "mean      87.724518\n",
       "std       20.714110\n",
       "min        1.000000\n",
       "25%       96.000000\n",
       "50%       96.000000\n",
       "75%       96.000000\n",
       "max       96.000000\n",
       "Name: distinct_dates, dtype: float64"
      ]
     },
     "execution_count": 8,
     "metadata": {},
     "output_type": "execute_result"
    }
   ],
   "source": [
    "df_req.groupby(\"user_type\")[\"distinct_dates\"].nunique().describe()"
   ]
  },
  {
   "cell_type": "code",
   "execution_count": 9,
   "metadata": {},
   "outputs": [
    {
     "data": {
      "text/plain": [
       "(63688, 22)"
      ]
     },
     "execution_count": 9,
     "metadata": {},
     "output_type": "execute_result"
    }
   ],
   "source": [
    "df_req.shape"
   ]
  },
  {
   "cell_type": "code",
   "execution_count": 6,
   "metadata": {},
   "outputs": [
    {
     "data": {
      "text/plain": [
       "96"
      ]
     },
     "execution_count": 6,
     "metadata": {},
     "output_type": "execute_result"
    }
   ],
   "source": [
    "df_req.distinct_dates.nunique()"
   ]
  },
  {
   "cell_type": "markdown",
   "metadata": {},
   "source": [
    "## Analysis Details\n",
    "- 2024 dates only in non-tz aware local time.\n",
    "- 1000 users\n",
    "- sanity check on 9 current regions + 9 randomly selected other regions\n",
    "- set of requery increments to test: none, 5,15,60,180\n",
    "- charging windows of lengths 3,6,12 hours\n",
    "- Charge needed at least 45 minutes (25% of smallest window)\n",
    "\n",
    "## Prepared forecast data\n",
    "- already converted to UTC for region specific files"
   ]
  },
  {
   "cell_type": "code",
   "execution_count": 3,
   "metadata": {},
   "outputs": [],
   "source": [
    "df_req = s3.load_csvdataframe(\"requery_data/20241203_1k_synth_users_96_days.csv\")"
   ]
  },
  {
   "cell_type": "markdown",
   "metadata": {},
   "source": [
    "### Single test"
   ]
  },
  {
   "cell_type": "code",
   "execution_count": 9,
   "metadata": {},
   "outputs": [],
   "source": [
    "region = \"PJM_CHICAGO\"\n",
    "\n",
    "def sanitize_time_needed(x,y):\n",
    "    return int(math.ceil(min(x, y) / 300.0) * 5)\n",
    "\n",
    "def sanitize_total_intervals(x):\n",
    "    return math.ceil(x)\n",
    "\n",
    "\n",
    "def load_forecast_file(region):\n",
    "    full_forecast = s3.load_parquetdataframe(\n",
    "    f\"complete_2024_forecast_history/{region}.parquet\"\n",
    "    ).drop_duplicates()\n",
    "\n",
    "    full_forecast[\"point_time\"] = pd.to_datetime(\n",
    "    full_forecast[\"point_time\"], utc=True\n",
    "    )\n",
    "\n",
    "    return full_forecast\n",
    "\n",
    "def load_history_file(region):\n",
    "    return s3.load_parquetdataframe(f\"complete_2024_actual_history/{region}.parquet\").drop_duplicates()\n",
    "\n",
    "\n",
    "def prepare_set_of_historic_actuals(\n",
    "        full_history,\n",
    "        start_time,\n",
    "        end_time\n",
    "        ):\n",
    "\n",
    "        moer_list = full_history.loc[\n",
    "                (full_history[\"point_time\"] >= start_time - timedelta(minutes=5)) &\n",
    "                (full_history[\"point_time\"] <= end_time - timedelta(minutes=5))\n",
    "                ]\n",
    "        return moer_list\n",
    "\n",
    "def prepare_set_of_forecasts(\n",
    "                forecasts,\n",
    "                start_time,\n",
    "                end_time,\n",
    "                increment\n",
    "    ):\n",
    "        inc_times = pd.date_range(\n",
    "            start_time,\n",
    "            end_time,\n",
    "            freq=timedelta(minutes=increment),\n",
    "        ).tolist()\n",
    "\n",
    "        moer_list = [\n",
    "            forecasts.loc[\n",
    "            forecasts[\"generated_at\"] == timestamp].sort_values(by=[\"point_time\"], ascending=True)\n",
    "            for timestamp in inc_times\n",
    "        ]\n",
    "\n",
    "        return moer_list\n",
    "\n",
    "def get_recalculating_optimizer_results(\n",
    "    region: str,\n",
    "    moer_list: pd.DataFrame,\n",
    "    start_time: datetime,\n",
    "    end_time: datetime,\n",
    "    usage_power_kw,\n",
    "    time_needed,\n",
    "    increment,\n",
    "    charge_per_interval = None,\n",
    "):\n",
    "    \n",
    "    if charge_per_interval is None:\n",
    "        wt_opt_rc = wt.RecalculatingWattTimeOptimizer(\n",
    "            region=region,\n",
    "            watttime_username=username,\n",
    "            watttime_password=password,\n",
    "            usage_time_required_minutes=time_needed,\n",
    "            usage_power_kw=usage_power_kw,\n",
    "            optimization_method=\"auto\"\n",
    "            )\n",
    "    else:\n",
    "        wt_opt_rc = wt.RecalculatingWattTimeOptimizerWithContiguity(\n",
    "            username,\n",
    "            password,\n",
    "            region,\n",
    "            usage_time_required_minutes=time_needed,\n",
    "            usage_power_kw=usage_power_kw,\n",
    "            optimization_method='auto',\n",
    "            charge_per_interval=charge_per_interval,\n",
    "        )\n",
    "\n",
    "    new_start_time = start_time\n",
    "    #while new_start_time < end_time:\n",
    "    for fcst_data in moer_list:\n",
    "        new_start_time = pd.Timestamp(fcst_data[\"point_time\"].min())\n",
    "        wt_opt_rc.get_new_schedule(\n",
    "                new_start_time=new_start_time,\n",
    "                new_end_time=end_time,\n",
    "                curr_fcst_data=fcst_data\n",
    "                )\n",
    "    print(\"combining schedules\")\n",
    "    usage_plan = wt_opt_rc.get_combined_schedule(end_time=end_time)\n",
    "    usage_plan[\"requery_increment\"] = increment\n",
    "\n",
    "    return usage_plan"
   ]
  },
  {
   "cell_type": "markdown",
   "metadata": {},
   "source": [
    "### Inputs"
   ]
  },
  {
   "cell_type": "code",
   "execution_count": 6,
   "metadata": {},
   "outputs": [],
   "source": [
    "# Sanitize input data\n",
    "df_req[\"sanitize_intervals_plugged_in\"] = df_req.apply(lambda x: sanitize_total_intervals(x.total_intervals_plugged_in), axis=1)\n",
    "df_req[\"sanitize_time_needed\"] = df_req.apply(lambda x: sanitize_time_needed(x.total_seconds_to_95, x.length_of_session_in_seconds), axis=1)"
   ]
  },
  {
   "cell_type": "code",
   "execution_count": 7,
   "metadata": {},
   "outputs": [],
   "source": [
    "bad_dat = s3.load_csvdataframe(f\"results/bad_dat_20241210_{region}.csv\")"
   ]
  },
  {
   "cell_type": "code",
   "execution_count": 8,
   "metadata": {},
   "outputs": [],
   "source": [
    "#synth_data = df_req.sample(25).copy()\n",
    "synth_data = bad_dat.copy(deep=True)\n",
    "synth_data.session_start_time = pd.to_datetime(synth_data.session_start_time)\n",
    "synth_data.session_end_time = pd.to_datetime(synth_data.session_end_time)"
   ]
  },
  {
   "cell_type": "markdown",
   "metadata": {},
   "source": [
    "## Looping"
   ]
  },
  {
   "cell_type": "code",
   "execution_count": 9,
   "metadata": {},
   "outputs": [],
   "source": [
    "original_regions = [\n",
    "    \"SPP_TX\",\n",
    "    \"ERCOT_EASTTX\",\n",
    "    \"FPL\",\n",
    "    \"SOCO\",\n",
    "    \"PJM_CHICAGO\",\n",
    "    \"LDWP\",\n",
    "    \"PJM_DC\",\n",
    "    \"NYISO_NYC\",\n",
    "]\n",
    "\n",
    "random_regions = [\n",
    "    'PACE',\n",
    "    'PNM',\n",
    "    'MISO_INDIANAPOLIS',\n",
    "    'WALC',\n",
    "    'ERCOT_AUSTIN',\n",
    "    'SPP_KANSAS',\n",
    "    'ISONE_VT',\n",
    "    'SPP_SIOUX',\n",
    "    'SC'\n",
    "]\n",
    "\n",
    "regions = original_regions+random_regions"
   ]
  },
  {
   "cell_type": "code",
   "execution_count": 14,
   "metadata": {},
   "outputs": [],
   "source": [
    "%%capture \n",
    "regions = [\"PJM_CHICAGO\"]\n",
    "for region in regions:\n",
    "\n",
    "    full_forecast = load_forecast_file(region)\n",
    "    full_history = load_history_file(region)\n",
    "\n",
    "    all_synth_users_list = []\n",
    "    bad_dat = []\n",
    "    increments = [120,240]\n",
    "    for i in range(0,synth_data.shape[0]):\n",
    "        try:\n",
    "            loc_num = i\n",
    "            time_zone = evu.get_timezone_from_dict(region)                    \n",
    "            start_time_utc = pd.Timestamp(evu.convert_to_utc(synth_data.iloc[loc_num]['session_start_time'].round('5min') , time_zone))\n",
    "            end_time_utc = pd.Timestamp(evu.convert_to_utc(synth_data.iloc[loc_num]['session_end_time'].round('5min'), time_zone))\n",
    "            time_needed = synth_data.iloc[loc_num][\"sanitize_time_needed\"]\n",
    "            total_intervals_plugged_in = synth_data.iloc[loc_num][\"sanitize_intervals_plugged_in\"]\n",
    "            usage_power_kw = float(synth_data.iloc[loc_num][\"power_output_rate\"])\n",
    "            user_type = synth_data.iloc[loc_num][\"user_type\"]\n",
    "            optimization_method = \"auto\"\n",
    "            print(user_type)\n",
    "            \n",
    "            results_dfs = []\n",
    "            for increment in increments:\n",
    "                try:\n",
    "                    print(increment)\n",
    "                    moer_list = prepare_set_of_forecasts(\n",
    "                    forecasts=full_forecast,\n",
    "                    increment=increment,\n",
    "                    start_time=start_time_utc,\n",
    "                    end_time=end_time_utc\n",
    "                    )\n",
    "\n",
    "                    results = get_recalculating_optimizer_results(\n",
    "                    region=region,\n",
    "                    moer_list = moer_list,\n",
    "                    start_time=start_time_utc,\n",
    "                    end_time=end_time_utc,\n",
    "                    time_needed=time_needed,\n",
    "                    usage_power_kw=usage_power_kw,\n",
    "                    increment=increment\n",
    "                    )\n",
    "\n",
    "                    results_dfs.append(results)\n",
    "                except:\n",
    "                    no_go = synth_data.iloc[i].copy(deep=True)\n",
    "                    no_go[\"increment\"] = increment\n",
    "                    bad_dat.append(no_go)\n",
    "                    continue\n",
    "\n",
    "            analysis = pd.concat(results_dfs)\n",
    "\n",
    "            # baseline + ideal\n",
    "            moer_list_actuals = prepare_set_of_historic_actuals(\n",
    "                full_history=full_history,\n",
    "                start_time=start_time_utc,\n",
    "                end_time=end_time_utc\n",
    "                )\n",
    "\n",
    "            no_requery = evu.get_schedule_and_cost_api(\n",
    "                total_time_horizon=total_intervals_plugged_in,\n",
    "                usage_power_kw=usage_power_kw,\n",
    "                time_needed=time_needed,\n",
    "                optimization_method=\"auto\",\n",
    "                moer_data=moer_list[0],\n",
    "                charge_per_interval=None\n",
    "            )\n",
    "            no_requery[\"requery_increment\"] = \"0\"\n",
    "            \n",
    "            ideal = evu.get_schedule_and_cost_api(\n",
    "                    total_time_horizon = total_intervals_plugged_in,\n",
    "                    usage_power_kw=usage_power_kw,\n",
    "                    time_needed=time_needed,\n",
    "                    optimization_method=\"auto\",\n",
    "                    moer_data=moer_list_actuals,\n",
    "                    charge_per_interval=None\n",
    "                    )\n",
    "            ideal[\"requery_increment\"] = \"ideal\"\n",
    "\n",
    "            baseline = evu.get_schedule_and_cost_api(\n",
    "                    total_time_horizon = total_intervals_plugged_in,\n",
    "                    usage_power_kw=usage_power_kw,\n",
    "                    time_needed=time_needed,\n",
    "                    optimization_method=\"baseline\",\n",
    "                    moer_data=moer_list_actuals,\n",
    "                    charge_per_interval=None\n",
    "                    )\n",
    "            baseline[\"requery_increment\"] = \"baseline\"\n",
    "\n",
    "            analysis_full = pd.concat([analysis,baseline,ideal]).merge(moer_list_actuals, on=\"point_time\", how=\"left\")\n",
    "            analysis_full[\"emissions_co2e_lb_actual\"] = analysis_full[\"value\"]*analysis_full[\"energy_usage_mwh\"]\n",
    "            analysis_full[\"user_type\"] = user_type\n",
    "            all_synth_users_list.append(analysis_full)\n",
    "            analysis = pd.concat(all_synth_users_list).drop_duplicates(subset=[\"user_type\",\"requery_increment\",\"point_time\"])\n",
    "            s3.store_csvdataframe(analysis,f\"results/analysis_requery_20241209_{region}.csv\")\n",
    "        except:\n",
    "            continue"
   ]
  },
  {
   "cell_type": "code",
   "execution_count": 24,
   "metadata": {},
   "outputs": [],
   "source": [
    "bad_dat_df = pd.concat(bad_dat, axis=1).T\n",
    "s3.store_csvdataframe(bad_dat_df,f\"results/bad_dat_20241210_{region}.csv\")"
   ]
  },
  {
   "cell_type": "code",
   "execution_count": 18,
   "metadata": {},
   "outputs": [
    {
     "data": {
      "text/plain": [
       "user_type                                               requery_increment\n",
       "r21.9725_tc64_avglc23001_sdlc7092_contFalse             120                  30.495999\n",
       "                                                        240                  30.495999\n",
       "                                                        baseline             30.911645\n",
       "                                                        ideal                30.276274\n",
       "r22.78_tc40_avglc23460_sdlc7833_contFalse               120                  24.974473\n",
       "                                                        240                  25.883775\n",
       "                                                        baseline             24.983965\n",
       "                                                        ideal                24.374600\n",
       "r22.950000000000003_tc87_avglc25407_sdlc7596_contFalse  120                  44.765888\n",
       "                                                        240                  44.752500\n",
       "                                                        baseline             46.714725\n",
       "                                                        ideal                42.206963\n",
       "r24.0125_tc57_avglc20201_sdlc7752_contFalse             120                  28.390779\n",
       "                                                        240                  28.390779\n",
       "                                                        baseline             28.108632\n",
       "                                                        ideal                26.717908\n",
       "r24.6925_tc114_avglc26385_sdlc7274_contFalse            120                  54.860562\n",
       "                                                        240                  54.831754\n",
       "                                                        baseline             54.560136\n",
       "                                                        ideal                54.360539\n",
       "r25.2025_tc80_avglc20883_sdlc7025_contFalse             120                  35.676239\n",
       "                                                        240                  35.512423\n",
       "                                                        baseline             34.437116\n",
       "                                                        ideal                34.258598\n",
       "r26.35_tc99_avglc27038_sdlc7061_contFalse               120                  50.023279\n",
       "                                                        240                  49.994733\n",
       "                                                        baseline             50.919179\n",
       "                                                        ideal                49.267913\n",
       "r28.177500000000002_tc91_avglc27339_sdlc7606_contFalse  120                  46.539837\n",
       "                                                        240                  46.589148\n",
       "                                                        baseline             42.343738\n",
       "                                                        ideal                40.500460\n",
       "r28.815_tc76_avglc28770_sdlc7147_contFalse              120                  37.120924\n",
       "                                                        240                  37.142535\n",
       "                                                        baseline             37.325030\n",
       "                                                        ideal                37.022472\n",
       "r28.8575_tc55_avglc21813_sdlc7788_contFalse             120                  30.180135\n",
       "                                                        240                  30.148873\n",
       "                                                        baseline             29.566914\n",
       "                                                        ideal                29.357697\n",
       "r28.900000000000002_tc50_avglc25135_sdlc7058_contFalse  120                  17.662717\n",
       "                                                        240                  17.662717\n",
       "                                                        baseline             23.230783\n",
       "                                                        ideal                 6.598833\n",
       "r29.1975_tc103_avglc21218_sdlc7737_contFalse            120                  52.913169\n",
       "                                                        240                  52.978864\n",
       "                                                        baseline             56.487430\n",
       "                                                        ideal                52.891271\n",
       "r29.1975_tc65_avglc20007_sdlc7304_contFalse             120                  31.248624\n",
       "                                                        240                  31.226726\n",
       "                                                        baseline             29.735221\n",
       "                                                        ideal                27.221802\n",
       "r32.215_tc117_avglc22714_sdlc7153_contFalse             120                  28.274032\n",
       "                                                        240                  31.361303\n",
       "                                                        baseline             50.805740\n",
       "                                                        ideal                 8.840333\n",
       "r36.5075_tc98_avglc23337_sdlc7197_contFalse             120                   1.925771\n",
       "                                                        240                   1.925771\n",
       "                                                        baseline              2.029209\n",
       "                                                        ideal                 1.648922\n",
       "Name: emissions_co2e_lb_actual, dtype: float64"
      ]
     },
     "execution_count": 18,
     "metadata": {},
     "output_type": "execute_result"
    }
   ],
   "source": [
    "analysis.groupby([\"user_type\",\"requery_increment\"])[\"emissions_co2e_lb_actual\"].sum()"
   ]
  }
 ],
 "metadata": {
  "kernelspec": {
   "display_name": "watttime",
   "language": "python",
   "name": "python3"
  },
  "language_info": {
   "codemirror_mode": {
    "name": "ipython",
    "version": 3
   },
   "file_extension": ".py",
   "mimetype": "text/x-python",
   "name": "python",
   "nbconvert_exporter": "python",
   "pygments_lexer": "ipython3",
   "version": "3.9.16"
  }
 },
 "nbformat": 4,
 "nbformat_minor": 2
}
