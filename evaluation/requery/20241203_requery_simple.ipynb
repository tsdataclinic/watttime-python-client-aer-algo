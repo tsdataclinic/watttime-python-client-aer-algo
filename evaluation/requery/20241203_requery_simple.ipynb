{
 "cells": [
  {
   "cell_type": "markdown",
   "metadata": {},
   "source": [
    "# With Synthetic Data"
   ]
  },
  {
   "cell_type": "code",
   "execution_count": 1,
   "metadata": {},
   "outputs": [],
   "source": [
    "import os\n",
    "PATH = os.getenv(\"HOME\")\n",
    "os.chdir(f\"{PATH}/watttime-python-client-aer-algo\")\n",
    "\n",
    "import pandas as pd\n",
    "import evaluation.eval_framework as evu\n",
    "from datetime import datetime\n",
    "\n",
    "import seaborn as sns\n",
    "import evaluation.metrics as m\n",
    "\n",
    "username = os.getenv(\"WATTTIME_USER\")\n",
    "password = os.getenv(\"WATTTIME_PASSWORD\")\n"
   ]
  },
  {
   "cell_type": "code",
   "execution_count": 2,
   "metadata": {},
   "outputs": [],
   "source": [
    "import random\n",
    "import math\n",
    "from watttime import WattTimeForecast, WattTimeHistorical\n",
    "import data.s3 as s3u"
   ]
  },
  {
   "cell_type": "code",
   "execution_count": 3,
   "metadata": {},
   "outputs": [],
   "source": [
    "s3 = s3u.s3_utils()"
   ]
  },
  {
   "cell_type": "markdown",
   "metadata": {},
   "source": [
    "## Analysis Details\n",
    "- 2024 dates only\n",
    "- 1000 users\n",
    "- sanity check on 9 current regions + 9 randomly selected other regions\n",
    "- set of requery increments to test: none, 5,15,60,180\n",
    "- charging windows of lengths 3,6,12 hours\n",
    "- Charge needed at least 45 minutes (25% of smallest window)"
   ]
  },
  {
   "cell_type": "markdown",
   "metadata": {},
   "source": [
    "### Regions"
   ]
  },
  {
   "cell_type": "code",
   "execution_count": 5,
   "metadata": {},
   "outputs": [],
   "source": [
    "original_regions = [\n",
    "    \"SPP_TX\",\n",
    "    \"ERCOT_EASTTX\",\n",
    "    \"FPL\",\n",
    "    \"SOCO\",\n",
    "    \"PJM_CHICAGO\",\n",
    "    \"LDWP\",\n",
    "    \"PJM_DC\",\n",
    "    \"NYISO_NYC\",\n",
    "]\n",
    "\n",
    "#from evaluation.config import MOER_REGION_LIST\n",
    "#random_regions = random.sample([elem for elem in MOER_REGION_LIST if elem not in regions], 9)\n",
    "\n",
    "random_regions = [\n",
    "    'PACE',\n",
    "    'PNM',\n",
    "    'MISO_INDIANAPOLIS',\n",
    "    'WALC',\n",
    "    'SPP_FORTPECK',\n",
    "    'SPP_KANSAS',\n",
    "    'AECI',\n",
    "    'BANC',\n",
    "    'PJM_SOUTHWEST_OH'\n",
    "]\n",
    "\n",
    "regions = original_regions+random_regions"
   ]
  },
  {
   "cell_type": "code",
   "execution_count": 6,
   "metadata": {},
   "outputs": [],
   "source": [
    "df_req = s3.load_csvdataframe(\"requery_data/20241203_1k_synth_users_96_days.csv\")"
   ]
  },
  {
   "cell_type": "code",
   "execution_count": 7,
   "metadata": {},
   "outputs": [
    {
     "data": {
      "text/plain": [
       "<Axes: ylabel='Frequency'>"
      ]
     },
     "execution_count": 7,
     "metadata": {},
     "output_type": "execute_result"
    },
    {
     "data": {
      "image/png": "[encoded data removed]",
      "text/plain": [
       "<Figure size 640x480 with 1 Axes>"
      ]
     },
     "metadata": {},
     "output_type": "display_data"
    }
   ],
   "source": [
    "df_req.usage_time_required_minutes.plot(kind='hist')"
   ]
  },
  {
   "cell_type": "code",
   "execution_count": 10,
   "metadata": {},
   "outputs": [],
   "source": [
    "forecast_generator = WattTimeForecast(username, password)\n",
    "historical_generator = WattTimeHistorical(username, password)"
   ]
  },
  {
   "cell_type": "markdown",
   "metadata": {},
   "source": [
    "### Single test"
   ]
  },
  {
   "cell_type": "code",
   "execution_count": 73,
   "metadata": {},
   "outputs": [
    {
     "data": {
      "text/plain": [
       "<module 'evaluation.eval_framework' from '/home/jennifer.badolato/watttime-python-client-aer-algo/evaluation/eval_framework.py'>"
      ]
     },
     "execution_count": 73,
     "metadata": {},
     "output_type": "execute_result"
    }
   ],
   "source": [
    "import importlib\n",
    "importlib.reload(evu)"
   ]
  },
  {
   "cell_type": "code",
   "execution_count": 16,
   "metadata": {},
   "outputs": [],
   "source": [
    "def sanitize_time_needed(x,y):\n",
    "    return int(math.ceil(min(x, y) / 300.0) * 5)\n",
    "\n",
    "def sanitize_total_intervals(x):\n",
    "    return math.ceil(x)"
   ]
  },
  {
   "cell_type": "code",
   "execution_count": 17,
   "metadata": {},
   "outputs": [],
   "source": [
    "optimization_method = \"simple\"\n",
    "requery_intervals = [5,15,60,180]\n",
    "region = \"PJM_SOUTHWEST_OH\"\n",
    "\n",
    "full_forecast = s3.load_parquetdataframe(f\"complete_2024_forecast_history/{region}.parquet\")\n",
    "full_history = s3.load_parquetdataframe(f\"complete_2024_actual_history/{region}.parquet\")"
   ]
  },
  {
   "cell_type": "code",
   "execution_count": 18,
   "metadata": {},
   "outputs": [],
   "source": [
    "# Sanitize input data\n",
    "df_req[\"sanitize_intervals_plugged_in\"] = df_req.apply(lambda x: sanitize_total_intervals(x.total_intervals_plugged_in), axis=1)\n",
    "df_req[\"sanitize_time_needed\"] = df_req.apply(lambda x: sanitize_time_needed(x.total_seconds_to_95, x.length_of_session_in_seconds), axis=1)"
   ]
  },
  {
   "cell_type": "code",
   "execution_count": 19,
   "metadata": {},
   "outputs": [],
   "source": [
    "synth_data = df_req.sample(10)"
   ]
  },
  {
   "cell_type": "code",
   "execution_count": 70,
   "metadata": {},
   "outputs": [
    {
     "name": "stdout",
     "output_type": "stream",
     "text": [
      "<class 'pandas.core.frame.DataFrame'>\n",
      "RangeIndex: 55488 entries, 0 to 55487\n",
      "Data columns (total 3 columns):\n",
      " #   Column      Non-Null Count  Dtype              \n",
      "---  ------      --------------  -----              \n",
      " 0   point_time  55488 non-null  datetime64[ns, UTC]\n",
      " 1   value       55488 non-null  float64            \n",
      " 2   region      55488 non-null  object             \n",
      "dtypes: datetime64[ns, UTC](1), float64(1), object(1)\n",
      "memory usage: 1.3+ MB\n"
     ]
    }
   ],
   "source": [
    "full_history.info()"
   ]
  },
  {
   "cell_type": "code",
   "execution_count": 20,
   "metadata": {},
   "outputs": [],
   "source": [
    "synth_data.session_start_time = pd.to_datetime(synth_data.session_start_time)\n",
    "synth_data.session_end_time = pd.to_datetime(synth_data.session_end_time)"
   ]
  },
  {
   "cell_type": "code",
   "execution_count": 59,
   "metadata": {},
   "outputs": [],
   "source": [
    "time_zone = evu.get_timezone_from_dict(region)                    \n",
    "start_time = pd.Timestamp(evu.convert_to_utc(synth_data.iloc[0]['session_start_time'].round('5min') , time_zone))\n",
    "end_time = pd.Timestamp(evu.convert_to_utc(synth_data.iloc[0]['session_end_time'].round('5min'), time_zone))\n",
    "time_needed = 50\n",
    "usage_power_kw = 36.1675"
   ]
  },
  {
   "cell_type": "code",
   "execution_count": 74,
   "metadata": {},
   "outputs": [
    {
     "name": "stdout",
     "output_type": "stream",
     "text": [
      "== Simple fit! ==\n",
      "== Simple fit! ==\n"
     ]
    },
    {
     "ename": "AssertionError",
     "evalue": "",
     "output_type": "error",
     "traceback": [
      "\u001b[0;31m---------------------------------------------------------------------------\u001b[0m",
      "\u001b[0;31mAssertionError\u001b[0m                            Traceback (most recent call last)",
      "Cell \u001b[0;32mIn[74], line 1\u001b[0m\n\u001b[0;32m----> 1\u001b[0m schedules \u001b[38;5;241m=\u001b[39m \u001b[43mevu\u001b[49m\u001b[38;5;241;43m.\u001b[39;49m\u001b[43mfull_requery_sim\u001b[49m\u001b[43m(\u001b[49m\n\u001b[1;32m      2\u001b[0m \u001b[43m    \u001b[49m\u001b[43mregion\u001b[49m\u001b[38;5;241;43m=\u001b[39;49m\u001b[43mregion\u001b[49m\u001b[43m,\u001b[49m\n\u001b[1;32m      3\u001b[0m \u001b[43m    \u001b[49m\u001b[43mfull_forecast\u001b[49m\u001b[38;5;241;43m=\u001b[39;49m\u001b[43mfull_forecast\u001b[49m\u001b[43m,\u001b[49m\n\u001b[1;32m      4\u001b[0m \u001b[43m    \u001b[49m\u001b[43mfull_history\u001b[49m\u001b[38;5;241;43m=\u001b[39;49m\u001b[43mfull_history\u001b[49m\u001b[43m,\u001b[49m\n\u001b[1;32m      5\u001b[0m \u001b[43m    \u001b[49m\u001b[43mincrements\u001b[49m\u001b[38;5;241;43m=\u001b[39;49m\u001b[43mrequery_intervals\u001b[49m\u001b[43m,\u001b[49m\n\u001b[1;32m      6\u001b[0m \u001b[43m    \u001b[49m\u001b[43mstart_time\u001b[49m\u001b[38;5;241;43m=\u001b[39;49m\u001b[43mstart_time\u001b[49m\u001b[43m,\u001b[49m\n\u001b[1;32m      7\u001b[0m \u001b[43m    \u001b[49m\u001b[43mend_time\u001b[49m\u001b[38;5;241;43m=\u001b[39;49m\u001b[43mend_time\u001b[49m\u001b[43m,\u001b[49m\n\u001b[1;32m      8\u001b[0m \u001b[43m    \u001b[49m\u001b[43musage_power_kw\u001b[49m\u001b[38;5;241;43m=\u001b[39;49m\u001b[43musage_power_kw\u001b[49m\u001b[43m,\u001b[49m\n\u001b[1;32m      9\u001b[0m \u001b[43m    \u001b[49m\u001b[43mtime_needed\u001b[49m\u001b[38;5;241;43m=\u001b[39;49m\u001b[43mtime_needed\u001b[49m\u001b[43m,\u001b[49m\n\u001b[1;32m     10\u001b[0m \u001b[43m    \u001b[49m\u001b[43mmethod\u001b[49m\u001b[38;5;241;43m=\u001b[39;49m\u001b[38;5;124;43m\"\u001b[39;49m\u001b[38;5;124;43mauto\u001b[39;49m\u001b[38;5;124;43m\"\u001b[39;49m\u001b[43m,\u001b[49m\n\u001b[1;32m     11\u001b[0m \u001b[43m    \u001b[49m\u001b[43mcharge_per_interval\u001b[49m\u001b[38;5;241;43m=\u001b[39;49m\u001b[38;5;28;43;01mNone\u001b[39;49;00m\n\u001b[1;32m     12\u001b[0m \u001b[43m)\u001b[49m\n",
      "File \u001b[0;32m~/watttime-python-client-aer-algo/evaluation/eval_framework.py:769\u001b[0m, in \u001b[0;36mfull_requery_sim\u001b[0;34m(region, full_forecast, full_history, increments, start_time, end_time, usage_power_kw, time_needed, method, charge_per_interval)\u001b[0m\n\u001b[1;32m    767\u001b[0m schedules \u001b[38;5;241m=\u001b[39m []\n\u001b[1;32m    768\u001b[0m \u001b[38;5;66;03m# Generate ideal schedule with historical actuals\u001b[39;00m\n\u001b[0;32m--> 769\u001b[0m ideal \u001b[38;5;241m=\u001b[39m \u001b[43mget_schedule_and_cost_api_requerying\u001b[49m\u001b[43m(\u001b[49m\u001b[43mregion\u001b[49m\u001b[43m \u001b[49m\u001b[38;5;241;43m=\u001b[39;49m\u001b[43m \u001b[49m\u001b[43mregion\u001b[49m\u001b[43m,\u001b[49m\n\u001b[1;32m    770\u001b[0m \u001b[43m                                    \u001b[49m\u001b[43musage_power_kw\u001b[49m\u001b[43m \u001b[49m\u001b[38;5;241;43m=\u001b[39;49m\u001b[43m \u001b[49m\u001b[43musage_power_kw\u001b[49m\u001b[43m,\u001b[49m\n\u001b[1;32m    771\u001b[0m \u001b[43m                                    \u001b[49m\u001b[43mtime_needed\u001b[49m\u001b[43m \u001b[49m\u001b[38;5;241;43m=\u001b[39;49m\u001b[43m \u001b[49m\u001b[43mtime_needed\u001b[49m\u001b[43m,\u001b[49m\n\u001b[1;32m    772\u001b[0m \u001b[43m                                    \u001b[49m\u001b[43mstart_time\u001b[49m\u001b[43m \u001b[49m\u001b[38;5;241;43m=\u001b[39;49m\u001b[43m \u001b[49m\u001b[43mstart_time\u001b[49m\u001b[43m,\u001b[49m\n\u001b[1;32m    773\u001b[0m \u001b[43m                                    \u001b[49m\u001b[43mend_time\u001b[49m\u001b[43m \u001b[49m\u001b[38;5;241;43m=\u001b[39;49m\u001b[43m \u001b[49m\u001b[43mend_time\u001b[49m\u001b[43m,\u001b[49m\u001b[43m \u001b[49m\n\u001b[1;32m    774\u001b[0m \u001b[43m                                    \u001b[49m\u001b[43moptimization_method\u001b[49m\u001b[38;5;241;43m=\u001b[39;49m\u001b[43mmethod\u001b[49m\u001b[43m,\u001b[49m\n\u001b[1;32m    775\u001b[0m \u001b[43m                                    \u001b[49m\u001b[43mmoer_list\u001b[49m\u001b[43m \u001b[49m\u001b[38;5;241;43m=\u001b[39;49m\u001b[43m \u001b[49m\u001b[43m[\u001b[49m\u001b[43mfull_history\u001b[49m\u001b[38;5;241;43m.\u001b[39;49m\u001b[43mset_index\u001b[49m\u001b[43m(\u001b[49m\u001b[38;5;124;43m\"\u001b[39;49m\u001b[38;5;124;43mpoint_time\u001b[39;49m\u001b[38;5;124;43m\"\u001b[39;49m\u001b[43m)\u001b[49m\u001b[43m[\u001b[49m\u001b[43mstart_time\u001b[49m\u001b[43m \u001b[49m\u001b[38;5;241;43m-\u001b[39;49m\u001b[43m \u001b[49m\u001b[43mtimedelta\u001b[49m\u001b[43m(\u001b[49m\u001b[43mminutes\u001b[49m\u001b[43m \u001b[49m\u001b[38;5;241;43m=\u001b[39;49m\u001b[43m \u001b[49m\u001b[38;5;241;43m5\u001b[39;49m\u001b[43m)\u001b[49m\u001b[43m:\u001b[49m\u001b[43mend_time\u001b[49m\u001b[43m]\u001b[49m\u001b[38;5;241;43m.\u001b[39;49m\u001b[43mreset_index\u001b[49m\u001b[43m(\u001b[49m\u001b[43m)\u001b[49m\u001b[43m]\u001b[49m\u001b[43m,\u001b[49m\n\u001b[1;32m    776\u001b[0m \u001b[43m                                    \u001b[49m\u001b[43mcharge_per_interval\u001b[49m\u001b[43m \u001b[49m\u001b[38;5;241;43m=\u001b[39;49m\u001b[43m \u001b[49m\u001b[43mcharge_per_interval\u001b[49m\u001b[43m)\u001b[49m\u001b[38;5;241m.\u001b[39mreset_index()\u001b[38;5;241m.\u001b[39mrename({\u001b[38;5;124m\"\u001b[39m\u001b[38;5;124mpred_moer\u001b[39m\u001b[38;5;124m\"\u001b[39m : \u001b[38;5;124m\"\u001b[39m\u001b[38;5;124mactual_moer\u001b[39m\u001b[38;5;124m\"\u001b[39m}, axis \u001b[38;5;241m=\u001b[39m \u001b[38;5;241m1\u001b[39m)\n\u001b[1;32m    778\u001b[0m results[\u001b[38;5;124m\"\u001b[39m\u001b[38;5;124mideal_emissions\u001b[39m\u001b[38;5;124m\"\u001b[39m] \u001b[38;5;241m=\u001b[39m \u001b[38;5;28mround\u001b[39m(ideal[\u001b[38;5;124m\"\u001b[39m\u001b[38;5;124memissions_co2e_lb\u001b[39m\u001b[38;5;124m\"\u001b[39m]\u001b[38;5;241m.\u001b[39msum(), \u001b[38;5;241m2\u001b[39m)\n\u001b[1;32m    779\u001b[0m ideal[\u001b[38;5;124m\"\u001b[39m\u001b[38;5;124mincrement\u001b[39m\u001b[38;5;124m\"\u001b[39m] \u001b[38;5;241m=\u001b[39m \u001b[38;5;124m\"\u001b[39m\u001b[38;5;124mIdeal\u001b[39m\u001b[38;5;124m\"\u001b[39m\n",
      "File \u001b[0;32m~/watttime-python-client-aer-algo/evaluation/eval_framework.py:736\u001b[0m, in \u001b[0;36mget_schedule_and_cost_api_requerying\u001b[0;34m(region, usage_power_kw, time_needed, start_time, end_time, optimization_method, moer_list, charge_per_interval, requery_interval_minutes)\u001b[0m\n\u001b[1;32m    734\u001b[0m         new_start_time \u001b[38;5;241m=\u001b[39m pd\u001b[38;5;241m.\u001b[39mTimestamp(curr_fcst_data[\u001b[38;5;124m\"\u001b[39m\u001b[38;5;124mpoint_time\u001b[39m\u001b[38;5;124m\"\u001b[39m]\u001b[38;5;241m.\u001b[39mmin())\n\u001b[1;32m    735\u001b[0m         \u001b[38;5;28;01mwhile\u001b[39;00m new_start_time \u001b[38;5;241m<\u001b[39m end_time:\n\u001b[0;32m--> 736\u001b[0m             \u001b[43mwt_opt_rc\u001b[49m\u001b[38;5;241;43m.\u001b[39;49m\u001b[43mget_new_schedule\u001b[49m\u001b[43m(\u001b[49m\u001b[43mnew_start_time\u001b[49m\u001b[38;5;241;43m=\u001b[39;49m\u001b[43mnew_start_time\u001b[49m\u001b[43m,\u001b[49m\u001b[43m \u001b[49m\u001b[43mnew_end_time\u001b[49m\u001b[38;5;241;43m=\u001b[39;49m\u001b[43mend_time\u001b[49m\u001b[43m,\u001b[49m\u001b[43m \u001b[49m\u001b[43mcurr_fcst_data\u001b[49m\u001b[38;5;241;43m=\u001b[39;49m\u001b[43mcurr_fcst_data\u001b[49m\u001b[43m)\u001b[49m\n\u001b[1;32m    739\u001b[0m dp_usage_plan \u001b[38;5;241m=\u001b[39m wt_opt_rc\u001b[38;5;241m.\u001b[39mget_combined_schedule()\n\u001b[1;32m    742\u001b[0m \u001b[38;5;28;01mif\u001b[39;00m dp_usage_plan[\u001b[38;5;124m\"\u001b[39m\u001b[38;5;124memissions_co2e_lb\u001b[39m\u001b[38;5;124m\"\u001b[39m]\u001b[38;5;241m.\u001b[39msum() \u001b[38;5;241m==\u001b[39m \u001b[38;5;241m0.0\u001b[39m:\n",
      "File \u001b[0;32m~/watttime-python-client-aer-algo/watttime/api.py:1033\u001b[0m, in \u001b[0;36mRecalculatingWattTimeOptimizer.get_new_schedule\u001b[0;34m(self, new_start_time, new_end_time, curr_fcst_data)\u001b[0m\n\u001b[1;32m   1030\u001b[0m \u001b[38;5;28;01mdef\u001b[39;00m \u001b[38;5;21mget_new_schedule\u001b[39m(\u001b[38;5;28mself\u001b[39m, new_start_time: datetime, new_end_time: datetime, curr_fcst_data: pd\u001b[38;5;241m.\u001b[39mDataFrame\u001b[38;5;241m=\u001b[39m\u001b[38;5;28;01mNone\u001b[39;00m) \u001b[38;5;241m-\u001b[39m\u001b[38;5;241m>\u001b[39m pd\u001b[38;5;241m.\u001b[39mDataFrame:\n\u001b[1;32m   1031\u001b[0m     schedule, ctx \u001b[38;5;241m=\u001b[39m \u001b[38;5;28mself\u001b[39m\u001b[38;5;241m.\u001b[39m_get_new_schedule(new_start_time, new_end_time, curr_fcst_data)\n\u001b[0;32m-> 1033\u001b[0m     \u001b[38;5;28;43mself\u001b[39;49m\u001b[38;5;241;43m.\u001b[39;49m\u001b[43m_set_last_schedule_end_time\u001b[49m\u001b[43m(\u001b[49m\u001b[43mctx\u001b[49m\u001b[43m[\u001b[49m\u001b[38;5;241;43m0\u001b[39;49m\u001b[43m]\u001b[49m\u001b[43m)\u001b[49m\n\u001b[1;32m   1034\u001b[0m     \u001b[38;5;28mself\u001b[39m\u001b[38;5;241m.\u001b[39mall_schedules\u001b[38;5;241m.\u001b[39mappend((schedule, ctx))\n\u001b[1;32m   1035\u001b[0m     \u001b[38;5;28;01mreturn\u001b[39;00m schedule\n",
      "File \u001b[0;32m~/watttime-python-client-aer-algo/watttime/api.py:974\u001b[0m, in \u001b[0;36mRecalculatingWattTimeOptimizer._set_last_schedule_end_time\u001b[0;34m(self, new_schedule_start_time)\u001b[0m\n\u001b[1;32m    972\u001b[0m schedule, ctx \u001b[38;5;241m=\u001b[39m \u001b[38;5;28mself\u001b[39m\u001b[38;5;241m.\u001b[39mall_schedules[\u001b[38;5;241m-\u001b[39m\u001b[38;5;241m1\u001b[39m]\n\u001b[1;32m    973\u001b[0m \u001b[38;5;28mself\u001b[39m\u001b[38;5;241m.\u001b[39mall_schedules[\u001b[38;5;241m-\u001b[39m\u001b[38;5;241m1\u001b[39m] \u001b[38;5;241m=\u001b[39m (schedule, (ctx[\u001b[38;5;241m0\u001b[39m], new_schedule_start_time))\n\u001b[0;32m--> 974\u001b[0m \u001b[38;5;28;01massert\u001b[39;00m ctx[\u001b[38;5;241m0\u001b[39m] \u001b[38;5;241m<\u001b[39m new_schedule_start_time\n",
      "\u001b[0;31mAssertionError\u001b[0m: "
     ]
    }
   ],
   "source": [
    "schedules = evu.full_requery_sim(\n",
    "    region=region,\n",
    "    full_forecast=full_forecast,\n",
    "    full_history=full_history,\n",
    "    increments=requery_intervals,\n",
    "    start_time=start_time,\n",
    "    end_time=end_time,\n",
    "    usage_power_kw=usage_power_kw,\n",
    "    time_needed=time_needed,\n",
    "    method=\"auto\",\n",
    "    charge_per_interval=None\n",
    ")"
   ]
  },
  {
   "cell_type": "code",
   "execution_count": 68,
   "metadata": {},
   "outputs": [
    {
     "data": {
      "text/plain": [
       "True"
      ]
     },
     "execution_count": 68,
     "metadata": {},
     "output_type": "execute_result"
    }
   ],
   "source": [
    "new_start_time < end_time"
   ]
  },
  {
   "cell_type": "code",
   "execution_count": 66,
   "metadata": {},
   "outputs": [],
   "source": [
    "from datetime import timedelta"
   ]
  },
  {
   "cell_type": "code",
   "execution_count": null,
   "metadata": {},
   "outputs": [],
   "source": [
    "curr_fcst_data[\"point_time\"].min()"
   ]
  },
  {
   "cell_type": "code",
   "execution_count": 67,
   "metadata": {},
   "outputs": [],
   "source": [
    "new_start_time = start_time + timedelta(minutes = 60)"
   ]
  },
  {
   "cell_type": "code",
   "execution_count": 64,
   "metadata": {},
   "outputs": [
    {
     "name": "stdout",
     "output_type": "stream",
     "text": [
      "== Simple fit! ==\n",
      "== Simple fit! ==\n",
      "== Simple fit! ==\n"
     ]
    },
    {
     "data": {
      "text/html": [
       "<div>\n",
       "<style scoped>\n",
       "    .dataframe tbody tr th:only-of-type {\n",
       "        vertical-align: middle;\n",
       "    }\n",
       "\n",
       "    .dataframe tbody tr th {\n",
       "        vertical-align: top;\n",
       "    }\n",
       "\n",
       "    .dataframe thead th {\n",
       "        text-align: right;\n",
       "    }\n",
       "</style>\n",
       "<table border=\"1\" class=\"dataframe\">\n",
       "  <thead>\n",
       "    <tr style=\"text-align: right;\">\n",
       "      <th></th>\n",
       "      <th>pred_moer</th>\n",
       "      <th>usage</th>\n",
       "      <th>emissions_co2e_lb</th>\n",
       "      <th>energy_usage_mwh</th>\n",
       "    </tr>\n",
       "    <tr>\n",
       "      <th>point_time</th>\n",
       "      <th></th>\n",
       "      <th></th>\n",
       "      <th></th>\n",
       "      <th></th>\n",
       "    </tr>\n",
       "  </thead>\n",
       "  <tbody>\n",
       "    <tr>\n",
       "      <th>2024-05-27 07:30:00+00:00</th>\n",
       "      <td>1136.9</td>\n",
       "      <td>5.0</td>\n",
       "      <td>3.426569</td>\n",
       "      <td>0.003014</td>\n",
       "    </tr>\n",
       "    <tr>\n",
       "      <th>2024-05-27 07:35:00+00:00</th>\n",
       "      <td>1136.9</td>\n",
       "      <td>0.0</td>\n",
       "      <td>0.000000</td>\n",
       "      <td>0.000000</td>\n",
       "    </tr>\n",
       "    <tr>\n",
       "      <th>2024-05-27 07:40:00+00:00</th>\n",
       "      <td>1136.0</td>\n",
       "      <td>5.0</td>\n",
       "      <td>3.423857</td>\n",
       "      <td>0.003014</td>\n",
       "    </tr>\n",
       "    <tr>\n",
       "      <th>2024-05-27 07:45:00+00:00</th>\n",
       "      <td>1115.4</td>\n",
       "      <td>5.0</td>\n",
       "      <td>3.361769</td>\n",
       "      <td>0.003014</td>\n",
       "    </tr>\n",
       "    <tr>\n",
       "      <th>2024-05-27 07:50:00+00:00</th>\n",
       "      <td>1132.4</td>\n",
       "      <td>5.0</td>\n",
       "      <td>3.413006</td>\n",
       "      <td>0.003014</td>\n",
       "    </tr>\n",
       "    <tr>\n",
       "      <th>2024-05-27 07:55:00+00:00</th>\n",
       "      <td>1108.3</td>\n",
       "      <td>5.0</td>\n",
       "      <td>3.340370</td>\n",
       "      <td>0.003014</td>\n",
       "    </tr>\n",
       "    <tr>\n",
       "      <th>2024-05-27 08:00:00+00:00</th>\n",
       "      <td>1140.4</td>\n",
       "      <td>0.0</td>\n",
       "      <td>0.000000</td>\n",
       "      <td>0.000000</td>\n",
       "    </tr>\n",
       "    <tr>\n",
       "      <th>2024-05-27 08:05:00+00:00</th>\n",
       "      <td>1141.9</td>\n",
       "      <td>0.0</td>\n",
       "      <td>0.000000</td>\n",
       "      <td>0.000000</td>\n",
       "    </tr>\n",
       "    <tr>\n",
       "      <th>2024-05-27 08:10:00+00:00</th>\n",
       "      <td>1140.8</td>\n",
       "      <td>0.0</td>\n",
       "      <td>0.000000</td>\n",
       "      <td>0.000000</td>\n",
       "    </tr>\n",
       "    <tr>\n",
       "      <th>2024-05-27 08:15:00+00:00</th>\n",
       "      <td>1140.1</td>\n",
       "      <td>0.0</td>\n",
       "      <td>0.000000</td>\n",
       "      <td>0.000000</td>\n",
       "    </tr>\n",
       "    <tr>\n",
       "      <th>2024-05-27 08:20:00+00:00</th>\n",
       "      <td>1141.8</td>\n",
       "      <td>0.0</td>\n",
       "      <td>0.000000</td>\n",
       "      <td>0.000000</td>\n",
       "    </tr>\n",
       "    <tr>\n",
       "      <th>2024-05-27 08:25:00+00:00</th>\n",
       "      <td>1142.3</td>\n",
       "      <td>0.0</td>\n",
       "      <td>0.000000</td>\n",
       "      <td>0.000000</td>\n",
       "    </tr>\n",
       "    <tr>\n",
       "      <th>2024-05-27 08:30:00+00:00</th>\n",
       "      <td>1148.0</td>\n",
       "      <td>0.0</td>\n",
       "      <td>0.000000</td>\n",
       "      <td>0.000000</td>\n",
       "    </tr>\n",
       "    <tr>\n",
       "      <th>2024-05-27 08:35:00+00:00</th>\n",
       "      <td>1148.0</td>\n",
       "      <td>0.0</td>\n",
       "      <td>0.000000</td>\n",
       "      <td>0.000000</td>\n",
       "    </tr>\n",
       "    <tr>\n",
       "      <th>2024-05-27 08:40:00+00:00</th>\n",
       "      <td>1148.0</td>\n",
       "      <td>0.0</td>\n",
       "      <td>0.000000</td>\n",
       "      <td>0.000000</td>\n",
       "    </tr>\n",
       "    <tr>\n",
       "      <th>2024-05-27 08:45:00+00:00</th>\n",
       "      <td>1148.0</td>\n",
       "      <td>0.0</td>\n",
       "      <td>0.000000</td>\n",
       "      <td>0.000000</td>\n",
       "    </tr>\n",
       "    <tr>\n",
       "      <th>2024-05-27 08:50:00+00:00</th>\n",
       "      <td>1147.8</td>\n",
       "      <td>0.0</td>\n",
       "      <td>0.000000</td>\n",
       "      <td>0.000000</td>\n",
       "    </tr>\n",
       "    <tr>\n",
       "      <th>2024-05-27 08:55:00+00:00</th>\n",
       "      <td>1147.1</td>\n",
       "      <td>5.0</td>\n",
       "      <td>3.457312</td>\n",
       "      <td>0.003014</td>\n",
       "    </tr>\n",
       "    <tr>\n",
       "      <th>2024-05-27 09:00:00+00:00</th>\n",
       "      <td>1150.1</td>\n",
       "      <td>0.0</td>\n",
       "      <td>0.000000</td>\n",
       "      <td>0.000000</td>\n",
       "    </tr>\n",
       "    <tr>\n",
       "      <th>2024-05-27 09:05:00+00:00</th>\n",
       "      <td>1149.7</td>\n",
       "      <td>0.0</td>\n",
       "      <td>0.000000</td>\n",
       "      <td>0.000000</td>\n",
       "    </tr>\n",
       "    <tr>\n",
       "      <th>2024-05-27 09:10:00+00:00</th>\n",
       "      <td>1149.5</td>\n",
       "      <td>0.0</td>\n",
       "      <td>0.000000</td>\n",
       "      <td>0.000000</td>\n",
       "    </tr>\n",
       "    <tr>\n",
       "      <th>2024-05-27 09:15:00+00:00</th>\n",
       "      <td>1148.2</td>\n",
       "      <td>0.0</td>\n",
       "      <td>0.000000</td>\n",
       "      <td>0.000000</td>\n",
       "    </tr>\n",
       "    <tr>\n",
       "      <th>2024-05-27 09:20:00+00:00</th>\n",
       "      <td>1149.8</td>\n",
       "      <td>0.0</td>\n",
       "      <td>0.000000</td>\n",
       "      <td>0.000000</td>\n",
       "    </tr>\n",
       "    <tr>\n",
       "      <th>2024-05-27 09:25:00+00:00</th>\n",
       "      <td>1147.7</td>\n",
       "      <td>0.0</td>\n",
       "      <td>0.000000</td>\n",
       "      <td>0.000000</td>\n",
       "    </tr>\n",
       "    <tr>\n",
       "      <th>2024-05-27 09:30:00+00:00</th>\n",
       "      <td>1190.8</td>\n",
       "      <td>0.0</td>\n",
       "      <td>0.000000</td>\n",
       "      <td>0.000000</td>\n",
       "    </tr>\n",
       "    <tr>\n",
       "      <th>2024-05-27 09:35:00+00:00</th>\n",
       "      <td>1190.8</td>\n",
       "      <td>0.0</td>\n",
       "      <td>0.000000</td>\n",
       "      <td>0.000000</td>\n",
       "    </tr>\n",
       "    <tr>\n",
       "      <th>2024-05-27 09:40:00+00:00</th>\n",
       "      <td>1190.0</td>\n",
       "      <td>0.0</td>\n",
       "      <td>0.000000</td>\n",
       "      <td>0.000000</td>\n",
       "    </tr>\n",
       "    <tr>\n",
       "      <th>2024-05-27 09:45:00+00:00</th>\n",
       "      <td>1185.6</td>\n",
       "      <td>0.0</td>\n",
       "      <td>0.000000</td>\n",
       "      <td>0.000000</td>\n",
       "    </tr>\n",
       "    <tr>\n",
       "      <th>2024-05-27 09:50:00+00:00</th>\n",
       "      <td>1186.0</td>\n",
       "      <td>0.0</td>\n",
       "      <td>0.000000</td>\n",
       "      <td>0.000000</td>\n",
       "    </tr>\n",
       "    <tr>\n",
       "      <th>2024-05-27 09:55:00+00:00</th>\n",
       "      <td>1185.4</td>\n",
       "      <td>0.0</td>\n",
       "      <td>0.000000</td>\n",
       "      <td>0.000000</td>\n",
       "    </tr>\n",
       "    <tr>\n",
       "      <th>2024-05-27 10:00:00+00:00</th>\n",
       "      <td>1187.6</td>\n",
       "      <td>0.0</td>\n",
       "      <td>0.000000</td>\n",
       "      <td>0.000000</td>\n",
       "    </tr>\n",
       "    <tr>\n",
       "      <th>2024-05-27 10:05:00+00:00</th>\n",
       "      <td>1187.4</td>\n",
       "      <td>0.0</td>\n",
       "      <td>0.000000</td>\n",
       "      <td>0.000000</td>\n",
       "    </tr>\n",
       "    <tr>\n",
       "      <th>2024-05-27 10:10:00+00:00</th>\n",
       "      <td>1181.3</td>\n",
       "      <td>5.0</td>\n",
       "      <td>3.560389</td>\n",
       "      <td>0.003014</td>\n",
       "    </tr>\n",
       "    <tr>\n",
       "      <th>2024-05-27 10:15:00+00:00</th>\n",
       "      <td>1183.2</td>\n",
       "      <td>5.0</td>\n",
       "      <td>3.566115</td>\n",
       "      <td>0.003014</td>\n",
       "    </tr>\n",
       "    <tr>\n",
       "      <th>2024-05-27 10:20:00+00:00</th>\n",
       "      <td>1181.8</td>\n",
       "      <td>5.0</td>\n",
       "      <td>3.561896</td>\n",
       "      <td>0.003014</td>\n",
       "    </tr>\n",
       "    <tr>\n",
       "      <th>2024-05-27 10:25:00+00:00</th>\n",
       "      <td>1181.2</td>\n",
       "      <td>5.0</td>\n",
       "      <td>3.560088</td>\n",
       "      <td>0.003014</td>\n",
       "    </tr>\n",
       "  </tbody>\n",
       "</table>\n",
       "</div>"
      ],
      "text/plain": [
       "                           pred_moer  usage  emissions_co2e_lb  \\\n",
       "point_time                                                       \n",
       "2024-05-27 07:30:00+00:00     1136.9    5.0           3.426569   \n",
       "2024-05-27 07:35:00+00:00     1136.9    0.0           0.000000   \n",
       "2024-05-27 07:40:00+00:00     1136.0    5.0           3.423857   \n",
       "2024-05-27 07:45:00+00:00     1115.4    5.0           3.361769   \n",
       "2024-05-27 07:50:00+00:00     1132.4    5.0           3.413006   \n",
       "2024-05-27 07:55:00+00:00     1108.3    5.0           3.340370   \n",
       "2024-05-27 08:00:00+00:00     1140.4    0.0           0.000000   \n",
       "2024-05-27 08:05:00+00:00     1141.9    0.0           0.000000   \n",
       "2024-05-27 08:10:00+00:00     1140.8    0.0           0.000000   \n",
       "2024-05-27 08:15:00+00:00     1140.1    0.0           0.000000   \n",
       "2024-05-27 08:20:00+00:00     1141.8    0.0           0.000000   \n",
       "2024-05-27 08:25:00+00:00     1142.3    0.0           0.000000   \n",
       "2024-05-27 08:30:00+00:00     1148.0    0.0           0.000000   \n",
       "2024-05-27 08:35:00+00:00     1148.0    0.0           0.000000   \n",
       "2024-05-27 08:40:00+00:00     1148.0    0.0           0.000000   \n",
       "2024-05-27 08:45:00+00:00     1148.0    0.0           0.000000   \n",
       "2024-05-27 08:50:00+00:00     1147.8    0.0           0.000000   \n",
       "2024-05-27 08:55:00+00:00     1147.1    5.0           3.457312   \n",
       "2024-05-27 09:00:00+00:00     1150.1    0.0           0.000000   \n",
       "2024-05-27 09:05:00+00:00     1149.7    0.0           0.000000   \n",
       "2024-05-27 09:10:00+00:00     1149.5    0.0           0.000000   \n",
       "2024-05-27 09:15:00+00:00     1148.2    0.0           0.000000   \n",
       "2024-05-27 09:20:00+00:00     1149.8    0.0           0.000000   \n",
       "2024-05-27 09:25:00+00:00     1147.7    0.0           0.000000   \n",
       "2024-05-27 09:30:00+00:00     1190.8    0.0           0.000000   \n",
       "2024-05-27 09:35:00+00:00     1190.8    0.0           0.000000   \n",
       "2024-05-27 09:40:00+00:00     1190.0    0.0           0.000000   \n",
       "2024-05-27 09:45:00+00:00     1185.6    0.0           0.000000   \n",
       "2024-05-27 09:50:00+00:00     1186.0    0.0           0.000000   \n",
       "2024-05-27 09:55:00+00:00     1185.4    0.0           0.000000   \n",
       "2024-05-27 10:00:00+00:00     1187.6    0.0           0.000000   \n",
       "2024-05-27 10:05:00+00:00     1187.4    0.0           0.000000   \n",
       "2024-05-27 10:10:00+00:00     1181.3    5.0           3.560389   \n",
       "2024-05-27 10:15:00+00:00     1183.2    5.0           3.566115   \n",
       "2024-05-27 10:20:00+00:00     1181.8    5.0           3.561896   \n",
       "2024-05-27 10:25:00+00:00     1181.2    5.0           3.560088   \n",
       "\n",
       "                           energy_usage_mwh  \n",
       "point_time                                   \n",
       "2024-05-27 07:30:00+00:00          0.003014  \n",
       "2024-05-27 07:35:00+00:00          0.000000  \n",
       "2024-05-27 07:40:00+00:00          0.003014  \n",
       "2024-05-27 07:45:00+00:00          0.003014  \n",
       "2024-05-27 07:50:00+00:00          0.003014  \n",
       "2024-05-27 07:55:00+00:00          0.003014  \n",
       "2024-05-27 08:00:00+00:00          0.000000  \n",
       "2024-05-27 08:05:00+00:00          0.000000  \n",
       "2024-05-27 08:10:00+00:00          0.000000  \n",
       "2024-05-27 08:15:00+00:00          0.000000  \n",
       "2024-05-27 08:20:00+00:00          0.000000  \n",
       "2024-05-27 08:25:00+00:00          0.000000  \n",
       "2024-05-27 08:30:00+00:00          0.000000  \n",
       "2024-05-27 08:35:00+00:00          0.000000  \n",
       "2024-05-27 08:40:00+00:00          0.000000  \n",
       "2024-05-27 08:45:00+00:00          0.000000  \n",
       "2024-05-27 08:50:00+00:00          0.000000  \n",
       "2024-05-27 08:55:00+00:00          0.003014  \n",
       "2024-05-27 09:00:00+00:00          0.000000  \n",
       "2024-05-27 09:05:00+00:00          0.000000  \n",
       "2024-05-27 09:10:00+00:00          0.000000  \n",
       "2024-05-27 09:15:00+00:00          0.000000  \n",
       "2024-05-27 09:20:00+00:00          0.000000  \n",
       "2024-05-27 09:25:00+00:00          0.000000  \n",
       "2024-05-27 09:30:00+00:00          0.000000  \n",
       "2024-05-27 09:35:00+00:00          0.000000  \n",
       "2024-05-27 09:40:00+00:00          0.000000  \n",
       "2024-05-27 09:45:00+00:00          0.000000  \n",
       "2024-05-27 09:50:00+00:00          0.000000  \n",
       "2024-05-27 09:55:00+00:00          0.000000  \n",
       "2024-05-27 10:00:00+00:00          0.000000  \n",
       "2024-05-27 10:05:00+00:00          0.000000  \n",
       "2024-05-27 10:10:00+00:00          0.003014  \n",
       "2024-05-27 10:15:00+00:00          0.003014  \n",
       "2024-05-27 10:20:00+00:00          0.003014  \n",
       "2024-05-27 10:25:00+00:00          0.003014  "
      ]
     },
     "execution_count": 64,
     "metadata": {},
     "output_type": "execute_result"
    }
   ],
   "source": [
    "evu.get_schedule_and_cost_api_requerying(\n",
    "    region,\n",
    "    usage_power_kw,\n",
    "    time_needed,\n",
    "    start_time,\n",
    "    end_time,\n",
    "    optimization_method=\"auto\",\n",
    "    moer_list = None,\n",
    "    charge_per_interval = None,\n",
    "    requery_interval_minutes = 60\n",
    "\n",
    "\n",
    ")"
   ]
  }
 ],
 "metadata": {
  "kernelspec": {
   "display_name": "watttime",
   "language": "python",
   "name": "python3"
  },
  "language_info": {
   "codemirror_mode": {
    "name": "ipython",
    "version": 3
   },
   "file_extension": ".py",
   "mimetype": "text/x-python",
   "name": "python",
   "nbconvert_exporter": "python",
   "pygments_lexer": "ipython3",
   "version": "3.9.16"
  }
 },
 "nbformat": 4,
 "nbformat_minor": 2
}
