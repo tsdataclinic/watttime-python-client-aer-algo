{
 "cells": [
  {
   "cell_type": "markdown",
   "metadata": {},
   "source": [
    "# With Synthetic Data"
   ]
  },
  {
   "cell_type": "code",
   "execution_count": null,
   "metadata": {},
   "outputs": [],
   "source": [
    "import os\n",
    "PATH = os.getenv(\"HOME\")\n",
    "os.chdir(f\"{PATH}/watttime-python-client-aer-algo\")\n",
    "\n",
    "import pandas as pd\n",
    "import evaluation.eval_framework as evu\n",
    "from datetime import datetime\n",
    "\n",
    "import seaborn as sns\n",
    "import evaluation.metrics as m\n",
    "\n",
    "username = os.getenv(\"WATTTIME_USER\")\n",
    "password = os.getenv(\"WATTTIME_PASSWORD\")"
   ]
  },
  {
   "cell_type": "code",
   "execution_count": 32,
   "metadata": {},
   "outputs": [],
   "source": [
    "import random\n",
    "import math"
   ]
  },
  {
   "cell_type": "markdown",
   "metadata": {},
   "source": [
    "## Analysis Details\n",
    "- 2024 dates only\n",
    "- 1000 users\n",
    "- sanity check on 9 current regions + 9 randomly selected other regions\n",
    "- set of requery increments to test: none, 5,15,60,180\n",
    "- charging windows of lengths 3,6,12 hours\n",
    "- Charge needed at least 45 minutes (25% of smallest window)"
   ]
  },
  {
   "cell_type": "markdown",
   "metadata": {},
   "source": [
    "### Dates + device characteristics"
   ]
  },
  {
   "cell_type": "code",
   "execution_count": 2,
   "metadata": {},
   "outputs": [],
   "source": [
    "dates_2023 = evu.generate_random_dates(2023)\n",
    "dates_2024 = evu.generate_random_dates(2024)\n",
    "distinct_date_list = dates_2023 + dates_2024"
   ]
  },
  {
   "cell_type": "code",
   "execution_count": 3,
   "metadata": {},
   "outputs": [],
   "source": [
    "dates_2024_only = list(filter(lambda x: x.year == 2024, distinct_date_list))\n",
    "\n",
    "req_kwargs = {\n",
    "    \"power_output_max_rates\": [42.5], # BMW average\n",
    "    \"max_percent_capacity\": 0.95,  # highest level of charge achieved by battery\n",
    "    \"power_output_efficiency\": 0.75,  # power loss. 1 = no power loss.\n",
    "    \"average_battery_starting_capacity\": 0.5,  # average starting percent charged\n",
    "    \"start_hour\": \"00:00:00\",  # earliest session can start\n",
    "    \"end_hour\": \"23:59:00\",  # latest session can start\n",
    "    \"user_charge_tolerance\":1, # must complete\n",
    "    \"session_lengths\":[x*60*60 for x  in [3,6,12]] # convert hours to seconds\n",
    "}"
   ]
  },
  {
   "cell_type": "code",
   "execution_count": 4,
   "metadata": {},
   "outputs": [
    {
     "name": "stderr",
     "output_type": "stream",
     "text": [
      "100%|██████████| 1000/1000 [00:03<00:00, 288.48it/s]\n"
     ]
    }
   ],
   "source": [
    "df_req = evu.execute_synth_data_process(\n",
    "    distinct_date_list=dates_2024_only, number_of_users=1000, **req_kwargs\n",
    ")"
   ]
  },
  {
   "cell_type": "markdown",
   "metadata": {},
   "source": [
    "### Regions"
   ]
  },
  {
   "cell_type": "code",
   "execution_count": null,
   "metadata": {},
   "outputs": [],
   "source": [
    "regions = [\n",
    "    \"CAISO_NORTH\",\n",
    "    \"SPP_TX\",\n",
    "    \"ERCOT_EASTTX\",\n",
    "    \"FPL\",\n",
    "    \"SOCO\",\n",
    "    \"PJM_CHICAGO\",\n",
    "    \"LDWP\",\n",
    "    \"PJM_DC\",\n",
    "    \"NYISO_NYC\",\n",
    "]\n",
    "\n",
    "#from evaluation.config import MOER_REGION_LIST\n",
    "#random_regions = random.sample([elem for elem in MOER_REGION_LIST if elem not in regions], 9)\n",
    "\n",
    "random_regions = [\n",
    "    'PACE',\n",
    "    'PNM',\n",
    "    'MISO_INDIANAPOLIS',\n",
    "    'WALC',\n",
    "    'SPP_FORTPECK',\n",
    "    'SPP_KANSAS',\n",
    "    'AECI',\n",
    "    'BANC',\n",
    "    'PJM_SOUTHWEST_OH'\n",
    "]"
   ]
  },
  {
   "cell_type": "code",
   "execution_count": 20,
   "metadata": {},
   "outputs": [
    {
     "data": {
      "text/plain": [
       "<Axes: ylabel='Frequency'>"
      ]
     },
     "execution_count": 20,
     "metadata": {},
     "output_type": "execute_result"
    },
    {
     "data": {
      "image/png": "[encoded data removed]",
      "text/plain": [
       "<Figure size 640x480 with 1 Axes>"
      ]
     },
     "metadata": {},
     "output_type": "display_data"
    }
   ],
   "source": [
    "df_req.usage_time_required_minutes.plot(kind='hist')"
   ]
  },
  {
   "cell_type": "code",
   "execution_count": 25,
   "metadata": {},
   "outputs": [],
   "source": [
    "df_req = df_req.query('usage_time_required_minutes > 45')"
   ]
  },
  {
   "cell_type": "code",
   "execution_count": 27,
   "metadata": {},
   "outputs": [
    {
     "name": "stdout",
     "output_type": "stream",
     "text": [
      "total sample frame will be: 1149966\n"
     ]
    }
   ],
   "source": [
    "print(f\"total sample frame will be: {df_req.shape[0]*18}\")"
   ]
  },
  {
   "cell_type": "markdown",
   "metadata": {},
   "source": [
    "### Single test"
   ]
  },
  {
   "cell_type": "code",
   "execution_count": 29,
   "metadata": {},
   "outputs": [],
   "source": [
    "synth_data = df_req.sample(1)"
   ]
  },
  {
   "cell_type": "code",
   "execution_count": 33,
   "metadata": {},
   "outputs": [
    {
     "data": {
      "text/html": [
       "<div>\n",
       "<style scoped>\n",
       "    .dataframe tbody tr th:only-of-type {\n",
       "        vertical-align: middle;\n",
       "    }\n",
       "\n",
       "    .dataframe tbody tr th {\n",
       "        vertical-align: top;\n",
       "    }\n",
       "\n",
       "    .dataframe thead th {\n",
       "        text-align: right;\n",
       "    }\n",
       "</style>\n",
       "<table border=\"1\" class=\"dataframe\">\n",
       "  <thead>\n",
       "    <tr style=\"text-align: right;\">\n",
       "      <th></th>\n",
       "      <th>70603</th>\n",
       "    </tr>\n",
       "  </thead>\n",
       "  <tbody>\n",
       "    <tr>\n",
       "      <th>index</th>\n",
       "      <td>43</td>\n",
       "    </tr>\n",
       "    <tr>\n",
       "      <th>distinct_dates</th>\n",
       "      <td>2024-06-02</td>\n",
       "    </tr>\n",
       "    <tr>\n",
       "      <th>user_type</th>\n",
       "      <td>r25.84_tc108_avglc24437_sdlc7318_contFalse</td>\n",
       "    </tr>\n",
       "    <tr>\n",
       "      <th>session_start_time</th>\n",
       "      <td>2024-06-02 06:40:05</td>\n",
       "    </tr>\n",
       "    <tr>\n",
       "      <th>session_end_time</th>\n",
       "      <td>2024-06-02 09:40:05</td>\n",
       "    </tr>\n",
       "    <tr>\n",
       "      <th>initial_charge</th>\n",
       "      <td>0.599488</td>\n",
       "    </tr>\n",
       "    <tr>\n",
       "      <th>total_seconds_to_95</th>\n",
       "      <td>5273.961966</td>\n",
       "    </tr>\n",
       "    <tr>\n",
       "      <th>full_charge_time</th>\n",
       "      <td>2024-06-02 08:07:58.961965919</td>\n",
       "    </tr>\n",
       "    <tr>\n",
       "      <th>length_of_session_in_seconds</th>\n",
       "      <td>10800.0</td>\n",
       "    </tr>\n",
       "    <tr>\n",
       "      <th>charged_kWh_actual</th>\n",
       "      <td>37.855327</td>\n",
       "    </tr>\n",
       "    <tr>\n",
       "      <th>final_perc_charged</th>\n",
       "      <td>0.95</td>\n",
       "    </tr>\n",
       "    <tr>\n",
       "      <th>final_charge_time</th>\n",
       "      <td>2024-06-02 08:07:58.961965919</td>\n",
       "    </tr>\n",
       "    <tr>\n",
       "      <th>uncharged</th>\n",
       "      <td>False</td>\n",
       "    </tr>\n",
       "    <tr>\n",
       "      <th>total_capacity</th>\n",
       "      <td>108</td>\n",
       "    </tr>\n",
       "    <tr>\n",
       "      <th>power_output_rate</th>\n",
       "      <td>25.84</td>\n",
       "    </tr>\n",
       "    <tr>\n",
       "      <th>total_intervals_plugged_in</th>\n",
       "      <td>36.0</td>\n",
       "    </tr>\n",
       "    <tr>\n",
       "      <th>charge_MWh_needed</th>\n",
       "      <td>0.037855</td>\n",
       "    </tr>\n",
       "    <tr>\n",
       "      <th>charged_MWh_actual</th>\n",
       "      <td>0.037855</td>\n",
       "    </tr>\n",
       "    <tr>\n",
       "      <th>MWh_fraction</th>\n",
       "      <td>0.002153</td>\n",
       "    </tr>\n",
       "    <tr>\n",
       "      <th>usage_time_required_minutes</th>\n",
       "      <td>88.0</td>\n",
       "    </tr>\n",
       "    <tr>\n",
       "      <th>contiguous_block</th>\n",
       "      <td>False</td>\n",
       "    </tr>\n",
       "    <tr>\n",
       "      <th>charge_per_interval</th>\n",
       "      <td>None</td>\n",
       "    </tr>\n",
       "  </tbody>\n",
       "</table>\n",
       "</div>"
      ],
      "text/plain": [
       "                                                                   70603\n",
       "index                                                                 43\n",
       "distinct_dates                                                2024-06-02\n",
       "user_type                     r25.84_tc108_avglc24437_sdlc7318_contFalse\n",
       "session_start_time                                   2024-06-02 06:40:05\n",
       "session_end_time                                     2024-06-02 09:40:05\n",
       "initial_charge                                                  0.599488\n",
       "total_seconds_to_95                                          5273.961966\n",
       "full_charge_time                           2024-06-02 08:07:58.961965919\n",
       "length_of_session_in_seconds                                     10800.0\n",
       "charged_kWh_actual                                             37.855327\n",
       "final_perc_charged                                                  0.95\n",
       "final_charge_time                          2024-06-02 08:07:58.961965919\n",
       "uncharged                                                          False\n",
       "total_capacity                                                       108\n",
       "power_output_rate                                                  25.84\n",
       "total_intervals_plugged_in                                          36.0\n",
       "charge_MWh_needed                                               0.037855\n",
       "charged_MWh_actual                                              0.037855\n",
       "MWh_fraction                                                    0.002153\n",
       "usage_time_required_minutes                                         88.0\n",
       "contiguous_block                                                   False\n",
       "charge_per_interval                                                 None"
      ]
     },
     "execution_count": 33,
     "metadata": {},
     "output_type": "execute_result"
    }
   ],
   "source": [
    "synth_data.T"
   ]
  },
  {
   "cell_type": "code",
   "execution_count": 34,
   "metadata": {},
   "outputs": [],
   "source": [
    "optimization_method = \"simple\"\n",
    "requery_intervals = [5,15,60,180]\n",
    "region = \"PJM_SOUTHWEST_OH\"\n",
    "\n",
    "def sanitize_time_needed(x,y):\n",
    "    return int(math.ceil(min(x, y) / 300.0) * 5)\n",
    "\n",
    "def sanitize_total_intervals(x):\n",
    "    return math.ceil(x)\n",
    "\n",
    "synth_data[\"moer_forecast\"] = synth_data.apply(\n",
    "    lambda x: evu.get_historical_fcst_data(\n",
    "        x.session_start_time, \n",
    "        sanitize_total_intervals(x.total_intervals_plugged_in),\n",
    "        region=region\n",
    "    ),\n",
    "    axis=1,\n",
    ")\n",
    "\n",
    "synth_data[\"moer_actual\"] = synth_data.apply(\n",
    "    lambda x: evu.get_historical_actual_data(\n",
    "        x.session_start_time, \n",
    "        sanitize_total_intervals(x.total_intervals_plugged_in),\n",
    "        region=region\n",
    "    ),\n",
    "    axis=1,\n",
    ")\n"
   ]
  },
  {
   "cell_type": "code",
   "execution_count": null,
   "metadata": {},
   "outputs": [],
   "source": [
    "schedule = efu.get_schedule_and_cost_api_requerying(\n",
    "    region=region,\n",
    "    usage_power_kw=synth_data.power_output_rate,\n",
    "    time_needed=synth_data.sanitize_time_needed,\n",
    "    start_time=synth_data.session_start_time,\n",
    "    end_time=synth_data.session_end_time,\n",
    "    optimization_method=optimization_method,\n",
    "    moer_list=synth_data[\"moer_forecast\"],\n",
    "    ).reset_index()"
   ]
  },
  {
   "cell_type": "code",
   "execution_count": null,
   "metadata": {},
   "outputs": [],
   "source": [
    "evu.get_schedule_and_cost_api(\n",
    "            usage_power_kw=row.power_output_rate,\n",
    "            time_needed=row.sanitize_time_needed,\n",
    "            total_time_horizon=row.sanitize_intervals_plugged_in,\n",
    "            moer_data=moer_data,\n",
    "            optimization_method=optimization_method,\n",
    "            charge_per_interval=charge_per_interval_func(row.sanitize_time_needed, contiguous=contiguous)\n",
    "        )"
   ]
  },
  {
   "cell_type": "code",
   "execution_count": null,
   "metadata": {},
   "outputs": [],
   "source": []
  },
  {
   "cell_type": "code",
   "execution_count": null,
   "metadata": {},
   "outputs": [],
   "source": [
    "schedule = efu.get_schedule_and_cost_api_requerying(\n",
    "    region=region,\n",
    "    usage_power_kw=usage_power_kw,\n",
    "    time_needed=time_needed,\n",
    "    start_time=start_time,\n",
    "    end_time=end_time,\n",
    "    optimization_method=optimization_method,\n",
    "    moer_list=moer_list,\n",
    "    ).reset_index()"
   ]
  },
  {
   "cell_type": "code",
   "execution_count": null,
   "metadata": {},
   "outputs": [],
   "source": [
    "increments = [0,5,15,60,180]"
   ]
  }
 ],
 "metadata": {
  "kernelspec": {
   "display_name": "watttime",
   "language": "python",
   "name": "python3"
  },
  "language_info": {
   "codemirror_mode": {
    "name": "ipython",
    "version": 3
   },
   "file_extension": ".py",
   "mimetype": "text/x-python",
   "name": "python",
   "nbconvert_exporter": "python",
   "pygments_lexer": "ipython3",
   "version": "3.12.7"
  }
 },
 "nbformat": 4,
 "nbformat_minor": 2
}
