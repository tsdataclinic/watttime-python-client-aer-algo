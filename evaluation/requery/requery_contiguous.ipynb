{
 "cells": [
  {
   "cell_type": "code",
   "execution_count": 2,
   "metadata": {},
   "outputs": [],
   "source": [
    "import os\n",
    "os.chdir(\"/home/canyon.foot/watttime-python-client-aer-algo\")\n",
    "import time\n",
    "from datetime import date, datetime, timedelta\n",
    "\n",
    "import pandas as pd\n",
    "from dateutil.parser import parse\n",
    "from pytz import UTC, timezone\n",
    "import matplotlib.pyplot as plt\n",
    "\n",
    "from watttime import (\n",
    "    # WattTimeMyAccess,\n",
    "    # WattTimeHistorical,\n",
    "    # WattTimeForecast,\n",
    "    WattTimeOptimizer,\n",
    ")\n",
    "\n",
    "region = \"PJM_NJ\"\n",
    "username = os.getenv(\"WATTTIME_USER\")\n",
    "password = os.getenv(\"WATTTIME_PASSWORD\")\n",
    "\n",
    "wt_opt = WattTimeOptimizer(username, password)\n",
    "\n",
    "now = datetime.now(UTC)\n",
    "window_start_test = now + timedelta(minutes=10)\n",
    "window_end_test = now + timedelta(minutes=720)\n",
    "usage_power_kw = 12"
   ]
  },
  {
   "cell_type": "code",
   "execution_count": null,
   "metadata": {},
   "outputs": [],
   "source": [
    "   def get_new_schedule(self, \n",
    "                         new_start_time: datetime, \n",
    "                         new_end_time: datetime,\n",
    "                         curr_fcst_data: pd.DataFrame=None,\n",
    "                         charge_per_interval: list = None) -> pd.DataFrame:\n",
    "        \n",
    "        \n",
    "        if curr_fcst_data is None:\n",
    "            # Get new data\n",
    "            curr_fcst_data = self.forecast_generator.get_historical_forecast_pandas(\n",
    "                start=new_start_time - timedelta(minutes=OPT_INTERVAL), \n",
    "                end=new_start_time,\n",
    "                region=self.region,\n",
    "                signal_type=\"co2_moer\",\n",
    "                horizon_hours=MAX_PREDICTION_HOURS,\n",
    "            )\n",
    "        curr_fcst_data[\"point_time\"] = pd.to_datetime(curr_fcst_data[\"point_time\"])\n",
    "        new_schedule_start_time = curr_fcst_data[\"point_time\"].iloc[0]\n",
    "        \n",
    "        if charge_per_interval is not None:\n",
    "                        schedule, ctx = self.all_schedules[-1]"
   ]
  },
  {
   "cell_type": "code",
   "execution_count": null,
   "metadata": {},
   "outputs": [
    {
     "name": "stdout",
     "output_type": "stream",
     "text": [
      "Using auto mode, but constrained to a single contiguous interval\n"
     ]
    },
    {
     "ename": "TypeError",
     "evalue": "get_optimal_usage_plan() got an unexpected keyword argument 'charge_per_interval'",
     "output_type": "error",
     "traceback": [
      "\u001b[0;31m---------------------------------------------------------------------------\u001b[0m",
      "\u001b[0;31mTypeError\u001b[0m                                 Traceback (most recent call last)",
      "Cell \u001b[0;32mIn[4], line 3\u001b[0m\n\u001b[1;32m      1\u001b[0m \u001b[38;5;28mprint\u001b[39m(\u001b[38;5;124m\"\u001b[39m\u001b[38;5;124mUsing auto mode, but constrained to a single contiguous interval\u001b[39m\u001b[38;5;124m\"\u001b[39m)\n\u001b[0;32m----> 3\u001b[0m dp_usage_plan_5 \u001b[38;5;241m=\u001b[39m \u001b[43mwt_opt\u001b[49m\u001b[38;5;241;43m.\u001b[39;49m\u001b[43mget_optimal_usage_plan\u001b[49m\u001b[43m(\u001b[49m\n\u001b[1;32m      4\u001b[0m \u001b[43m    \u001b[49m\u001b[43mregion\u001b[49m\u001b[38;5;241;43m=\u001b[39;49m\u001b[43mregion\u001b[49m\u001b[43m,\u001b[49m\n\u001b[1;32m      5\u001b[0m \u001b[43m    \u001b[49m\u001b[43musage_window_start\u001b[49m\u001b[38;5;241;43m=\u001b[39;49m\u001b[43mwindow_start_test\u001b[49m\u001b[43m,\u001b[49m\n\u001b[1;32m      6\u001b[0m \u001b[43m    \u001b[49m\u001b[43musage_window_end\u001b[49m\u001b[38;5;241;43m=\u001b[39;49m\u001b[43mwindow_end_test\u001b[49m\u001b[43m,\u001b[49m\n\u001b[1;32m      7\u001b[0m \u001b[43m    \u001b[49m\u001b[43musage_time_required_minutes\u001b[49m\u001b[38;5;241;43m=\u001b[39;49m\u001b[38;5;241;43m160\u001b[39;49m\u001b[43m,\u001b[49m\n\u001b[1;32m      8\u001b[0m \u001b[43m    \u001b[49m\u001b[43musage_power_kw\u001b[49m\u001b[38;5;241;43m=\u001b[39;49m\u001b[43musage_power_kw\u001b[49m\u001b[43m,\u001b[49m\n\u001b[1;32m      9\u001b[0m \u001b[43m    \u001b[49m\u001b[43mcharge_per_interval\u001b[49m\u001b[38;5;241;43m=\u001b[39;49m\u001b[43m[\u001b[49m\u001b[43m(\u001b[49m\u001b[38;5;241;43m160\u001b[39;49m\u001b[43m,\u001b[49m\u001b[38;5;241;43m160\u001b[39;49m\u001b[43m)\u001b[49m\u001b[43m]\u001b[49m\u001b[43m,\u001b[49m\n\u001b[1;32m     10\u001b[0m \u001b[43m    \u001b[49m\u001b[43moptimization_method\u001b[49m\u001b[38;5;241;43m=\u001b[39;49m\u001b[38;5;124;43m\"\u001b[39;49m\u001b[38;5;124;43mauto\u001b[39;49m\u001b[38;5;124;43m\"\u001b[39;49m\u001b[43m,\u001b[49m\n\u001b[1;32m     11\u001b[0m \u001b[43m)\u001b[49m\n\u001b[1;32m     12\u001b[0m \u001b[38;5;28mprint\u001b[39m(dp_usage_plan_5[\u001b[38;5;124m\"\u001b[39m\u001b[38;5;124musage\u001b[39m\u001b[38;5;124m\"\u001b[39m]\u001b[38;5;241m.\u001b[39mtolist())\n\u001b[1;32m     13\u001b[0m \u001b[38;5;28mprint\u001b[39m(dp_usage_plan_5\u001b[38;5;241m.\u001b[39msum())\n",
      "\u001b[0;31mTypeError\u001b[0m: get_optimal_usage_plan() got an unexpected keyword argument 'charge_per_interval'"
     ]
    }
   ],
   "source": [
    "print(\"Using auto mode, but constrained to a single contiguous interval\")\n",
    "dp_usage_plan_5 = wt_opt.get_optimal_usage_plan(\n",
    "    region=region,\n",
    "    usage_window_start=window_start_test,\n",
    "    usage_window_end=window_end_test,\n",
    "    usage_time_required_minutes=160,\n",
    "    usage_power_kw=usage_power_kw,\n",
    "    charge_per_interval=[(160,160)],\n",
    "    optimization_method=\"auto\",\n",
    ")\n",
    "print(dp_usage_plan_5[\"usage\"].tolist())\n",
    "print(dp_usage_plan_5.sum())\n"
   ]
  },
  {
   "cell_type": "code",
   "execution_count": null,
   "metadata": {},
   "outputs": [],
   "source": []
  }
 ],
 "metadata": {
  "kernelspec": {
   "display_name": ".venv",
   "language": "python",
   "name": "python3"
  },
  "language_info": {
   "codemirror_mode": {
    "name": "ipython",
    "version": 3
   },
   "file_extension": ".py",
   "mimetype": "text/x-python",
   "name": "python",
   "nbconvert_exporter": "python",
   "pygments_lexer": "ipython3",
   "version": "3.9.16"
  }
 },
 "nbformat": 4,
 "nbformat_minor": 2
}
