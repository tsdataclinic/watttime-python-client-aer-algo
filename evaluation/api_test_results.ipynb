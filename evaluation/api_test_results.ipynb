{
 "cells": [
  {
   "cell_type": "code",
   "execution_count": 2,
   "metadata": {},
   "outputs": [],
   "source": [
    "%reload_ext autoreload\n",
    "%autoreload 2\n",
    "\n",
    "import os\n",
    "os.chdir(f\"/home/{os.getlogin()}/watttime-python-client-aer-algo\")\n",
    "\n",
    "import optimizer.s3 as s3u\n",
    "import evaluation.eval_framework as efu\n",
    "\n",
    "import pandas as pd \n",
    "import seaborn as sns \n",
    "import numpy as np \n",
    "import matplotlib.pyplot as plt"
   ]
  },
  {
   "cell_type": "markdown",
   "metadata": {},
   "source": [
    "# Import results"
   ]
  },
  {
   "cell_type": "code",
   "execution_count": 3,
   "metadata": {},
   "outputs": [
    {
     "name": "stdout",
     "output_type": "stream",
     "text": [
      "PJM_CHICAGO\n"
     ]
    }
   ],
   "source": [
    "s3 = s3u.s3_utils()\n",
    "\n",
    "regions = [\n",
    " 'PJM_CHICAGO'\n",
    "]\n",
    "\n",
    "dfs = []\n",
    "for r in regions:\n",
    "    print(r)\n",
    "    results_key = f\"results_v2/20240726_1k_synth_users_163_days_{r}.csv\" #yongs results\n",
    "    data = s3.load_csvdataframe(file=results_key)\n",
    "    data[\"region\"] = r\n",
    "    dfs.append(data)\n",
    "    del data\n",
    "results_data1 = pd.concat(dfs)"
   ]
  },
  {
   "cell_type": "code",
   "execution_count": 4,
   "metadata": {},
   "outputs": [
    {
     "name": "stdout",
     "output_type": "stream",
     "text": [
      "PJM_CHICAGO\n"
     ]
    }
   ],
   "source": [
    "dfs = []\n",
    "for r in regions:\n",
    "    print(r)\n",
    "    results_key = f\"results/20240828_1k_synth_users_163_days_{r}.csv\" #old approach run on same cached datset\n",
    "    data = s3.load_csvdataframe(file=results_key)\n",
    "    data[\"region\"] = r\n",
    "    dfs.append(data)\n",
    "    del data\n",
    "results_data2 = pd.concat(dfs)"
   ]
  },
  {
   "cell_type": "code",
   "execution_count": 7,
   "metadata": {},
   "outputs": [
    {
     "name": "stdout",
     "output_type": "stream",
     "text": [
      "PJM_CHICAGO\n"
     ]
    }
   ],
   "source": [
    "dfs = []\n",
    "for r in regions:\n",
    "    print(r)\n",
    "    results_key = f\"results_v2/20240827_1k_synth_users_163_days_{r}.csv\" #jen rerun of yong's results\n",
    "    data = s3.load_csvdataframe(file=results_key)\n",
    "    data[\"region\"] = r\n",
    "    dfs.append(data)\n",
    "    del data\n",
    "results_data3 = pd.concat(dfs)\n",
    "results_data3 = results_data3.rename({\"baseline_actual_emissions_api\":\"baseline_actual_emissions\"}, axis=1)\n"
   ]
  },
  {
   "cell_type": "code",
   "execution_count": 8,
   "metadata": {},
   "outputs": [],
   "source": [
    "results_data1[\"version\"] = \"API Yong\"\n",
    "results_data2[\"version\"] = \"NOT API\"\n",
    "results_data3[\"version\"] = \"API Jen\"\n",
    "results_data = pd.concat([results_data1,results_data2, results_data3])"
   ]
  },
  {
   "cell_type": "code",
   "execution_count": 14,
   "metadata": {},
   "outputs": [],
   "source": [
    "results_data = results_data[results_data[\"distinct_dates\"].isin(results_data3.distinct_dates.unique())]\n",
    "results_data = results_data[results_data[\"user_type\"].isin(results_data3.user_type.unique())]\n",
    "results_data = results_data[results_data[\"distinct_dates\"].isin(results_data1.distinct_dates.unique())]"
   ]
  },
  {
   "cell_type": "code",
   "execution_count": 15,
   "metadata": {},
   "outputs": [
    {
     "data": {
      "text/plain": [
       "version\n",
       "API Jen     50\n",
       "API Yong    50\n",
       "NOT API     50\n",
       "Name: user_type, dtype: int64"
      ]
     },
     "execution_count": 15,
     "metadata": {},
     "output_type": "execute_result"
    }
   ],
   "source": [
    "# same users\n",
    "results_data.groupby('version')[\"user_type\"].nunique()"
   ]
  },
  {
   "cell_type": "code",
   "execution_count": 16,
   "metadata": {},
   "outputs": [
    {
     "data": {
      "text/plain": [
       "version\n",
       "API Jen     10\n",
       "API Yong    10\n",
       "NOT API     10\n",
       "Name: distinct_dates, dtype: int64"
      ]
     },
     "execution_count": 16,
     "metadata": {},
     "output_type": "execute_result"
    }
   ],
   "source": [
    "# same dates\n",
    "results_data.groupby('version')[\"distinct_dates\"].nunique()"
   ]
  },
  {
   "cell_type": "markdown",
   "metadata": {},
   "source": [
    "## Metrics"
   ]
  },
  {
   "cell_type": "code",
   "execution_count": 17,
   "metadata": {},
   "outputs": [],
   "source": [
    "results_data[\"ideal_difference\"] = results_data[\"simple_ideal_emissions\"] - results_data[\"simple_actual_emissions\"]\n",
    "results_data[\"baseline_difference\"] = results_data[\"simple_actual_emissions\"] - results_data[\"baseline_actual_emissions\"]\n",
    "results_data[\"estimated_difference\"] = results_data[\"simple_actual_emissions\"] - results_data[\"simple_estimated_emissions\"]\n",
    "results_data[\"largest_possible_difference\"] = results_data[\"simple_ideal_emissions\"] - results_data[\"baseline_actual_emissions\"]\n",
    "\n",
    "results_data[\"largest_difference_normalized\"] = np.divide(results_data[\"largest_possible_difference\"],results_data[\"power_output_rate\"])\n",
    "results_data[\"baseline_difference_normalized\"] = np.divide(results_data[\"baseline_difference\"],results_data[\"power_output_rate\"])\n",
    "results_data[\"optimization_possible\"] = results_data[\"largest_possible_difference\"] < 0\n",
    "\n",
    "results_data[\"plug_in_time_of_day\"] = pd.to_datetime(results_data[\"plug_in_time\"]).dt.time\n",
    "results_data[\"yyyy-mm\"] = results_data[\"distinct_dates\"].str[:7]"
   ]
  },
  {
   "cell_type": "code",
   "execution_count": 22,
   "metadata": {},
   "outputs": [
    {
     "data": {
      "text/plain": [
       "<seaborn.axisgrid.FacetGrid at 0x7f5288ba8be0>"
      ]
     },
     "execution_count": 22,
     "metadata": {},
     "output_type": "execute_result"
    },
    {
     "data": {
      "image/png": "[encoded data removed]",
      "text/plain": [
       "<Figure size 900x300 with 3 Axes>"
      ]
     },
     "metadata": {},
     "output_type": "display_data"
    }
   ],
   "source": [
    "g = sns.FacetGrid(results_data, col=\"version\",sharex=False, col_wrap=3)\n",
    "def hist_w_xlim(data, **kwargs):\n",
    "    ax = sns.histplot(data, **kwargs)\n",
    "\n",
    "g.map(hist_w_xlim, \"simple_ideal_emissions\")"
   ]
  },
  {
   "cell_type": "code",
   "execution_count": 21,
   "metadata": {},
   "outputs": [
    {
     "data": {
      "text/plain": [
       "<seaborn.axisgrid.FacetGrid at 0x7f5288db45e0>"
      ]
     },
     "execution_count": 21,
     "metadata": {},
     "output_type": "execute_result"
    },
    {
     "data": {
      "image/png": "[encoded data removed]",
      "text/plain": [
       "<Figure size 900x300 with 3 Axes>"
      ]
     },
     "metadata": {},
     "output_type": "display_data"
    }
   ],
   "source": [
    "g = sns.FacetGrid(results_data, col=\"version\",sharex=False, col_wrap=3)\n",
    "def hist_w_xlim(data, **kwargs):\n",
    "    ax = sns.histplot(data, **kwargs)\n",
    "\n",
    "g.map(hist_w_xlim, \"baseline_actual_emissions\")"
   ]
  },
  {
   "cell_type": "code",
   "execution_count": 23,
   "metadata": {},
   "outputs": [
    {
     "data": {
      "text/plain": [
       "<seaborn.axisgrid.FacetGrid at 0x7f52889bd850>"
      ]
     },
     "execution_count": 23,
     "metadata": {},
     "output_type": "execute_result"
    },
    {
     "data": {
      "image/png": "[encoded data removed]",
      "text/plain": [
       "<Figure size 900x300 with 3 Axes>"
      ]
     },
     "metadata": {},
     "output_type": "display_data"
    }
   ],
   "source": [
    "g = sns.FacetGrid(results_data, col=\"version\",sharex=False, col_wrap=3)\n",
    "def hist_w_xlim(data, **kwargs):\n",
    "    ax = sns.histplot(data, **kwargs)\n",
    "\n",
    "g.map(hist_w_xlim, \"simple_estimated_emissions\")"
   ]
  },
  {
   "cell_type": "code",
   "execution_count": 24,
   "metadata": {},
   "outputs": [
    {
     "data": {
      "image/png": "[encoded data removed]",
      "text/plain": [
       "<Figure size 1200x400 with 3 Axes>"
      ]
     },
     "metadata": {},
     "output_type": "display_data"
    }
   ],
   "source": [
    "grouped_data = results_data.groupby(['distinct_dates', 'version'])['simple_estimated_emissions'].sum().reset_index()\n",
    "g = sns.FacetGrid(grouped_data, col='version', col_wrap=3, sharex=False, sharey=False, height=4, aspect=1)\n",
    "\n",
    "def plot_sum(data, **kwargs):\n",
    "    ax = sns.lineplot(data=data, x='distinct_dates', y='simple_estimated_emissions', **kwargs)\n",
    "    xticks = ax.get_xticks()\n",
    "    ax.set_xticks(xticks[::max(1, len(xticks) // 4)])  # Reduce the number of xticks to a maximum of 4\n",
    "    ax.set_xticklabels(ax.get_xticklabels(), rotation=45)\n",
    "g.map_dataframe(plot_sum)\n",
    "g.set_titles(col_template=\"{col_name}\")\n",
    "g.set_axis_labels(\"Distinct Dates\", \"Sum of ideal_difference by date\")\n",
    "plt.show()\n"
   ]
  },
  {
   "cell_type": "code",
   "execution_count": null,
   "metadata": {},
   "outputs": [],
   "source": []
  },
  {
   "cell_type": "code",
   "execution_count": 27,
   "metadata": {},
   "outputs": [
    {
     "data": {
      "text/html": [
       "<div>\n",
       "<style scoped>\n",
       "    .dataframe tbody tr th:only-of-type {\n",
       "        vertical-align: middle;\n",
       "    }\n",
       "\n",
       "    .dataframe tbody tr th {\n",
       "        vertical-align: top;\n",
       "    }\n",
       "\n",
       "    .dataframe thead th {\n",
       "        text-align: right;\n",
       "    }\n",
       "</style>\n",
       "<table border=\"1\" class=\"dataframe\">\n",
       "  <thead>\n",
       "    <tr style=\"text-align: right;\">\n",
       "      <th></th>\n",
       "      <th>simple_actual_emissions</th>\n",
       "      <th>baseline_actual_emissions</th>\n",
       "      <th>simple_estimated_emissions</th>\n",
       "      <th>simple_ideal_emissions</th>\n",
       "    </tr>\n",
       "    <tr>\n",
       "      <th>version</th>\n",
       "      <th></th>\n",
       "      <th></th>\n",
       "      <th></th>\n",
       "      <th></th>\n",
       "    </tr>\n",
       "  </thead>\n",
       "  <tbody>\n",
       "    <tr>\n",
       "      <th>API Jen</th>\n",
       "      <td>NaN</td>\n",
       "      <td>NaN</td>\n",
       "      <td>NaN</td>\n",
       "      <td>NaN</td>\n",
       "    </tr>\n",
       "    <tr>\n",
       "      <th>API Yong</th>\n",
       "      <td>0.000000</td>\n",
       "      <td>0.000000e+00</td>\n",
       "      <td>0.000000</td>\n",
       "      <td>0.000000</td>\n",
       "    </tr>\n",
       "    <tr>\n",
       "      <th>NOT API</th>\n",
       "      <td>172.516531</td>\n",
       "      <td>-1.284207e-09</td>\n",
       "      <td>173.484908</td>\n",
       "      <td>254.247539</td>\n",
       "    </tr>\n",
       "  </tbody>\n",
       "</table>\n",
       "</div>"
      ],
      "text/plain": [
       "          simple_actual_emissions  baseline_actual_emissions  \\\n",
       "version                                                        \n",
       "API Jen                       NaN                        NaN   \n",
       "API Yong                 0.000000               0.000000e+00   \n",
       "NOT API                172.516531              -1.284207e-09   \n",
       "\n",
       "          simple_estimated_emissions  simple_ideal_emissions  \n",
       "version                                                       \n",
       "API Jen                          NaN                     NaN  \n",
       "API Yong                    0.000000                0.000000  \n",
       "NOT API                   173.484908              254.247539  "
      ]
     },
     "execution_count": 27,
     "metadata": {},
     "output_type": "execute_result"
    }
   ],
   "source": [
    "results_data.groupby('version')[['simple_actual_emissions', 'baseline_actual_emissions',\n",
    "       'simple_estimated_emissions', 'simple_ideal_emissions']].sum().diff()"
   ]
  },
  {
   "cell_type": "code",
   "execution_count": 28,
   "metadata": {},
   "outputs": [
    {
     "data": {
      "text/html": [
       "<div>\n",
       "<style scoped>\n",
       "    .dataframe tbody tr th:only-of-type {\n",
       "        vertical-align: middle;\n",
       "    }\n",
       "\n",
       "    .dataframe tbody tr th {\n",
       "        vertical-align: top;\n",
       "    }\n",
       "\n",
       "    .dataframe thead th {\n",
       "        text-align: right;\n",
       "    }\n",
       "</style>\n",
       "<table border=\"1\" class=\"dataframe\">\n",
       "  <thead>\n",
       "    <tr style=\"text-align: right;\">\n",
       "      <th></th>\n",
       "      <th>simple_actual_emissions</th>\n",
       "      <th>baseline_actual_emissions</th>\n",
       "      <th>simple_estimated_emissions</th>\n",
       "      <th>simple_ideal_emissions</th>\n",
       "    </tr>\n",
       "    <tr>\n",
       "      <th>version</th>\n",
       "      <th></th>\n",
       "      <th></th>\n",
       "      <th></th>\n",
       "      <th></th>\n",
       "    </tr>\n",
       "  </thead>\n",
       "  <tbody>\n",
       "    <tr>\n",
       "      <th>API Jen</th>\n",
       "      <td>20684.434022</td>\n",
       "      <td>21736.541587</td>\n",
       "      <td>20330.827781</td>\n",
       "      <td>20324.053184</td>\n",
       "    </tr>\n",
       "    <tr>\n",
       "      <th>API Yong</th>\n",
       "      <td>20684.434022</td>\n",
       "      <td>21736.541587</td>\n",
       "      <td>20330.827781</td>\n",
       "      <td>20324.053184</td>\n",
       "    </tr>\n",
       "    <tr>\n",
       "      <th>NOT API</th>\n",
       "      <td>20856.950553</td>\n",
       "      <td>21736.541587</td>\n",
       "      <td>20504.312689</td>\n",
       "      <td>20578.300724</td>\n",
       "    </tr>\n",
       "  </tbody>\n",
       "</table>\n",
       "</div>"
      ],
      "text/plain": [
       "          simple_actual_emissions  baseline_actual_emissions  \\\n",
       "version                                                        \n",
       "API Jen              20684.434022               21736.541587   \n",
       "API Yong             20684.434022               21736.541587   \n",
       "NOT API              20856.950553               21736.541587   \n",
       "\n",
       "          simple_estimated_emissions  simple_ideal_emissions  \n",
       "version                                                       \n",
       "API Jen                 20330.827781            20324.053184  \n",
       "API Yong                20330.827781            20324.053184  \n",
       "NOT API                 20504.312689            20578.300724  "
      ]
     },
     "execution_count": 28,
     "metadata": {},
     "output_type": "execute_result"
    }
   ],
   "source": [
    "results_data.groupby('version')[['simple_actual_emissions', 'baseline_actual_emissions',\n",
    "       'simple_estimated_emissions', 'simple_ideal_emissions']].sum()"
   ]
  },
  {
   "cell_type": "code",
   "execution_count": 29,
   "metadata": {},
   "outputs": [
    {
     "data": {
      "text/plain": [
       "(8000, 13)"
      ]
     },
     "execution_count": 29,
     "metadata": {},
     "output_type": "execute_result"
    }
   ],
   "source": [
    "results_data2.shape"
   ]
  },
  {
   "cell_type": "code",
   "execution_count": 30,
   "metadata": {},
   "outputs": [
    {
     "data": {
      "text/plain": [
       "(8000, 13)"
      ]
     },
     "execution_count": 30,
     "metadata": {},
     "output_type": "execute_result"
    }
   ],
   "source": [
    "results_data3.shape"
   ]
  },
  {
   "cell_type": "code",
   "execution_count": 45,
   "metadata": {},
   "outputs": [],
   "source": [
    "results_data3[\"difference\"] =  results_data3[\"simple_estimated_emissions\"] - results_data2[\"simple_estimated_emissions\"]"
   ]
  },
  {
   "cell_type": "code",
   "execution_count": 48,
   "metadata": {},
   "outputs": [],
   "source": [
    "results_data3[\"difference_ideal\"] =  results_data3[\"simple_ideal_emissions\"] - results_data2[\"simple_ideal_emissions\"]"
   ]
  },
  {
   "cell_type": "code",
   "execution_count": 50,
   "metadata": {},
   "outputs": [],
   "source": [
    "results_data3[\"difference_actual\"] =  results_data3[\"simple_actual_emissions\"] - results_data2[\"simple_actual_emissions\"]"
   ]
  },
  {
   "cell_type": "code",
   "execution_count": 51,
   "metadata": {},
   "outputs": [
    {
     "data": {
      "text/plain": [
       "count    8.000000e+03\n",
       "mean    -2.479181e-01\n",
       "std      9.886204e-01\n",
       "min     -1.280688e+01\n",
       "25%     -2.351360e-01\n",
       "50%     -3.394875e-02\n",
       "75%      1.849632e-12\n",
       "max      6.877684e+00\n",
       "Name: difference_actual, dtype: float64"
      ]
     },
     "execution_count": 51,
     "metadata": {},
     "output_type": "execute_result"
    }
   ],
   "source": [
    "# not always less than 0\n",
    "results_data3[\"difference_actual\"].describe()"
   ]
  },
  {
   "cell_type": "code",
   "execution_count": 49,
   "metadata": {},
   "outputs": [
    {
     "data": {
      "text/plain": [
       "count    8.000000e+03\n",
       "mean    -5.539515e-01\n",
       "std      1.243717e+00\n",
       "min     -1.443603e+01\n",
       "25%     -4.367940e-01\n",
       "50%     -1.151255e-01\n",
       "75%     -1.593900e-02\n",
       "max      1.395506e-11\n",
       "Name: difference_ideal, dtype: float64"
      ]
     },
     "execution_count": 49,
     "metadata": {},
     "output_type": "execute_result"
    }
   ],
   "source": [
    "# always less than 0\n",
    "results_data3[\"difference_ideal\"].describe()"
   ]
  },
  {
   "cell_type": "code",
   "execution_count": 47,
   "metadata": {},
   "outputs": [
    {
     "data": {
      "text/plain": [
       "count    8.000000e+03\n",
       "mean    -2.220266e-01\n",
       "std      2.897447e-01\n",
       "min     -2.362760e+00\n",
       "25%     -3.175133e-01\n",
       "50%     -1.136439e-01\n",
       "75%     -1.195149e-02\n",
       "max      1.483613e-11\n",
       "Name: difference, dtype: float64"
      ]
     },
     "execution_count": 47,
     "metadata": {},
     "output_type": "execute_result"
    }
   ],
   "source": [
    "# always less than 0\n",
    "results_data3[\"difference\"].describe()"
   ]
  },
  {
   "cell_type": "code",
   "execution_count": 54,
   "metadata": {},
   "outputs": [
    {
     "data": {
      "text/html": [
       "<div>\n",
       "<style scoped>\n",
       "    .dataframe tbody tr th:only-of-type {\n",
       "        vertical-align: middle;\n",
       "    }\n",
       "\n",
       "    .dataframe tbody tr th {\n",
       "        vertical-align: top;\n",
       "    }\n",
       "\n",
       "    .dataframe thead th {\n",
       "        text-align: right;\n",
       "    }\n",
       "</style>\n",
       "<table border=\"1\" class=\"dataframe\">\n",
       "  <thead>\n",
       "    <tr style=\"text-align: right;\">\n",
       "      <th></th>\n",
       "      <th>power_output_rate</th>\n",
       "      <th>total_intervals_plugged_in</th>\n",
       "      <th>charged_kWh_actual</th>\n",
       "      <th>MWh_fraction</th>\n",
       "      <th>simple_actual_emissions</th>\n",
       "      <th>baseline_actual_emissions</th>\n",
       "      <th>simple_estimated_emissions</th>\n",
       "      <th>simple_ideal_emissions</th>\n",
       "      <th>difference</th>\n",
       "      <th>difference_ideal</th>\n",
       "      <th>difference_actual</th>\n",
       "    </tr>\n",
       "  </thead>\n",
       "  <tbody>\n",
       "    <tr>\n",
       "      <th>power_output_rate</th>\n",
       "      <td>1.000000</td>\n",
       "      <td>-0.013254</td>\n",
       "      <td>-0.007402</td>\n",
       "      <td>1.000000</td>\n",
       "      <td>-0.010227</td>\n",
       "      <td>0.031310</td>\n",
       "      <td>-0.019432</td>\n",
       "      <td>-0.068819</td>\n",
       "      <td>0.036009</td>\n",
       "      <td>-0.034627</td>\n",
       "      <td>0.025961</td>\n",
       "    </tr>\n",
       "    <tr>\n",
       "      <th>total_intervals_plugged_in</th>\n",
       "      <td>-0.013254</td>\n",
       "      <td>1.000000</td>\n",
       "      <td>0.286985</td>\n",
       "      <td>-0.013254</td>\n",
       "      <td>0.235079</td>\n",
       "      <td>0.270002</td>\n",
       "      <td>0.247531</td>\n",
       "      <td>0.183491</td>\n",
       "      <td>0.192085</td>\n",
       "      <td>0.063744</td>\n",
       "      <td>0.060193</td>\n",
       "    </tr>\n",
       "    <tr>\n",
       "      <th>charged_kWh_actual</th>\n",
       "      <td>-0.007402</td>\n",
       "      <td>0.286985</td>\n",
       "      <td>1.000000</td>\n",
       "      <td>-0.007402</td>\n",
       "      <td>0.944777</td>\n",
       "      <td>0.961359</td>\n",
       "      <td>0.990766</td>\n",
       "      <td>0.893837</td>\n",
       "      <td>-0.307874</td>\n",
       "      <td>-0.149022</td>\n",
       "      <td>-0.121717</td>\n",
       "    </tr>\n",
       "    <tr>\n",
       "      <th>MWh_fraction</th>\n",
       "      <td>1.000000</td>\n",
       "      <td>-0.013254</td>\n",
       "      <td>-0.007402</td>\n",
       "      <td>1.000000</td>\n",
       "      <td>-0.010227</td>\n",
       "      <td>0.031310</td>\n",
       "      <td>-0.019432</td>\n",
       "      <td>-0.068819</td>\n",
       "      <td>0.036009</td>\n",
       "      <td>-0.034627</td>\n",
       "      <td>0.025961</td>\n",
       "    </tr>\n",
       "    <tr>\n",
       "      <th>simple_actual_emissions</th>\n",
       "      <td>-0.010227</td>\n",
       "      <td>0.235079</td>\n",
       "      <td>0.944777</td>\n",
       "      <td>-0.010227</td>\n",
       "      <td>1.000000</td>\n",
       "      <td>0.979024</td>\n",
       "      <td>0.959260</td>\n",
       "      <td>0.978069</td>\n",
       "      <td>-0.303879</td>\n",
       "      <td>0.004373</td>\n",
       "      <td>-0.049027</td>\n",
       "    </tr>\n",
       "    <tr>\n",
       "      <th>baseline_actual_emissions</th>\n",
       "      <td>0.031310</td>\n",
       "      <td>0.270002</td>\n",
       "      <td>0.961359</td>\n",
       "      <td>0.031310</td>\n",
       "      <td>0.979024</td>\n",
       "      <td>1.000000</td>\n",
       "      <td>0.971224</td>\n",
       "      <td>0.948084</td>\n",
       "      <td>-0.321737</td>\n",
       "      <td>-0.088868</td>\n",
       "      <td>-0.122134</td>\n",
       "    </tr>\n",
       "    <tr>\n",
       "      <th>simple_estimated_emissions</th>\n",
       "      <td>-0.019432</td>\n",
       "      <td>0.247531</td>\n",
       "      <td>0.990766</td>\n",
       "      <td>-0.019432</td>\n",
       "      <td>0.959260</td>\n",
       "      <td>0.971224</td>\n",
       "      <td>1.000000</td>\n",
       "      <td>0.918239</td>\n",
       "      <td>-0.315755</td>\n",
       "      <td>-0.131238</td>\n",
       "      <td>-0.125575</td>\n",
       "    </tr>\n",
       "    <tr>\n",
       "      <th>simple_ideal_emissions</th>\n",
       "      <td>-0.068819</td>\n",
       "      <td>0.183491</td>\n",
       "      <td>0.893837</td>\n",
       "      <td>-0.068819</td>\n",
       "      <td>0.978069</td>\n",
       "      <td>0.948084</td>\n",
       "      <td>0.918239</td>\n",
       "      <td>1.000000</td>\n",
       "      <td>-0.305974</td>\n",
       "      <td>0.051461</td>\n",
       "      <td>-0.064769</td>\n",
       "    </tr>\n",
       "    <tr>\n",
       "      <th>difference</th>\n",
       "      <td>0.036009</td>\n",
       "      <td>0.192085</td>\n",
       "      <td>-0.307874</td>\n",
       "      <td>0.036009</td>\n",
       "      <td>-0.303879</td>\n",
       "      <td>-0.321737</td>\n",
       "      <td>-0.315755</td>\n",
       "      <td>-0.305974</td>\n",
       "      <td>1.000000</td>\n",
       "      <td>0.320797</td>\n",
       "      <td>0.320828</td>\n",
       "    </tr>\n",
       "    <tr>\n",
       "      <th>difference_ideal</th>\n",
       "      <td>-0.034627</td>\n",
       "      <td>0.063744</td>\n",
       "      <td>-0.149022</td>\n",
       "      <td>-0.034627</td>\n",
       "      <td>0.004373</td>\n",
       "      <td>-0.088868</td>\n",
       "      <td>-0.131238</td>\n",
       "      <td>0.051461</td>\n",
       "      <td>0.320797</td>\n",
       "      <td>1.000000</td>\n",
       "      <td>0.723803</td>\n",
       "    </tr>\n",
       "    <tr>\n",
       "      <th>difference_actual</th>\n",
       "      <td>0.025961</td>\n",
       "      <td>0.060193</td>\n",
       "      <td>-0.121717</td>\n",
       "      <td>0.025961</td>\n",
       "      <td>-0.049027</td>\n",
       "      <td>-0.122134</td>\n",
       "      <td>-0.125575</td>\n",
       "      <td>-0.064769</td>\n",
       "      <td>0.320828</td>\n",
       "      <td>0.723803</td>\n",
       "      <td>1.000000</td>\n",
       "    </tr>\n",
       "  </tbody>\n",
       "</table>\n",
       "</div>"
      ],
      "text/plain": [
       "                            power_output_rate  total_intervals_plugged_in  \\\n",
       "power_output_rate                    1.000000                   -0.013254   \n",
       "total_intervals_plugged_in          -0.013254                    1.000000   \n",
       "charged_kWh_actual                  -0.007402                    0.286985   \n",
       "MWh_fraction                         1.000000                   -0.013254   \n",
       "simple_actual_emissions             -0.010227                    0.235079   \n",
       "baseline_actual_emissions            0.031310                    0.270002   \n",
       "simple_estimated_emissions          -0.019432                    0.247531   \n",
       "simple_ideal_emissions              -0.068819                    0.183491   \n",
       "difference                           0.036009                    0.192085   \n",
       "difference_ideal                    -0.034627                    0.063744   \n",
       "difference_actual                    0.025961                    0.060193   \n",
       "\n",
       "                            charged_kWh_actual  MWh_fraction  \\\n",
       "power_output_rate                    -0.007402      1.000000   \n",
       "total_intervals_plugged_in            0.286985     -0.013254   \n",
       "charged_kWh_actual                    1.000000     -0.007402   \n",
       "MWh_fraction                         -0.007402      1.000000   \n",
       "simple_actual_emissions               0.944777     -0.010227   \n",
       "baseline_actual_emissions             0.961359      0.031310   \n",
       "simple_estimated_emissions            0.990766     -0.019432   \n",
       "simple_ideal_emissions                0.893837     -0.068819   \n",
       "difference                           -0.307874      0.036009   \n",
       "difference_ideal                     -0.149022     -0.034627   \n",
       "difference_actual                    -0.121717      0.025961   \n",
       "\n",
       "                            simple_actual_emissions  \\\n",
       "power_output_rate                         -0.010227   \n",
       "total_intervals_plugged_in                 0.235079   \n",
       "charged_kWh_actual                         0.944777   \n",
       "MWh_fraction                              -0.010227   \n",
       "simple_actual_emissions                    1.000000   \n",
       "baseline_actual_emissions                  0.979024   \n",
       "simple_estimated_emissions                 0.959260   \n",
       "simple_ideal_emissions                     0.978069   \n",
       "difference                                -0.303879   \n",
       "difference_ideal                           0.004373   \n",
       "difference_actual                         -0.049027   \n",
       "\n",
       "                            baseline_actual_emissions  \\\n",
       "power_output_rate                            0.031310   \n",
       "total_intervals_plugged_in                   0.270002   \n",
       "charged_kWh_actual                           0.961359   \n",
       "MWh_fraction                                 0.031310   \n",
       "simple_actual_emissions                      0.979024   \n",
       "baseline_actual_emissions                    1.000000   \n",
       "simple_estimated_emissions                   0.971224   \n",
       "simple_ideal_emissions                       0.948084   \n",
       "difference                                  -0.321737   \n",
       "difference_ideal                            -0.088868   \n",
       "difference_actual                           -0.122134   \n",
       "\n",
       "                            simple_estimated_emissions  \\\n",
       "power_output_rate                            -0.019432   \n",
       "total_intervals_plugged_in                    0.247531   \n",
       "charged_kWh_actual                            0.990766   \n",
       "MWh_fraction                                 -0.019432   \n",
       "simple_actual_emissions                       0.959260   \n",
       "baseline_actual_emissions                     0.971224   \n",
       "simple_estimated_emissions                    1.000000   \n",
       "simple_ideal_emissions                        0.918239   \n",
       "difference                                   -0.315755   \n",
       "difference_ideal                             -0.131238   \n",
       "difference_actual                            -0.125575   \n",
       "\n",
       "                            simple_ideal_emissions  difference  \\\n",
       "power_output_rate                        -0.068819    0.036009   \n",
       "total_intervals_plugged_in                0.183491    0.192085   \n",
       "charged_kWh_actual                        0.893837   -0.307874   \n",
       "MWh_fraction                             -0.068819    0.036009   \n",
       "simple_actual_emissions                   0.978069   -0.303879   \n",
       "baseline_actual_emissions                 0.948084   -0.321737   \n",
       "simple_estimated_emissions                0.918239   -0.315755   \n",
       "simple_ideal_emissions                    1.000000   -0.305974   \n",
       "difference                               -0.305974    1.000000   \n",
       "difference_ideal                          0.051461    0.320797   \n",
       "difference_actual                        -0.064769    0.320828   \n",
       "\n",
       "                            difference_ideal  difference_actual  \n",
       "power_output_rate                  -0.034627           0.025961  \n",
       "total_intervals_plugged_in          0.063744           0.060193  \n",
       "charged_kWh_actual                 -0.149022          -0.121717  \n",
       "MWh_fraction                       -0.034627           0.025961  \n",
       "simple_actual_emissions             0.004373          -0.049027  \n",
       "baseline_actual_emissions          -0.088868          -0.122134  \n",
       "simple_estimated_emissions         -0.131238          -0.125575  \n",
       "simple_ideal_emissions              0.051461          -0.064769  \n",
       "difference                          0.320797           0.320828  \n",
       "difference_ideal                    1.000000           0.723803  \n",
       "difference_actual                   0.723803           1.000000  "
      ]
     },
     "execution_count": 54,
     "metadata": {},
     "output_type": "execute_result"
    }
   ],
   "source": [
    "# not linear \n",
    "results_data3.corr(numeric_only=True, method=\"pearson\")"
   ]
  },
  {
   "cell_type": "code",
   "execution_count": 53,
   "metadata": {},
   "outputs": [
    {
     "data": {
      "text/html": [
       "<div>\n",
       "<style scoped>\n",
       "    .dataframe tbody tr th:only-of-type {\n",
       "        vertical-align: middle;\n",
       "    }\n",
       "\n",
       "    .dataframe tbody tr th {\n",
       "        vertical-align: top;\n",
       "    }\n",
       "\n",
       "    .dataframe thead th {\n",
       "        text-align: right;\n",
       "    }\n",
       "</style>\n",
       "<table border=\"1\" class=\"dataframe\">\n",
       "  <thead>\n",
       "    <tr style=\"text-align: right;\">\n",
       "      <th></th>\n",
       "      <th>power_output_rate</th>\n",
       "      <th>total_intervals_plugged_in</th>\n",
       "      <th>charged_kWh_actual</th>\n",
       "      <th>MWh_fraction</th>\n",
       "      <th>simple_actual_emissions</th>\n",
       "      <th>baseline_actual_emissions</th>\n",
       "      <th>simple_estimated_emissions</th>\n",
       "      <th>simple_ideal_emissions</th>\n",
       "      <th>difference</th>\n",
       "      <th>difference_ideal</th>\n",
       "      <th>difference_actual</th>\n",
       "    </tr>\n",
       "  </thead>\n",
       "  <tbody>\n",
       "    <tr>\n",
       "      <th>power_output_rate</th>\n",
       "      <td>1.000000</td>\n",
       "      <td>-0.012681</td>\n",
       "      <td>-0.064778</td>\n",
       "      <td>1.000000</td>\n",
       "      <td>-0.069114</td>\n",
       "      <td>-0.024975</td>\n",
       "      <td>-0.077512</td>\n",
       "      <td>-0.113417</td>\n",
       "      <td>0.130770</td>\n",
       "      <td>0.184558</td>\n",
       "      <td>0.131409</td>\n",
       "    </tr>\n",
       "    <tr>\n",
       "      <th>total_intervals_plugged_in</th>\n",
       "      <td>-0.012681</td>\n",
       "      <td>1.000000</td>\n",
       "      <td>0.266849</td>\n",
       "      <td>-0.012681</td>\n",
       "      <td>0.211040</td>\n",
       "      <td>0.252834</td>\n",
       "      <td>0.225872</td>\n",
       "      <td>0.167683</td>\n",
       "      <td>0.285882</td>\n",
       "      <td>0.272920</td>\n",
       "      <td>0.203613</td>\n",
       "    </tr>\n",
       "    <tr>\n",
       "      <th>charged_kWh_actual</th>\n",
       "      <td>-0.064778</td>\n",
       "      <td>0.266849</td>\n",
       "      <td>1.000000</td>\n",
       "      <td>-0.064778</td>\n",
       "      <td>0.940422</td>\n",
       "      <td>0.960297</td>\n",
       "      <td>0.991250</td>\n",
       "      <td>0.889362</td>\n",
       "      <td>-0.281326</td>\n",
       "      <td>-0.285618</td>\n",
       "      <td>-0.167216</td>\n",
       "    </tr>\n",
       "    <tr>\n",
       "      <th>MWh_fraction</th>\n",
       "      <td>1.000000</td>\n",
       "      <td>-0.012681</td>\n",
       "      <td>-0.064778</td>\n",
       "      <td>1.000000</td>\n",
       "      <td>-0.069114</td>\n",
       "      <td>-0.024975</td>\n",
       "      <td>-0.077512</td>\n",
       "      <td>-0.113417</td>\n",
       "      <td>0.130770</td>\n",
       "      <td>0.184558</td>\n",
       "      <td>0.131409</td>\n",
       "    </tr>\n",
       "    <tr>\n",
       "      <th>simple_actual_emissions</th>\n",
       "      <td>-0.069114</td>\n",
       "      <td>0.211040</td>\n",
       "      <td>0.940422</td>\n",
       "      <td>-0.069114</td>\n",
       "      <td>1.000000</td>\n",
       "      <td>0.973934</td>\n",
       "      <td>0.954349</td>\n",
       "      <td>0.978780</td>\n",
       "      <td>-0.281001</td>\n",
       "      <td>-0.203506</td>\n",
       "      <td>-0.150719</td>\n",
       "    </tr>\n",
       "    <tr>\n",
       "      <th>baseline_actual_emissions</th>\n",
       "      <td>-0.024975</td>\n",
       "      <td>0.252834</td>\n",
       "      <td>0.960297</td>\n",
       "      <td>-0.024975</td>\n",
       "      <td>0.973934</td>\n",
       "      <td>1.000000</td>\n",
       "      <td>0.969062</td>\n",
       "      <td>0.943800</td>\n",
       "      <td>-0.289543</td>\n",
       "      <td>-0.248584</td>\n",
       "      <td>-0.185643</td>\n",
       "    </tr>\n",
       "    <tr>\n",
       "      <th>simple_estimated_emissions</th>\n",
       "      <td>-0.077512</td>\n",
       "      <td>0.225872</td>\n",
       "      <td>0.991250</td>\n",
       "      <td>-0.077512</td>\n",
       "      <td>0.954349</td>\n",
       "      <td>0.969062</td>\n",
       "      <td>1.000000</td>\n",
       "      <td>0.913224</td>\n",
       "      <td>-0.295188</td>\n",
       "      <td>-0.291729</td>\n",
       "      <td>-0.187832</td>\n",
       "    </tr>\n",
       "    <tr>\n",
       "      <th>simple_ideal_emissions</th>\n",
       "      <td>-0.113417</td>\n",
       "      <td>0.167683</td>\n",
       "      <td>0.889362</td>\n",
       "      <td>-0.113417</td>\n",
       "      <td>0.978780</td>\n",
       "      <td>0.943800</td>\n",
       "      <td>0.913224</td>\n",
       "      <td>1.000000</td>\n",
       "      <td>-0.291071</td>\n",
       "      <td>-0.188684</td>\n",
       "      <td>-0.175428</td>\n",
       "    </tr>\n",
       "    <tr>\n",
       "      <th>difference</th>\n",
       "      <td>0.130770</td>\n",
       "      <td>0.285882</td>\n",
       "      <td>-0.281326</td>\n",
       "      <td>0.130770</td>\n",
       "      <td>-0.281001</td>\n",
       "      <td>-0.289543</td>\n",
       "      <td>-0.295188</td>\n",
       "      <td>-0.291071</td>\n",
       "      <td>1.000000</td>\n",
       "      <td>0.628006</td>\n",
       "      <td>0.558614</td>\n",
       "    </tr>\n",
       "    <tr>\n",
       "      <th>difference_ideal</th>\n",
       "      <td>0.184558</td>\n",
       "      <td>0.272920</td>\n",
       "      <td>-0.285618</td>\n",
       "      <td>0.184558</td>\n",
       "      <td>-0.203506</td>\n",
       "      <td>-0.248584</td>\n",
       "      <td>-0.291729</td>\n",
       "      <td>-0.188684</td>\n",
       "      <td>0.628006</td>\n",
       "      <td>1.000000</td>\n",
       "      <td>0.669086</td>\n",
       "    </tr>\n",
       "    <tr>\n",
       "      <th>difference_actual</th>\n",
       "      <td>0.131409</td>\n",
       "      <td>0.203613</td>\n",
       "      <td>-0.167216</td>\n",
       "      <td>0.131409</td>\n",
       "      <td>-0.150719</td>\n",
       "      <td>-0.185643</td>\n",
       "      <td>-0.187832</td>\n",
       "      <td>-0.175428</td>\n",
       "      <td>0.558614</td>\n",
       "      <td>0.669086</td>\n",
       "      <td>1.000000</td>\n",
       "    </tr>\n",
       "  </tbody>\n",
       "</table>\n",
       "</div>"
      ],
      "text/plain": [
       "                            power_output_rate  total_intervals_plugged_in  \\\n",
       "power_output_rate                    1.000000                   -0.012681   \n",
       "total_intervals_plugged_in          -0.012681                    1.000000   \n",
       "charged_kWh_actual                  -0.064778                    0.266849   \n",
       "MWh_fraction                         1.000000                   -0.012681   \n",
       "simple_actual_emissions             -0.069114                    0.211040   \n",
       "baseline_actual_emissions           -0.024975                    0.252834   \n",
       "simple_estimated_emissions          -0.077512                    0.225872   \n",
       "simple_ideal_emissions              -0.113417                    0.167683   \n",
       "difference                           0.130770                    0.285882   \n",
       "difference_ideal                     0.184558                    0.272920   \n",
       "difference_actual                    0.131409                    0.203613   \n",
       "\n",
       "                            charged_kWh_actual  MWh_fraction  \\\n",
       "power_output_rate                    -0.064778      1.000000   \n",
       "total_intervals_plugged_in            0.266849     -0.012681   \n",
       "charged_kWh_actual                    1.000000     -0.064778   \n",
       "MWh_fraction                         -0.064778      1.000000   \n",
       "simple_actual_emissions               0.940422     -0.069114   \n",
       "baseline_actual_emissions             0.960297     -0.024975   \n",
       "simple_estimated_emissions            0.991250     -0.077512   \n",
       "simple_ideal_emissions                0.889362     -0.113417   \n",
       "difference                           -0.281326      0.130770   \n",
       "difference_ideal                     -0.285618      0.184558   \n",
       "difference_actual                    -0.167216      0.131409   \n",
       "\n",
       "                            simple_actual_emissions  \\\n",
       "power_output_rate                         -0.069114   \n",
       "total_intervals_plugged_in                 0.211040   \n",
       "charged_kWh_actual                         0.940422   \n",
       "MWh_fraction                              -0.069114   \n",
       "simple_actual_emissions                    1.000000   \n",
       "baseline_actual_emissions                  0.973934   \n",
       "simple_estimated_emissions                 0.954349   \n",
       "simple_ideal_emissions                     0.978780   \n",
       "difference                                -0.281001   \n",
       "difference_ideal                          -0.203506   \n",
       "difference_actual                         -0.150719   \n",
       "\n",
       "                            baseline_actual_emissions  \\\n",
       "power_output_rate                           -0.024975   \n",
       "total_intervals_plugged_in                   0.252834   \n",
       "charged_kWh_actual                           0.960297   \n",
       "MWh_fraction                                -0.024975   \n",
       "simple_actual_emissions                      0.973934   \n",
       "baseline_actual_emissions                    1.000000   \n",
       "simple_estimated_emissions                   0.969062   \n",
       "simple_ideal_emissions                       0.943800   \n",
       "difference                                  -0.289543   \n",
       "difference_ideal                            -0.248584   \n",
       "difference_actual                           -0.185643   \n",
       "\n",
       "                            simple_estimated_emissions  \\\n",
       "power_output_rate                            -0.077512   \n",
       "total_intervals_plugged_in                    0.225872   \n",
       "charged_kWh_actual                            0.991250   \n",
       "MWh_fraction                                 -0.077512   \n",
       "simple_actual_emissions                       0.954349   \n",
       "baseline_actual_emissions                     0.969062   \n",
       "simple_estimated_emissions                    1.000000   \n",
       "simple_ideal_emissions                        0.913224   \n",
       "difference                                   -0.295188   \n",
       "difference_ideal                             -0.291729   \n",
       "difference_actual                            -0.187832   \n",
       "\n",
       "                            simple_ideal_emissions  difference  \\\n",
       "power_output_rate                        -0.113417    0.130770   \n",
       "total_intervals_plugged_in                0.167683    0.285882   \n",
       "charged_kWh_actual                        0.889362   -0.281326   \n",
       "MWh_fraction                             -0.113417    0.130770   \n",
       "simple_actual_emissions                   0.978780   -0.281001   \n",
       "baseline_actual_emissions                 0.943800   -0.289543   \n",
       "simple_estimated_emissions                0.913224   -0.295188   \n",
       "simple_ideal_emissions                    1.000000   -0.291071   \n",
       "difference                               -0.291071    1.000000   \n",
       "difference_ideal                         -0.188684    0.628006   \n",
       "difference_actual                        -0.175428    0.558614   \n",
       "\n",
       "                            difference_ideal  difference_actual  \n",
       "power_output_rate                   0.184558           0.131409  \n",
       "total_intervals_plugged_in          0.272920           0.203613  \n",
       "charged_kWh_actual                 -0.285618          -0.167216  \n",
       "MWh_fraction                        0.184558           0.131409  \n",
       "simple_actual_emissions            -0.203506          -0.150719  \n",
       "baseline_actual_emissions          -0.248584          -0.185643  \n",
       "simple_estimated_emissions         -0.291729          -0.187832  \n",
       "simple_ideal_emissions             -0.188684          -0.175428  \n",
       "difference                          0.628006           0.558614  \n",
       "difference_ideal                    1.000000           0.669086  \n",
       "difference_actual                   0.669086           1.000000  "
      ]
     },
     "execution_count": 53,
     "metadata": {},
     "output_type": "execute_result"
    }
   ],
   "source": [
    "# values have some positive rank order correlation\n",
    "results_data3.corr(numeric_only=True, method=\"spearman\")"
   ]
  },
  {
   "cell_type": "code",
   "execution_count": null,
   "metadata": {},
   "outputs": [],
   "source": []
  }
 ],
 "metadata": {
  "kernelspec": {
   "display_name": "Python 3 (ipykernel)",
   "language": "python",
   "name": "python3"
  },
  "language_info": {
   "codemirror_mode": {
    "name": "ipython",
    "version": 3
   },
   "file_extension": ".py",
   "mimetype": "text/x-python",
   "name": "python",
   "nbconvert_exporter": "python",
   "pygments_lexer": "ipython3",
   "version": "3.9.16"
  }
 },
 "nbformat": 4,
 "nbformat_minor": 2
}
