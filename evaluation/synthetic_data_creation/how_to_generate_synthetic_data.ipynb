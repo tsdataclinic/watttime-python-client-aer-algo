{
 "cells": [
  {
   "cell_type": "markdown",
   "id": "5f92e716",
   "metadata": {},
   "source": [
    "# Synthetic Data Generation + Usage Example"
   ]
  },
  {
   "cell_type": "code",
   "execution_count": 34,
   "id": "aac8e781-d6fb-44da-a35f-29b209421ce8",
   "metadata": {},
   "outputs": [],
   "source": [
    "import os\n",
    "PATH = os.getenv(\"HOME\")\n",
    "os.chdir(f\"{PATH}/watttime-python-client-aer-algo\")\n",
    "\n",
    "import pandas as pd\n",
    "import evaluation.eval_framework as evu\n",
    "import math\n",
    "from datetime import datetime\n",
    "\n",
    "import seaborn as sns\n",
    "import evaluation.metrics as m\n",
    "\n",
    "username = os.getenv(\"WATTTIME_USER\")\n",
    "password = os.getenv(\"WATTTIME_PASSWORD\")"
   ]
  },
  {
   "cell_type": "markdown",
   "id": "9eed4d88",
   "metadata": {},
   "source": [
    "## Step 1: Generate a year of data\n",
    "- two random dates chosen per week\n",
    "- Max date is yesterday\n",
    "- duplicate dates removed"
   ]
  },
  {
   "cell_type": "code",
   "execution_count": 3,
   "id": "085336f2",
   "metadata": {},
   "outputs": [],
   "source": [
    "dates_2023 = evu.generate_random_dates(2023)\n",
    "dates_2024 = evu.generate_random_dates(2024)\n",
    "distinct_date_list = dates_2023 + dates_2024"
   ]
  },
  {
   "cell_type": "markdown",
   "id": "d9e3a417",
   "metadata": {},
   "source": [
    "## Step 2: Set keyword parameters + generate dataframe"
   ]
  },
  {
   "cell_type": "markdown",
   "id": "a8684e52",
   "metadata": {},
   "source": [
    "### Example: requerying test\n",
    "\n",
    "- uniform session lengths for 3,6,12 hours\n",
    "- only 2024 dates"
   ]
  },
  {
   "cell_type": "code",
   "execution_count": 44,
   "id": "e3d15a6b",
   "metadata": {},
   "outputs": [],
   "source": [
    "dates_2024_only = list(filter(lambda x: x.year == 2024, distinct_date_list))"
   ]
  },
  {
   "cell_type": "code",
   "execution_count": null,
   "id": "ec84f7d0",
   "metadata": {},
   "outputs": [],
   "source": [
    "req_kwargs = {\n",
    "    \"power_output_max_rates\": [42.5], # BMW average\n",
    "    \"max_percent_capacity\": 0.95,  # highest level of charge achieved by battery\n",
    "    \"power_output_efficiency\": 0.75,  # power loss. 1 = no power loss.\n",
    "    \"average_battery_starting_capacity\": 0.5,  # average starting percent charged\n",
    "    \"start_hour\": \"00:00:00\",  # earliest session can start\n",
    "    \"end_hour\": \"23:59:00\",  # latest session can start\n",
    "    \"user_charge_tolerance\":1, # must complete\n",
    "    \"session_lengths\":[x*60*60 for x  in [3,6,12]] # convert hours to seconds\n",
    "}"
   ]
  },
  {
   "cell_type": "code",
   "execution_count": 46,
   "id": "ed64fa24",
   "metadata": {},
   "outputs": [
    {
     "name": "stderr",
     "output_type": "stream",
     "text": [
      "100%|██████████| 1000/1000 [00:03<00:00, 288.75it/s]\n"
     ]
    }
   ],
   "source": [
    "df_req = evu.execute_synth_data_process(\n",
    "    distinct_date_list=dates_2024_only, number_of_users=1000, **req_kwargs\n",
    ")"
   ]
  },
  {
   "cell_type": "markdown",
   "id": "2133bf76",
   "metadata": {},
   "source": [
    "### Example: At home EV charging\n",
    "\n",
    "- Covers a 5.5 - 8.5 hour variable length window\n",
    "- The vehicle has a BMW and has an average power draw of 42.5\n",
    "- Battery is usually typically 50% charged at plug in time.\n",
    "- Charging occurs during the workday"
   ]
  },
  {
   "cell_type": "code",
   "execution_count": 3,
   "id": "766e4c1a",
   "metadata": {},
   "outputs": [],
   "source": [
    "ev_kwargs = {\n",
    "    \"power_output_max_rates\": [42.5], # BMW average\n",
    "    \"max_percent_capacity\": 0.95,  # highest level of charge achieved by battery\n",
    "    \"power_output_efficiency\": 0.75,  # power loss. 1 = no power loss.\n",
    "    \"average_battery_starting_capacity\": 0.5,  # average starting percent charged\n",
    "    \"start_hour\": \"09:00:00\",  # earliest session can start\n",
    "    \"end_hour\": \"17:00:00\",  # latest session can start\n",
    "}"
   ]
  },
  {
   "cell_type": "markdown",
   "id": "fe378990",
   "metadata": {},
   "source": [
    "### Example: AI Model Training\n",
    "\n",
    "- Model training can occur at any time of day\n",
    "- There are 3 server models that consume 240, 310, and 400 watt-hour on average\n",
    "- Early stopping is not an option"
   ]
  },
  {
   "cell_type": "code",
   "execution_count": 4,
   "id": "aef53564",
   "metadata": {},
   "outputs": [],
   "source": [
    "# criteria\n",
    "ai_kwargs = {\n",
    "    \"power_output_max_rates\": [240,310,400], # assuming a bare metal usecase, k8s or vm rescale to vCPU\n",
    "    \"start_hour\": \"00:00:00\",  # earliest session can start\n",
    "    \"end_hour\": \"23:59:00\",  # latest session can start\n",
    "    \"user_charge_tolerance\":1.0 # job must run to completion\n",
    "}"
   ]
  },
  {
   "cell_type": "markdown",
   "id": "272839f0",
   "metadata": {},
   "source": [
    "## Step 3: Generate dataframe for x # of synthetic users\n",
    "- synthetic user = user behavior + device characteristics"
   ]
  },
  {
   "cell_type": "code",
   "execution_count": 5,
   "id": "06af13f5",
   "metadata": {},
   "outputs": [
    {
     "name": "stderr",
     "output_type": "stream",
     "text": [
      "100%|██████████| 1/1 [00:00<00:00, 46.02it/s]\n"
     ]
    }
   ],
   "source": [
    "# generating data for 1 vehicle\n",
    "df_ev = evu.execute_synth_data_process(\n",
    "    distinct_date_list=distinct_date_list, number_of_users=1, **ev_kwargs\n",
    ")"
   ]
  },
  {
   "cell_type": "code",
   "execution_count": 6,
   "id": "dcfddb36-1bdf-404c-b90f-6a2531d734ca",
   "metadata": {},
   "outputs": [
    {
     "name": "stderr",
     "output_type": "stream",
     "text": [
      "100%|██████████| 5/5 [00:00<00:00, 32.63it/s]\n"
     ]
    }
   ],
   "source": [
    "# generating data for 5 AI models\n",
    "df_ai = evu.execute_synth_data_process(\n",
    "    distinct_date_list=distinct_date_list, number_of_users=5, **ai_kwargs\n",
    ")"
   ]
  },
  {
   "cell_type": "code",
   "execution_count": 8,
   "id": "501cc1ee",
   "metadata": {},
   "outputs": [
    {
     "name": "stdout",
     "output_type": "stream",
     "text": [
      "<class 'pandas.core.frame.DataFrame'>\n",
      "RangeIndex: 960 entries, 0 to 959\n",
      "Data columns (total 19 columns):\n",
      " #   Column                        Non-Null Count  Dtype         \n",
      "---  ------                        --------------  -----         \n",
      " 0   index                         960 non-null    int64         \n",
      " 1   distinct_dates                960 non-null    object        \n",
      " 2   user_type                     960 non-null    object        \n",
      " 3   session_start_time            960 non-null    datetime64[ns]\n",
      " 4   session_end_time              960 non-null    datetime64[ns]\n",
      " 5   initial_charge                960 non-null    float64       \n",
      " 6   total_seconds_to_95           960 non-null    float64       \n",
      " 7   full_charge_time              960 non-null    datetime64[ns]\n",
      " 8   length_of_session_in_seconds  960 non-null    float64       \n",
      " 9   charged_kWh_actual            960 non-null    float64       \n",
      " 10  final_perc_charged            960 non-null    float64       \n",
      " 11  final_charge_time             960 non-null    datetime64[ns]\n",
      " 12  uncharged                     960 non-null    bool          \n",
      " 13  total_capacity                960 non-null    int64         \n",
      " 14  power_output_rate             960 non-null    float64       \n",
      " 15  total_intervals_plugged_in    960 non-null    float64       \n",
      " 16  charge_MWh_needed             960 non-null    float64       \n",
      " 17  charged_MWh_actual            960 non-null    float64       \n",
      " 18  MWh_fraction                  960 non-null    float64       \n",
      "dtypes: bool(1), datetime64[ns](4), float64(10), int64(2), object(2)\n",
      "memory usage: 136.1+ KB\n"
     ]
    }
   ],
   "source": [
    "df_ai.info()"
   ]
  },
  {
   "cell_type": "markdown",
   "id": "4a71e3bc-6f36-42a3-9136-8843608e32d3",
   "metadata": {},
   "source": [
    "## Synth Data Distributions"
   ]
  },
  {
   "cell_type": "code",
   "execution_count": 10,
   "id": "bc3f0781-c09b-4e84-94c3-fa2632de863e",
   "metadata": {},
   "outputs": [
    {
     "data": {
      "text/plain": [
       "Text(0.5, 1.0, 'EV Synthetic Data - Charging Session Length (seconds)')"
      ]
     },
     "execution_count": 10,
     "metadata": {},
     "output_type": "execute_result"
    },
    {
     "data": {
      "image/png": "[encoded data removed]",
      "text/plain": [
       "<Figure size 640x480 with 1 Axes>"
      ]
     },
     "metadata": {},
     "output_type": "display_data"
    }
   ],
   "source": [
    "sns.histplot(df_ev[\"length_of_session_in_seconds\"]).set_title(\n",
    "    \"EV Synthetic Data - Charging Session Length (seconds)\"\n",
    ")"
   ]
  },
  {
   "cell_type": "code",
   "execution_count": 11,
   "id": "a4fdbc08",
   "metadata": {},
   "outputs": [
    {
     "data": {
      "text/plain": [
       "Text(0.5, 1.0, 'AI Synthetic Data - Training Session Length (seconds)')"
      ]
     },
     "execution_count": 11,
     "metadata": {},
     "output_type": "execute_result"
    },
    {
     "data": {
      "image/png": "[encoded data removed]",
      "text/plain": [
       "<Figure size 640x480 with 1 Axes>"
      ]
     },
     "metadata": {},
     "output_type": "display_data"
    }
   ],
   "source": [
    "sns.histplot(df_ai[\"length_of_session_in_seconds\"]).set_title(\n",
    "    \"AI Synthetic Data - Training Session Length (seconds)\"\n",
    ")"
   ]
  },
  {
   "cell_type": "markdown",
   "id": "c9103904",
   "metadata": {},
   "source": [
    "## Step 3: Get MOER forecast and actuals"
   ]
  },
  {
   "cell_type": "code",
   "execution_count": 12,
   "id": "123de121",
   "metadata": {},
   "outputs": [],
   "source": [
    "# taking a subset of data - this takes a while to run\n",
    "synth_data = df_ai.sample(2)\n",
    "region = \"SPP_SIOUX\""
   ]
  },
  {
   "cell_type": "code",
   "execution_count": 13,
   "id": "ba62a9f5",
   "metadata": {},
   "outputs": [],
   "source": [
    "def sanitize_time_needed(x,y):\n",
    "    return int(math.ceil(min(x, y) / 300.0) * 5)\n",
    "\n",
    "def sanitize_total_intervals(x):\n",
    "    return math.ceil(x)\n",
    "\n",
    "synth_data[\"moer_forecast\"] = synth_data.apply(\n",
    "    lambda x: evu.get_historical_fcst_data(\n",
    "        x.session_start_time, \n",
    "        sanitize_total_intervals(x.total_intervals_plugged_in),\n",
    "        region=region\n",
    "    ),\n",
    "    axis=1,\n",
    ")\n",
    "\n",
    "synth_data[\"moer_actual\"] = synth_data.apply(\n",
    "    lambda x: evu.get_historical_actual_data(\n",
    "        x.session_start_time, \n",
    "        sanitize_total_intervals(x.total_intervals_plugged_in),\n",
    "        region=region\n",
    "    ),\n",
    "    axis=1,\n",
    ")"
   ]
  },
  {
   "cell_type": "markdown",
   "id": "c2e48416",
   "metadata": {},
   "source": [
    "## Step 4: Optimize\n",
    "\n",
    "- For this use case we can use the simplest optimizer give that we have no additional constraints"
   ]
  },
  {
   "cell_type": "code",
   "execution_count": 14,
   "id": "38b94717",
   "metadata": {},
   "outputs": [],
   "source": [
    "def run_optimization_functions(df: pd.DataFrame, contiguous=False):\n",
    "    # Lambda functions for common operations\n",
    "    get_charging_schedule = lambda x: x[\"usage\"].values.flatten()\n",
    "    get_total_emissions = lambda x: x[\"emissions_co2e_lb\"].sum()\n",
    "    \n",
    "    # Sanitize input data\n",
    "    df[\"sanitize_intervals_plugged_in\"] = df.apply(lambda x: sanitize_total_intervals(x.total_intervals_plugged_in), axis=1)\n",
    "    df[\"sanitize_time_needed\"] = df.apply(lambda x: sanitize_time_needed(x.total_seconds_to_95, x.length_of_session_in_seconds), axis=1)\n",
    "    \n",
    "    # Helper function for charge_per_interval\n",
    "    def charge_per_interval_func(x, contiguous=False):\n",
    "        return [(x)] if contiguous else None\n",
    "    \n",
    "    # Function to apply optimization\n",
    "    def apply_optimization(row, moer_data, optimization_method):\n",
    "        return evu.get_schedule_and_cost_api(\n",
    "            usage_power_kw=row.power_output_rate,\n",
    "            time_needed=row.sanitize_time_needed,\n",
    "            total_time_horizon=row.sanitize_intervals_plugged_in,\n",
    "            moer_data=moer_data,\n",
    "            optimization_method=optimization_method,\n",
    "            charge_per_interval=charge_per_interval_func(row.sanitize_time_needed, contiguous=contiguous)\n",
    "        )\n",
    "    \n",
    "    # Apply optimizations\n",
    "    df[\"optimizer_baseline\"] = df.apply(lambda x: apply_optimization(x, x.moer_actual, \"baseline\"), axis=1)\n",
    "    df[\"optimizer_ideal\"] = df.apply(lambda x: apply_optimization(x, x.moer_actual, \"auto\"), axis=1)\n",
    "    df[\"optimizer_simple\"] = df.apply(lambda x: apply_optimization(x, x.moer_forecast, \"auto\"), axis=1)\n",
    "    \n",
    "    # Calculate emissions and charging schedules\n",
    "    df[\"charging_schedule\"] = df[\"optimizer_simple\"].apply(get_charging_schedule)\n",
    "    df[\"baseline_emissions\"] = df[\"optimizer_baseline\"].apply(get_total_emissions)\n",
    "    df[\"ideal_charging_schedule\"] = df[\"optimizer_ideal\"].apply(get_charging_schedule)\n",
    "    df[\"ideal_emissions\"] = df[\"optimizer_ideal\"].apply(get_total_emissions)\n",
    "    df[\"forecast_emissions\"] = df[\"optimizer_simple\"].apply(get_total_emissions)\n",
    "    \n",
    "    # Calculate actual emissions\n",
    "    df[\"actual_emissions\"] = df.apply(\n",
    "        lambda x: evu.get_total_emission(\n",
    "            x.moer_actual[\"value\"],\n",
    "            x.optimizer_simple.energy_usage_mwh\n",
    "        ),\n",
    "        axis=1\n",
    "    )\n",
    "    \n",
    "    return df"
   ]
  },
  {
   "cell_type": "code",
   "execution_count": 17,
   "id": "bf4e4e89",
   "metadata": {},
   "outputs": [
    {
     "name": "stdout",
     "output_type": "stream",
     "text": [
      "== Baseline fit! ==\n",
      "== Baseline fit! ==\n",
      "== Fixed contiguous fit! ==\n",
      "Cumulative charge [0, 2]\n",
      "== Fixed contiguous fit! ==\n",
      "Cumulative charge [0, 2]\n",
      "== Fixed contiguous fit! ==\n",
      "Cumulative charge [0, 2]\n",
      "== Fixed contiguous fit! ==\n",
      "Cumulative charge [0, 2]\n"
     ]
    }
   ],
   "source": [
    "synth_data = run_optimization_functions(synth_data, contiguous=True)"
   ]
  },
  {
   "cell_type": "markdown",
   "id": "c93675aa",
   "metadata": {},
   "source": [
    "## Step 5: Results"
   ]
  },
  {
   "cell_type": "code",
   "execution_count": 18,
   "id": "1d0c89d5",
   "metadata": {},
   "outputs": [
    {
     "data": {
      "text/html": [
       "<div>\n",
       "<style scoped>\n",
       "    .dataframe tbody tr th:only-of-type {\n",
       "        vertical-align: middle;\n",
       "    }\n",
       "\n",
       "    .dataframe tbody tr th {\n",
       "        vertical-align: top;\n",
       "    }\n",
       "\n",
       "    .dataframe thead th {\n",
       "        text-align: right;\n",
       "    }\n",
       "</style>\n",
       "<table border=\"1\" class=\"dataframe\">\n",
       "  <thead>\n",
       "    <tr style=\"text-align: right;\">\n",
       "      <th></th>\n",
       "      <th>distinct_dates</th>\n",
       "      <th>user_type</th>\n",
       "      <th>baseline_emissions</th>\n",
       "      <th>ideal_emissions</th>\n",
       "      <th>forecast_emissions</th>\n",
       "      <th>actual_emissions</th>\n",
       "    </tr>\n",
       "  </thead>\n",
       "  <tbody>\n",
       "    <tr>\n",
       "      <th>828</th>\n",
       "      <td>2023-08-02</td>\n",
       "      <td>r222.89_tc39_avglc25859_sdlc7538</td>\n",
       "      <td>49.351561</td>\n",
       "      <td>49.332987</td>\n",
       "      <td>48.146097</td>\n",
       "      <td>51.413293</td>\n",
       "    </tr>\n",
       "    <tr>\n",
       "      <th>443</th>\n",
       "      <td>2023-07-30</td>\n",
       "      <td>r170.19000000000003_tc31_avglc21474_sdlc7888</td>\n",
       "      <td>38.959328</td>\n",
       "      <td>0.453840</td>\n",
       "      <td>36.026387</td>\n",
       "      <td>41.838375</td>\n",
       "    </tr>\n",
       "  </tbody>\n",
       "</table>\n",
       "</div>"
      ],
      "text/plain": [
       "    distinct_dates                                     user_type  \\\n",
       "828     2023-08-02              r222.89_tc39_avglc25859_sdlc7538   \n",
       "443     2023-07-30  r170.19000000000003_tc31_avglc21474_sdlc7888   \n",
       "\n",
       "     baseline_emissions  ideal_emissions  forecast_emissions  actual_emissions  \n",
       "828           49.351561        49.332987           48.146097         51.413293  \n",
       "443           38.959328         0.453840           36.026387         41.838375  "
      ]
     },
     "execution_count": 18,
     "metadata": {},
     "output_type": "execute_result"
    }
   ],
   "source": [
    "synth_data[[\"distinct_dates\",\"user_type\",\"baseline_emissions\",\"ideal_emissions\",\"forecast_emissions\",\"actual_emissions\"]]"
   ]
  },
  {
   "cell_type": "code",
   "execution_count": 19,
   "id": "e394131d",
   "metadata": {},
   "outputs": [],
   "source": [
    "em = m.EvalMetrics(\n",
    "    baseline_col= \"baseline_emissions\",\n",
    "    ideal_col=\"ideal_emissions\", \n",
    "    forecast_col=\"forecast_emissions\",\n",
    "    actuals_col=\"actual_emissions\"\n",
    "    )"
   ]
  },
  {
   "cell_type": "code",
   "execution_count": 20,
   "id": "725949bd",
   "metadata": {},
   "outputs": [
    {
     "data": {
      "text/html": [
       "<div>\n",
       "<style scoped>\n",
       "    .dataframe tbody tr th:only-of-type {\n",
       "        vertical-align: middle;\n",
       "    }\n",
       "\n",
       "    .dataframe tbody tr th {\n",
       "        vertical-align: top;\n",
       "    }\n",
       "\n",
       "    .dataframe thead th {\n",
       "        text-align: right;\n",
       "    }\n",
       "</style>\n",
       "<table border=\"1\" class=\"dataframe\">\n",
       "  <thead>\n",
       "    <tr style=\"text-align: right;\">\n",
       "      <th></th>\n",
       "      <th>distinct_dates</th>\n",
       "      <th>user_type</th>\n",
       "      <th>emissions_avoided</th>\n",
       "      <th>expected_avoidance</th>\n",
       "      <th>nearness_to_ideal</th>\n",
       "      <th>forecast_error</th>\n",
       "    </tr>\n",
       "  </thead>\n",
       "  <tbody>\n",
       "    <tr>\n",
       "      <th>828</th>\n",
       "      <td>2023-08-02</td>\n",
       "      <td>r222.89_tc39_avglc25859_sdlc7538</td>\n",
       "      <td>2.061732</td>\n",
       "      <td>-1.205463</td>\n",
       "      <td>-1.186889</td>\n",
       "      <td>3.267196</td>\n",
       "    </tr>\n",
       "    <tr>\n",
       "      <th>443</th>\n",
       "      <td>2023-07-30</td>\n",
       "      <td>r170.19000000000003_tc31_avglc21474_sdlc7888</td>\n",
       "      <td>2.879047</td>\n",
       "      <td>-2.932941</td>\n",
       "      <td>35.572547</td>\n",
       "      <td>5.811989</td>\n",
       "    </tr>\n",
       "  </tbody>\n",
       "</table>\n",
       "</div>"
      ],
      "text/plain": [
       "    distinct_dates                                     user_type  \\\n",
       "828     2023-08-02              r222.89_tc39_avglc25859_sdlc7538   \n",
       "443     2023-07-30  r170.19000000000003_tc31_avglc21474_sdlc7888   \n",
       "\n",
       "     emissions_avoided  expected_avoidance  nearness_to_ideal  forecast_error  \n",
       "828           2.061732           -1.205463          -1.186889        3.267196  \n",
       "443           2.879047           -2.932941          35.572547        5.811989  "
      ]
     },
     "execution_count": 20,
     "metadata": {},
     "output_type": "execute_result"
    }
   ],
   "source": [
    "em.calculate_results(synth_data,keep_cols = [\"distinct_dates\",\"user_type\"], percent=False)"
   ]
  },
  {
   "cell_type": "code",
   "execution_count": 21,
   "id": "f0d374f4",
   "metadata": {},
   "outputs": [
    {
     "data": {
      "text/html": [
       "<div>\n",
       "<style scoped>\n",
       "    .dataframe tbody tr th:only-of-type {\n",
       "        vertical-align: middle;\n",
       "    }\n",
       "\n",
       "    .dataframe tbody tr th {\n",
       "        vertical-align: top;\n",
       "    }\n",
       "\n",
       "    .dataframe thead th {\n",
       "        text-align: right;\n",
       "    }\n",
       "</style>\n",
       "<table border=\"1\" class=\"dataframe\">\n",
       "  <thead>\n",
       "    <tr style=\"text-align: right;\">\n",
       "      <th></th>\n",
       "      <th>distinct_dates</th>\n",
       "      <th>user_type</th>\n",
       "      <th>emissions_avoided_percent</th>\n",
       "      <th>expected_avoidance_percent</th>\n",
       "      <th>nearness_to_ideal_percent</th>\n",
       "      <th>forecast_error_percent</th>\n",
       "    </tr>\n",
       "  </thead>\n",
       "  <tbody>\n",
       "    <tr>\n",
       "      <th>828</th>\n",
       "      <td>2023-08-02</td>\n",
       "      <td>r222.89_tc39_avglc25859_sdlc7538</td>\n",
       "      <td>4.177644</td>\n",
       "      <td>-2.442604</td>\n",
       "      <td>-2.405873</td>\n",
       "      <td>6.786004</td>\n",
       "    </tr>\n",
       "    <tr>\n",
       "      <th>443</th>\n",
       "      <td>2023-07-30</td>\n",
       "      <td>r170.19000000000003_tc31_avglc21474_sdlc7888</td>\n",
       "      <td>7.389880</td>\n",
       "      <td>-7.528213</td>\n",
       "      <td>7838.125000</td>\n",
       "      <td>16.132588</td>\n",
       "    </tr>\n",
       "  </tbody>\n",
       "</table>\n",
       "</div>"
      ],
      "text/plain": [
       "    distinct_dates                                     user_type  \\\n",
       "828     2023-08-02              r222.89_tc39_avglc25859_sdlc7538   \n",
       "443     2023-07-30  r170.19000000000003_tc31_avglc21474_sdlc7888   \n",
       "\n",
       "     emissions_avoided_percent  expected_avoidance_percent  \\\n",
       "828                   4.177644                   -2.442604   \n",
       "443                   7.389880                   -7.528213   \n",
       "\n",
       "     nearness_to_ideal_percent  forecast_error_percent  \n",
       "828                  -2.405873                6.786004  \n",
       "443                7838.125000               16.132588  "
      ]
     },
     "execution_count": 21,
     "metadata": {},
     "output_type": "execute_result"
    }
   ],
   "source": [
    "em.calculate_results(synth_data,keep_cols = [\"distinct_dates\",\"user_type\"],percent=True)"
   ]
  }
 ],
 "metadata": {
  "kernelspec": {
   "display_name": "watttime",
   "language": "python",
   "name": "python3"
  },
  "language_info": {
   "codemirror_mode": {
    "name": "ipython",
    "version": 3
   },
   "file_extension": ".py",
   "mimetype": "text/x-python",
   "name": "python",
   "nbconvert_exporter": "python",
   "pygments_lexer": "ipython3",
   "version": "3.12.7"
  }
 },
 "nbformat": 4,
 "nbformat_minor": 5
}
