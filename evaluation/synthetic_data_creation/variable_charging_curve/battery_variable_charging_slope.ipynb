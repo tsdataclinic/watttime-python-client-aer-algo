{
 "cells": [
  {
   "cell_type": "markdown",
   "id": "5f92e716",
   "metadata": {},
   "source": [
    "# Robin review\n",
    "\n",
    "Notes\n",
    "\n",
    "Current thinking: time_needed overrides usage_power_kw when it's a scalar. What about when it's a dataframe?"
   ]
  },
  {
   "cell_type": "code",
   "execution_count": 1,
   "id": "ff606990",
   "metadata": {},
   "outputs": [],
   "source": [
    "%reload_ext autoreload\n",
    "%autoreload 2"
   ]
  },
  {
   "cell_type": "code",
   "execution_count": 3,
   "id": "aac8e781-d6fb-44da-a35f-29b209421ce8",
   "metadata": {},
   "outputs": [],
   "source": [
    "import os\n",
    "\n",
    "os.chdir(f\"/home/{os.getlogin()}/watttime-python-client-aer-algo\")\n",
    "\n",
    "import numpy as np\n",
    "import pandas as pd\n",
    "from watttime import WattTimeHistorical, WattTimeForecast\n",
    "import data.dataset as od\n",
    "import evaluation.eval_framework as evu\n",
    "import data.s3 as s3u\n",
    "import math\n",
    "from typing import Union\n",
    "\n",
    "import seaborn as sns\n",
    "import matplotlib.pyplot as plt\n",
    "from evaluation.config import CARS\n",
    "import evaluation.battery as b\n",
    "\n",
    "username = os.getenv(\"WATTTIME_USER\")\n",
    "password = os.getenv(\"WATTTIME_PASSWORD\")\n",
    "\n",
    "s3 = s3u.s3_utils()\n",
    "key = \"20240726_1k_synth_users_163_days.csv\"\n",
    "generated_data = s3.load_csvdataframe(file=key)"
   ]
  },
  {
   "cell_type": "code",
   "execution_count": 4,
   "id": "f440bbb4",
   "metadata": {},
   "outputs": [],
   "source": [
    "generated_data.columns =  ['index', 'distinct_dates', 'user_type', 'session_start_time', 'session_end_time',\n",
    "       'initial_charge', 'total_seconds_to_95', 'full_charge_time',\n",
    "       'length_plugged_in', 'charged_kWh_actual', 'final_perc_charged',\n",
    "       'final_charge_time', 'uncharged', 'total_capacity', 'power_output_rate',\n",
    "       'total_intervals_plugged_in', 'charge_MWh_needed', 'charged_MWh_actual',\n",
    "       'MWh_fraction']\n",
    "\n",
    "# added random_state for reproducibility\n",
    "synth_data = generated_data.sample(1, random_state=1).copy(deep=True)\n",
    "synth_data[\"session_start_time\"] = pd.to_datetime(synth_data[\"session_start_time\"])\n",
    "\n",
    "synth_data[\"length_of_session_in_seconds\"] = (\n",
    "        pd.to_datetime(synth_data.session_end_time) - pd.to_datetime(synth_data.session_start_time)\n",
    "    ) / pd.Timedelta(seconds=1)"
   ]
  },
  {
   "cell_type": "markdown",
   "id": "986c1339",
   "metadata": {},
   "source": [
    "## Calculate Variable MOERs"
   ]
  },
  {
   "cell_type": "code",
   "execution_count": 5,
   "id": "f1576f92",
   "metadata": {},
   "outputs": [],
   "source": [
    "tesla_charging_curve = pd.DataFrame(\n",
    "        columns=[\"SoC\", \"kW\"],\n",
    "        data = CARS['tesla']\n",
    "    )\n",
    "\n",
    "synth_data[\"variable_power_output_rate\"] = synth_data.apply( \n",
    "    lambda x: b.Battery(\n",
    "        initial_soc = x.initial_charge, \n",
    "        charging_curve = tesla_charging_curve,\n",
    "        capacity_kWh = x.total_capacity\n",
    "    ).get_usage_power_kw_df(),\n",
    "    axis=1\n",
    "    )"
   ]
  },
  {
   "cell_type": "markdown",
   "id": "47b7f3c3",
   "metadata": {},
   "source": [
    "## Calculate MOERs"
   ]
  },
  {
   "cell_type": "code",
   "execution_count": 6,
   "id": "2be31e11",
   "metadata": {},
   "outputs": [],
   "source": [
    "region = \"PJM_CHICAGO\"\n",
    "\n",
    "synth_data[\"moer_data\"] = synth_data.apply(\n",
    "    lambda x: evu.get_historical_fcst_data(\n",
    "        x.session_start_time, math.ceil(x.total_intervals_plugged_in), region=region\n",
    "    ),\n",
    "    axis=1,\n",
    ")\n",
    "\n",
    "synth_data[\"moer_data_actual\"] = synth_data.apply( \n",
    "    lambda x: evu.get_historical_actual_data(\n",
    "        x.session_start_time, math.ceil(x.total_intervals_plugged_in), region=region\n",
    "    ),\n",
    "    axis=1,\n",
    ")"
   ]
  },
  {
   "cell_type": "code",
   "execution_count": 7,
   "id": "f035da64",
   "metadata": {},
   "outputs": [],
   "source": [
    "def get_schedule_and_emissions(\n",
    "    synth_data: pd.DataFrame,\n",
    "    optimization_method: str,\n",
    "    usage_power_kw_col: str,\n",
    "    moer_data_col: str,\n",
    "    name:str, \n",
    ") -> pd.DataFrame:\n",
    "    \"\"\"\n",
    "    Applies the optimizer and exposes the schedule, estimated emissions, actual emissions\n",
    "\n",
    "    synth_data: DataFrame of synthetic data\n",
    "    optimization_method: optimization method for optimizer\n",
    "    usage_power_kw_col: the name of the column in synth_data containing either\n",
    "     * variable charging curve (then each entry is a dataframe in the column)\n",
    "     * constant charging curve (each entry is a float in the column)\n",
    "    moer_data_col: the name of the column in synth_data containing the forecast\n",
    "       to plug into optimizer\n",
    "    name: prefix to use to label the output columns of optimizer, schedule, emissions\n",
    "    \"\"\"\n",
    "\n",
    "    get_charging_schedule_lambda = lambda x: x[\"usage\"].values.flatten()\n",
    "    get_total_emissions_lambda = lambda x: x[\"emissions_co2e_lb\"].sum()\n",
    "\n",
    "    synth_data[f\"time_needed_{name}\"] = synth_data.apply(\n",
    "        lambda x: evu.get_time_needed(\n",
    "            total_capacity_kWh=x[\"total_capacity\"],\n",
    "            usage_power_kW=x[usage_power_kw_col],\n",
    "            initial_capacity_fraction=x[\"initial_charge\"],\n",
    "        ),\n",
    "        axis=1\n",
    "    )\n",
    "    synth_data[f\"optimizer_{name}\"] = synth_data.apply(\n",
    "        lambda x: evu.get_schedule_and_cost_api(\n",
    "            usage_power_kw=x[usage_power_kw_col],\n",
    "            time_needed=x[f\"time_needed_{name}\"],\n",
    "            total_time_horizon=math.ceil(x.total_intervals_plugged_in),\n",
    "            moer_data=x[moer_data_col],\n",
    "            optimization_method=optimization_method,\n",
    "        ),\n",
    "        axis=1,\n",
    "    )\n",
    "\n",
    "    synth_data[f\"{name}_charging_schedule\"] = synth_data[\n",
    "        f\"optimizer_{name}\"\n",
    "    ].apply(get_charging_schedule_lambda)\n",
    "    synth_data[f\"{name}_estimated_emissions\"] = synth_data[f\"optimizer_{name}\"].apply(\n",
    "        get_total_emissions_lambda\n",
    "    )\n",
    "    synth_data[f\"{name}_actual_emissions\"] = synth_data.apply(\n",
    "        lambda x: evu.get_total_emission(\n",
    "            x.moer_data_actual[\"value\"],\n",
    "            x[f\"optimizer_{name}\"].energy_usage_mwh,\n",
    "        ),\n",
    "        axis=1\n",
    "    )\n",
    "    return synth_data"
   ]
  },
  {
   "cell_type": "code",
   "execution_count": 8,
   "id": "488c2a8e",
   "metadata": {},
   "outputs": [
    {
     "name": "stdout",
     "output_type": "stream",
     "text": [
      "== Sophisticated fit! ==\n",
      "== Simple fit! ==\n",
      "== Sophisticated fit! ==\n",
      "== Baseline fit! ==\n"
     ]
    }
   ],
   "source": [
    "synth_data = get_schedule_and_emissions(\n",
    "    synth_data,\n",
    "    optimization_method=\"auto\",\n",
    "    usage_power_kw_col=\"variable_power_output_rate\",\n",
    "    moer_data_col=\"moer_data_actual\",\n",
    "    name=\"sophisiticated_ideal\",\n",
    ")\n",
    "\n",
    "synth_data[\"constant_power_kW\"] = 150.0\n",
    "synth_data = get_schedule_and_emissions(\n",
    "    synth_data,\n",
    "    optimization_method=\"auto\",\n",
    "    usage_power_kw_col=\"constant_power_kW\",\n",
    "    moer_data_col=\"moer_data\",\n",
    "    name=\"simple\",\n",
    ")\n",
    "\n",
    "synth_data = get_schedule_and_emissions(\n",
    "    synth_data,\n",
    "    optimization_method=\"auto\",\n",
    "    usage_power_kw_col=\"variable_power_output_rate\",\n",
    "    moer_data_col=\"moer_data\",\n",
    "    name=\"sophisticated\",\n",
    ")\n",
    "\n",
    "synth_data = get_schedule_and_emissions(\n",
    "    synth_data,\n",
    "    optimization_method=\"baseline\",\n",
    "    usage_power_kw_col=\"variable_power_output_rate\",\n",
    "    moer_data_col=\"moer_data\",\n",
    "    name=\"baseline\",\n",
    ")"
   ]
  },
  {
   "cell_type": "code",
   "execution_count": 9,
   "id": "9da05f8e",
   "metadata": {},
   "outputs": [
    {
     "name": "stdout",
     "output_type": "stream",
     "text": [
      "== Sophisticated fit! ==\n"
     ]
    }
   ],
   "source": [
    "synth_data[\"constant_power_kW_test\"] = 150.0\n",
    "synth_data = get_schedule_and_emissions(\n",
    "    synth_data,\n",
    "    optimization_method=\"sophisticated\",\n",
    "    usage_power_kw_col=\"constant_power_kW_test\",\n",
    "    moer_data_col=\"moer_data\",\n",
    "    name=\"constant_power_kW_test\",\n",
    ")"
   ]
  },
  {
   "cell_type": "code",
   "execution_count": 10,
   "id": "22e9979c",
   "metadata": {},
   "outputs": [
    {
     "data": {
      "text/html": [
       "<div>\n",
       "<style scoped>\n",
       "    .dataframe tbody tr th:only-of-type {\n",
       "        vertical-align: middle;\n",
       "    }\n",
       "\n",
       "    .dataframe tbody tr th {\n",
       "        vertical-align: top;\n",
       "    }\n",
       "\n",
       "    .dataframe thead th {\n",
       "        text-align: right;\n",
       "    }\n",
       "</style>\n",
       "<table border=\"1\" class=\"dataframe\">\n",
       "  <thead>\n",
       "    <tr style=\"text-align: right;\">\n",
       "      <th></th>\n",
       "      <th>time</th>\n",
       "      <th>power_kw</th>\n",
       "    </tr>\n",
       "  </thead>\n",
       "  <tbody>\n",
       "    <tr>\n",
       "      <th>0</th>\n",
       "      <td>0</td>\n",
       "      <td>249.363487</td>\n",
       "    </tr>\n",
       "  </tbody>\n",
       "</table>\n",
       "</div>"
      ],
      "text/plain": [
       "   time    power_kw\n",
       "0     0  249.363487"
      ]
     },
     "execution_count": 10,
     "metadata": {},
     "output_type": "execute_result"
    }
   ],
   "source": [
    "TEST_CURVE = [[0.0, 1000.0], [1.0, 1.0]]\n",
    "test_curve = pd.DataFrame(\n",
    "        columns=[\"SoC\", \"kW\"],\n",
    "        data = TEST_CURVE,\n",
    "    )\n",
    "\n",
    "initial_charge = synth_data.iloc[0].initial_charge\n",
    "capacity_kWh = synth_data.iloc[0].total_capacity\n",
    "b.Battery(\n",
    "    initial_soc = initial_charge, \n",
    "    charging_curve = test_curve,\n",
    "    capacity_kWh = capacity_kWh\n",
    ").get_usage_power_kw_df()"
   ]
  },
  {
   "cell_type": "code",
   "execution_count": 11,
   "id": "ccceffca",
   "metadata": {},
   "outputs": [
    {
     "name": "stdout",
     "output_type": "stream",
     "text": [
      "== Simple fit! ==\n"
     ]
    }
   ],
   "source": [
    "synth_data[\"variable_power_output_rate_test\"] = synth_data.apply( \n",
    "    lambda x: b.Battery(\n",
    "        initial_soc = x.initial_charge, \n",
    "        charging_curve = test_curve,\n",
    "        capacity_kWh = x.total_capacity\n",
    "    ).get_usage_power_kw_df(),\n",
    "    axis=1\n",
    "    )\n",
    "\n",
    "synth_data = get_schedule_and_emissions(\n",
    "    synth_data,\n",
    "    optimization_method=\"auto\",\n",
    "    usage_power_kw_col=\"variable_power_output_rate_test\",\n",
    "    moer_data_col=\"moer_data\",\n",
    "    name=\"variable_power_kW_test\",\n",
    ")"
   ]
  },
  {
   "cell_type": "code",
   "execution_count": 12,
   "id": "8d5bff14",
   "metadata": {},
   "outputs": [
    {
     "data": {
      "text/plain": [
       "<Axes: >"
      ]
     },
     "execution_count": 12,
     "metadata": {},
     "output_type": "execute_result"
    },
    {
     "data": {
      "image/png": "[encoded data removed]",
      "text/plain": [
       "<Figure size 640x480 with 1 Axes>"
      ]
     },
     "metadata": {},
     "output_type": "display_data"
    }
   ],
   "source": [
    "pd.Series(synth_data[\"variable_power_kW_test_charging_schedule\"].iloc[0]).plot()"
   ]
  }
 ],
 "metadata": {
  "kernelspec": {
   "display_name": "Python 3 (ipykernel)",
   "language": "python",
   "name": "python3"
  },
  "language_info": {
   "codemirror_mode": {
    "name": "ipython",
    "version": 3
   },
   "file_extension": ".py",
   "mimetype": "text/x-python",
   "name": "python",
   "nbconvert_exporter": "python",
   "pygments_lexer": "ipython3",
   "version": "3.9.16"
  }
 },
 "nbformat": 4,
 "nbformat_minor": 5
}
