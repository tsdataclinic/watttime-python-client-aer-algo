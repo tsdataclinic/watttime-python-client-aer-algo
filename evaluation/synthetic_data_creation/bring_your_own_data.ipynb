{
 "cells": [
  {
   "cell_type": "markdown",
   "metadata": {},
   "source": [
    "# Bring Your Own Data"
   ]
  },
  {
   "cell_type": "code",
   "execution_count": 1,
   "metadata": {},
   "outputs": [],
   "source": [
    "import os\n",
    "os.chdir(f\"/home/{os.getlogin()}/watttime-python-client-aer-algo\")\n",
    "\n",
    "import evaluation.metrics as m\n",
    "import evaluation.eval_framework as evu\n",
    "import pandas as pd\n",
    "import math\n",
    "\n",
    "username = os.getenv(\"WATTTIME_USER\")\n",
    "password = os.getenv(\"WATTTIME_PASSWORD\")"
   ]
  },
  {
   "cell_type": "markdown",
   "metadata": {},
   "source": [
    "## Required fields\n",
    "- `power_rate`: float in kWh or MWh\n",
    "- `session_start_time`: datetime64[ns] '2023-06-07 16:19:10'\n",
    "- `end_start_time`: datetime64[ns] '2023-06-07 20:30:10'\n",
    "\n",
    "## Derived Fields\n",
    "- `time_needed`: int\n",
    "- `total_intervals`: int\n",
    "\n",
    "### Notes\n",
    "\n",
    "- The example below assumes that the user / device is expressing total charge needed as a time. For example, if I need 40 kW of power to fully charge my device, and my power output rate is 10 kWh, then I need (40/10) * 60 minutes of charge.\n",
    "- evu.convert_to_utc() to convert a time expressed in any local time to UTC\n",
    "- evu.intervalize_power_rate() to convert a power rate from kilowatts to a 5-minute interval rate, optionally in megawatts\n",
    "- Use the sanitize functions to convert float to int"
   ]
  },
  {
   "cell_type": "code",
   "execution_count": 2,
   "metadata": {},
   "outputs": [],
   "source": [
    "def sanitize_time_needed(x):\n",
    "    return int(x / 300.0) * 5\n",
    "\n",
    "def sanitize_total_intervals(x):\n",
    "    return math.ceil(x)"
   ]
  },
  {
   "cell_type": "code",
   "execution_count": 3,
   "metadata": {},
   "outputs": [],
   "source": [
    "example_df = pd.DataFrame([['2023-01-03 03:17:26',\n",
    "        '2023-01-03 09:32:52.456704',\n",
    "        326.4],\n",
    "       ['2023-01-04 06:20:50',\n",
    "        '2023-01-04 13:28:55.231872',\n",
    "        326.4],\n",
    "       ['2023-01-13 11:05:16',\n",
    "        '2023-01-13 18:08:20.434752',\n",
    "        326.4],\n",
    "       ['2023-01-14 13:56:37',\n",
    "        '2023-01-14 22:01:04.455693',\n",
    "        326.4],\n",
    "       ['2023-01-19 07:52:55',\n",
    "        '2023-01-19 16:51:48.332139',\n",
    "        326.4]],\n",
    "        columns = [\"session_start_time\",\"session_end_time\",\"power_rate\"]\n",
    ")\n",
    "\n",
    "example_df[\"session_start_time\"] = pd.to_datetime(example_df[\"session_start_time\"])\n",
    "example_df[\"session_end_time\"] = pd.to_datetime(example_df[\"session_end_time\"])"
   ]
  },
  {
   "cell_type": "code",
   "execution_count": 4,
   "metadata": {},
   "outputs": [
    {
     "data": {
      "text/html": [
       "<div>\n",
       "<style scoped>\n",
       "    .dataframe tbody tr th:only-of-type {\n",
       "        vertical-align: middle;\n",
       "    }\n",
       "\n",
       "    .dataframe tbody tr th {\n",
       "        vertical-align: top;\n",
       "    }\n",
       "\n",
       "    .dataframe thead th {\n",
       "        text-align: right;\n",
       "    }\n",
       "</style>\n",
       "<table border=\"1\" class=\"dataframe\">\n",
       "  <thead>\n",
       "    <tr style=\"text-align: right;\">\n",
       "      <th></th>\n",
       "      <th>session_start_time</th>\n",
       "      <th>session_end_time</th>\n",
       "      <th>power_rate</th>\n",
       "    </tr>\n",
       "  </thead>\n",
       "  <tbody>\n",
       "    <tr>\n",
       "      <th>0</th>\n",
       "      <td>2023-01-03 03:17:26</td>\n",
       "      <td>2023-01-03 09:32:52.456704</td>\n",
       "      <td>326.4</td>\n",
       "    </tr>\n",
       "    <tr>\n",
       "      <th>1</th>\n",
       "      <td>2023-01-04 06:20:50</td>\n",
       "      <td>2023-01-04 13:28:55.231872</td>\n",
       "      <td>326.4</td>\n",
       "    </tr>\n",
       "    <tr>\n",
       "      <th>2</th>\n",
       "      <td>2023-01-13 11:05:16</td>\n",
       "      <td>2023-01-13 18:08:20.434752</td>\n",
       "      <td>326.4</td>\n",
       "    </tr>\n",
       "    <tr>\n",
       "      <th>3</th>\n",
       "      <td>2023-01-14 13:56:37</td>\n",
       "      <td>2023-01-14 22:01:04.455693</td>\n",
       "      <td>326.4</td>\n",
       "    </tr>\n",
       "    <tr>\n",
       "      <th>4</th>\n",
       "      <td>2023-01-19 07:52:55</td>\n",
       "      <td>2023-01-19 16:51:48.332139</td>\n",
       "      <td>326.4</td>\n",
       "    </tr>\n",
       "  </tbody>\n",
       "</table>\n",
       "</div>"
      ],
      "text/plain": [
       "   session_start_time           session_end_time  power_rate\n",
       "0 2023-01-03 03:17:26 2023-01-03 09:32:52.456704       326.4\n",
       "1 2023-01-04 06:20:50 2023-01-04 13:28:55.231872       326.4\n",
       "2 2023-01-13 11:05:16 2023-01-13 18:08:20.434752       326.4\n",
       "3 2023-01-14 13:56:37 2023-01-14 22:01:04.455693       326.4\n",
       "4 2023-01-19 07:52:55 2023-01-19 16:51:48.332139       326.4"
      ]
     },
     "execution_count": 4,
     "metadata": {},
     "output_type": "execute_result"
    }
   ],
   "source": [
    "example_df"
   ]
  },
  {
   "cell_type": "code",
   "execution_count": 6,
   "metadata": {},
   "outputs": [],
   "source": [
    "example_df[\"length_of_session_in_seconds\"] = (\n",
    "        example_df.session_end_time - example_df.session_start_time\n",
    "    ) / pd.Timedelta(seconds=1)\n",
    "\n",
    "example_df[\"total_intervals\"] = example_df[\"length_of_session_in_seconds\"] / 300\n",
    "example_df[\"total_intervals\"] = example_df[\"total_intervals\"].apply(lambda x: sanitize_total_intervals(x))\n",
    "example_df[\"time_needed\"] = example_df[\"length_of_session_in_seconds\"].apply(lambda x: sanitize_time_needed(x))\n",
    "\n",
    "example_df[\"power_rate\"] = example_df[\"power_rate\"].apply(lambda x: evu.intervalize_power_rate(x,convert_to_MWh= True))"
   ]
  },
  {
   "cell_type": "code",
   "execution_count": 7,
   "metadata": {},
   "outputs": [
    {
     "data": {
      "text/html": [
       "<div>\n",
       "<style scoped>\n",
       "    .dataframe tbody tr th:only-of-type {\n",
       "        vertical-align: middle;\n",
       "    }\n",
       "\n",
       "    .dataframe tbody tr th {\n",
       "        vertical-align: top;\n",
       "    }\n",
       "\n",
       "    .dataframe thead th {\n",
       "        text-align: right;\n",
       "    }\n",
       "</style>\n",
       "<table border=\"1\" class=\"dataframe\">\n",
       "  <thead>\n",
       "    <tr style=\"text-align: right;\">\n",
       "      <th></th>\n",
       "      <th>session_start_time</th>\n",
       "      <th>session_end_time</th>\n",
       "      <th>power_rate</th>\n",
       "      <th>length_of_session_in_seconds</th>\n",
       "      <th>total_intervals</th>\n",
       "      <th>time_needed</th>\n",
       "    </tr>\n",
       "  </thead>\n",
       "  <tbody>\n",
       "    <tr>\n",
       "      <th>0</th>\n",
       "      <td>2023-01-03 03:17:26</td>\n",
       "      <td>2023-01-03 09:32:52.456704</td>\n",
       "      <td>0.0272</td>\n",
       "      <td>22526.456704</td>\n",
       "      <td>76</td>\n",
       "      <td>375</td>\n",
       "    </tr>\n",
       "    <tr>\n",
       "      <th>1</th>\n",
       "      <td>2023-01-04 06:20:50</td>\n",
       "      <td>2023-01-04 13:28:55.231872</td>\n",
       "      <td>0.0272</td>\n",
       "      <td>25685.231872</td>\n",
       "      <td>86</td>\n",
       "      <td>425</td>\n",
       "    </tr>\n",
       "    <tr>\n",
       "      <th>2</th>\n",
       "      <td>2023-01-13 11:05:16</td>\n",
       "      <td>2023-01-13 18:08:20.434752</td>\n",
       "      <td>0.0272</td>\n",
       "      <td>25384.434752</td>\n",
       "      <td>85</td>\n",
       "      <td>420</td>\n",
       "    </tr>\n",
       "    <tr>\n",
       "      <th>3</th>\n",
       "      <td>2023-01-14 13:56:37</td>\n",
       "      <td>2023-01-14 22:01:04.455693</td>\n",
       "      <td>0.0272</td>\n",
       "      <td>29067.455693</td>\n",
       "      <td>97</td>\n",
       "      <td>480</td>\n",
       "    </tr>\n",
       "    <tr>\n",
       "      <th>4</th>\n",
       "      <td>2023-01-19 07:52:55</td>\n",
       "      <td>2023-01-19 16:51:48.332139</td>\n",
       "      <td>0.0272</td>\n",
       "      <td>32333.332139</td>\n",
       "      <td>108</td>\n",
       "      <td>535</td>\n",
       "    </tr>\n",
       "  </tbody>\n",
       "</table>\n",
       "</div>"
      ],
      "text/plain": [
       "   session_start_time           session_end_time  power_rate  \\\n",
       "0 2023-01-03 03:17:26 2023-01-03 09:32:52.456704      0.0272   \n",
       "1 2023-01-04 06:20:50 2023-01-04 13:28:55.231872      0.0272   \n",
       "2 2023-01-13 11:05:16 2023-01-13 18:08:20.434752      0.0272   \n",
       "3 2023-01-14 13:56:37 2023-01-14 22:01:04.455693      0.0272   \n",
       "4 2023-01-19 07:52:55 2023-01-19 16:51:48.332139      0.0272   \n",
       "\n",
       "   length_of_session_in_seconds  total_intervals  time_needed  \n",
       "0                  22526.456704               76          375  \n",
       "1                  25685.231872               86          425  \n",
       "2                  25384.434752               85          420  \n",
       "3                  29067.455693               97          480  \n",
       "4                  32333.332139              108          535  "
      ]
     },
     "execution_count": 7,
     "metadata": {},
     "output_type": "execute_result"
    }
   ],
   "source": [
    "example_df"
   ]
  },
  {
   "cell_type": "code",
   "execution_count": 8,
   "metadata": {},
   "outputs": [],
   "source": [
    "# Required fields are time_needed, total_intervals, power_rate, and session_start_time\n",
    "FILE_PATH = ''\n",
    "REGION = 'PJM_DC' # i.e. PJM_DC"
   ]
  },
  {
   "cell_type": "code",
   "execution_count": 9,
   "metadata": {},
   "outputs": [],
   "source": [
    "#df = pd.read_csv(FILE_PATH)\n",
    "df = example_df"
   ]
  },
  {
   "cell_type": "code",
   "execution_count": 10,
   "metadata": {},
   "outputs": [],
   "source": [
    "df[\"moer_forecast\"] = df.apply(\n",
    "    lambda x: evu.get_historical_fcst_data(\n",
    "        x.session_start_time, \n",
    "        x.total_intervals,\n",
    "        region=REGION\n",
    "    ),\n",
    "    axis=1,\n",
    ")\n",
    "\n",
    "df[\"moer_actual\"] = df.apply(\n",
    "    lambda x: evu.get_historical_actual_data(\n",
    "        x.session_start_time, \n",
    "        x.total_intervals,\n",
    "        region=REGION\n",
    "    ),\n",
    "    axis=1,\n",
    ")"
   ]
  },
  {
   "cell_type": "code",
   "execution_count": 11,
   "metadata": {},
   "outputs": [
    {
     "data": {
      "text/plain": [
       "<Axes: xlabel='point_time'>"
      ]
     },
     "execution_count": 11,
     "metadata": {},
     "output_type": "execute_result"
    },
    {
     "data": {
      "image/png": "[encoded data removed]",
      "text/plain": [
       "<Figure size 640x480 with 1 Axes>"
      ]
     },
     "metadata": {},
     "output_type": "display_data"
    }
   ],
   "source": [
    "df.iloc[0][\"moer_actual\"].set_index(\"point_time\").plot(kind=\"line\")"
   ]
  },
  {
   "cell_type": "code",
   "execution_count": 12,
   "metadata": {},
   "outputs": [
    {
     "data": {
      "text/plain": [
       "<Axes: xlabel='point_time'>"
      ]
     },
     "execution_count": 12,
     "metadata": {},
     "output_type": "execute_result"
    },
    {
     "data": {
      "image/png": "[encoded data removed]",
      "text/plain": [
       "<Figure size 640x480 with 1 Axes>"
      ]
     },
     "metadata": {},
     "output_type": "display_data"
    }
   ],
   "source": [
    "df.iloc[0][\"moer_forecast\"].set_index(\"point_time\")[\"value\"].plot(kind=\"line\")"
   ]
  },
  {
   "cell_type": "code",
   "execution_count": 14,
   "metadata": {},
   "outputs": [
    {
     "name": "stdout",
     "output_type": "stream",
     "text": [
      "== Simple fit! ==\n",
      "== Simple fit! ==\n",
      "== Simple fit! ==\n",
      "== Simple fit! ==\n",
      "== Simple fit! ==\n"
     ]
    },
    {
     "data": {
      "text/plain": [
       "1.2361556800000002"
      ]
     },
     "execution_count": 14,
     "metadata": {},
     "output_type": "execute_result"
    }
   ],
   "source": [
    "get_charging_schedule = lambda x: x[\"usage\"].values.flatten()\n",
    "get_total_emissions = lambda x: x[\"emissions_co2e_lb\"].sum()\n",
    "\n",
    "# Function to apply optimization\n",
    "def apply_optimization(row, moer_data, optimization_method, power_rate_col = \"power_rate\", time_needed_col=\"time_needed\", total_intervals_col=\"total_intervals\"):\n",
    "    return evu.get_schedule_and_cost_api(\n",
    "        usage_power_kw=row[power_rate_col],\n",
    "        time_needed=row[time_needed_col],\n",
    "        total_time_horizon=row[total_intervals_col],\n",
    "        moer_data=moer_data,\n",
    "        optimization_method=optimization_method\n",
    "    )\n",
    "\n",
    "#Generate a schedule\n",
    "df[\"optimizer_simple\"] = df.apply(lambda x: apply_optimization(x, x.moer_forecast, \"auto\"), axis=1)\n",
    "# Calculate actual emissions\n",
    "df[\"actual_emissions\"] = df.apply(\n",
    "        lambda x: evu.get_total_emission(\n",
    "            x.moer_actual[\"value\"],\n",
    "            x.optimizer_simple.energy_usage_mwh\n",
    "        ),\n",
    "        axis=1\n",
    "    )\n",
    "\n",
    "df[\"optimizer_simple\"].apply(get_total_emissions).sum()"
   ]
  },
  {
   "cell_type": "code",
   "execution_count": 15,
   "metadata": {},
   "outputs": [],
   "source": [
    "schedules = df[\"optimizer_simple\"].apply(get_charging_schedule)"
   ]
  },
  {
   "cell_type": "code",
   "execution_count": 16,
   "metadata": {},
   "outputs": [
    {
     "data": {
      "text/plain": [
       "0    [5.0, 5.0, 5.0, 5.0, 5.0, 5.0, 5.0, 5.0, 5.0, ...\n",
       "1    [5.0, 5.0, 5.0, 5.0, 5.0, 5.0, 5.0, 5.0, 5.0, ...\n",
       "2    [5.0, 0.0, 5.0, 5.0, 5.0, 5.0, 5.0, 5.0, 5.0, ...\n",
       "3    [5.0, 5.0, 5.0, 5.0, 5.0, 5.0, 5.0, 5.0, 5.0, ...\n",
       "4    [5.0, 5.0, 5.0, 5.0, 5.0, 5.0, 5.0, 5.0, 5.0, ...\n",
       "Name: optimizer_simple, dtype: object"
      ]
     },
     "execution_count": 16,
     "metadata": {},
     "output_type": "execute_result"
    }
   ],
   "source": [
    "schedules"
   ]
  }
 ],
 "metadata": {
  "kernelspec": {
   "display_name": "Python 3",
   "language": "python",
   "name": "python3"
  },
  "language_info": {
   "codemirror_mode": {
    "name": "ipython",
    "version": 3
   },
   "file_extension": ".py",
   "mimetype": "text/x-python",
   "name": "python",
   "nbconvert_exporter": "python",
   "pygments_lexer": "ipython3",
   "version": "3.9.16"
  }
 },
 "nbformat": 4,
 "nbformat_minor": 2
}
